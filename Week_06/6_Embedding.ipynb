{
 "cells": [
  {
   "cell_type": "markdown",
   "metadata": {},
   "source": [
    "# GENSIM for word embeddings "
   ]
  },
  {
   "cell_type": "markdown",
   "metadata": {},
   "source": [
    "- THE GENSIM LIBRARY\n",
    "\n",
    "    - Gensim is an open-source python library for natural language processing.\n",
    "\n",
    "    - It was developed and is maintained by the Czech natural language processing researcher Radim Řehůřek. \n",
    "\n",
    "    - In the previous tutorial, we have seen how you can use this package to do topic modeling.\n",
    "    \n",
    "    - Here we use `gensim` for word embedding. \n",
    "    "
   ]
  },
  {
   "cell_type": "markdown",
   "metadata": {},
   "source": [
    "- Word embeddings can be used for:\n",
    "    - automated text tagging\n",
    "    - recommendation engines\n",
    "    - synonyms and search query expansion\n",
    "    - machine translation\n",
    "    - plain feature engineering"
   ]
  },
  {
   "cell_type": "markdown",
   "metadata": {},
   "source": [
    "One example\n",
    "\n",
    "<img src=\"1.png\" alt=\"drawing\" width=\"600\"/>"
   ]
  },
  {
   "cell_type": "markdown",
   "metadata": {},
   "source": [
    "Another example\n",
    "\n",
    "<img src=\"2.png\" alt=\"drawing\" width=\"400\"/>"
   ]
  },
  {
   "cell_type": "markdown",
   "metadata": {},
   "source": [
    "## Software for word embeddings "
   ]
  },
  {
   "cell_type": "markdown",
   "metadata": {},
   "source": [
    "- Software for training and using word embeddings includes \n",
    "    - Tomas Mikolov's Word2vec, \n",
    "    - Stanford University's GloVe, GN-GloVe \n",
    "    - AllenNLP's ELMo,\n",
    "    - BERT\n",
    "    - fastText \n",
    "    - Gensim\n",
    "    - Indra and Deeplearning4j\n",
    "  \n",
    "    - Principal Component Analysis (PCA) and T-Distributed Stochastic Neighbour Embedding (t-SNE) are both used to reduce the dimensionality of word vector spaces and visualize word embeddings and clusters."
   ]
  },
  {
   "cell_type": "code",
   "execution_count": 1,
   "metadata": {},
   "outputs": [],
   "source": [
    "import pandas as pd\n",
    "import numpy as np\n",
    "\n",
    "import re  # For preprocessing\n",
    "\n",
    "# from collections import defaultdict\n",
    "# from time import time  # To time our operations\n",
    "# import warnings\n",
    "# warnings.filterwarnings('ignore')\n",
    "# import logging  # Setting up the loggings to monitor gensim\n",
    "# logging.basicConfig(format=\"%(levelname)s - %(asctime)s: %(message)s\", datefmt= '%H:%M:%S', level=logging.INFO)"
   ]
  },
  {
   "cell_type": "markdown",
   "metadata": {},
   "source": [
    "## 1) CREATE A WORD2VEC MODEL\n",
    "\n",
    "- Training the model: Gensim Word2Vec Implementation:\n",
    "    - We use Gensim implementation of word2vec: https://radimrehurek.com/gensim/models/word2vec.html"
   ]
  },
  {
   "cell_type": "code",
   "execution_count": 2,
   "metadata": {
    "scrolled": true
   },
   "outputs": [
    {
     "data": {
      "text/plain": [
       "[['human', 'interface', 'computer'],\n",
       " ['survey', 'user', 'computer', 'system', 'response', 'time'],\n",
       " ['eps', 'user', 'interface', 'system'],\n",
       " ['system', 'human', 'system', 'eps'],\n",
       " ['user', 'response', 'time'],\n",
       " ['trees'],\n",
       " ['graph', 'trees'],\n",
       " ['graph', 'minors', 'trees'],\n",
       " ['graph', 'minors', 'survey']]"
      ]
     },
     "execution_count": 2,
     "metadata": {},
     "output_type": "execute_result"
    }
   ],
   "source": [
    "from gensim.models import Word2Vec\n",
    "from gensim.test.utils import common_texts, get_tmpfile\n",
    "\n",
    "common_texts"
   ]
  },
  {
   "cell_type": "markdown",
   "metadata": {},
   "source": [
    "## train a simpliest word embedding by yourself"
   ]
  },
  {
   "cell_type": "code",
   "execution_count": 3,
   "metadata": {
    "scrolled": true
   },
   "outputs": [],
   "source": [
    "model_1 = Word2Vec(common_texts, vector_size=100, window=5, min_count=1, workers=4)"
   ]
  },
  {
   "cell_type": "markdown",
   "metadata": {},
   "source": [
    "The hyperparameters of `Word2Vec`:\n",
    "\n",
    "- `vector_size`: # of dimensions of the embeddings and the default is 100.\n",
    "- `window`: The maximum distance between a target word and words around the target word. The default window is 5.\n",
    "- `min_count`: The minimum count of words to consider when training the model; words with occurrence less than this count will be ignored. The default for min_count is 5.\n",
    "- `workers`: # of worker threads used to train the model; depends on your computer.\n",
    "- `sg`: The training algorithm, either CBOW(0) or skip-gram (1). The default training algorithm is CBOW."
   ]
  },
  {
   "cell_type": "code",
   "execution_count": 5,
   "metadata": {},
   "outputs": [
    {
     "data": {
      "text/plain": [
       "array([-0.00515774, -0.00667028, -0.0077791 ,  0.00831315, -0.00198292,\n",
       "       -0.00685696, -0.0041556 ,  0.00514562, -0.00286997, -0.00375075,\n",
       "        0.0016219 , -0.0027771 , -0.00158482,  0.0010748 , -0.00297881,\n",
       "        0.00852176,  0.00391207, -0.00996176,  0.00626142, -0.00675622,\n",
       "        0.00076966,  0.00440552, -0.00510486, -0.00211128,  0.00809783,\n",
       "       -0.00424503, -0.00763848,  0.00926061, -0.00215612, -0.00472081,\n",
       "        0.00857329,  0.00428459,  0.0043261 ,  0.00928722, -0.00845554,\n",
       "        0.00525685,  0.00203994,  0.0041895 ,  0.00169839,  0.00446543,\n",
       "        0.0044876 ,  0.0061063 , -0.00320303, -0.00457706, -0.00042664,\n",
       "        0.00253447, -0.00326412,  0.00605948,  0.00415534,  0.00776685,\n",
       "        0.00257002,  0.00811905, -0.00138761,  0.00808028,  0.0037181 ,\n",
       "       -0.00804967, -0.00393476, -0.0024726 ,  0.00489447, -0.00087241,\n",
       "       -0.00283173,  0.00783599,  0.00932561, -0.0016154 , -0.00516075,\n",
       "       -0.00470313, -0.00484746, -0.00960562,  0.00137242, -0.00422615,\n",
       "        0.00252744,  0.00561612, -0.00406709, -0.00959937,  0.00154715,\n",
       "       -0.00670207,  0.0024959 , -0.00378173,  0.00708048,  0.00064041,\n",
       "        0.00356198, -0.00273993, -0.00171105,  0.00765502,  0.00140809,\n",
       "       -0.00585215, -0.00783678,  0.00123305,  0.00645651,  0.00555797,\n",
       "       -0.00897966,  0.00859466,  0.00404816,  0.00747178,  0.00974917,\n",
       "       -0.0072917 , -0.00904259,  0.0058377 ,  0.00939395,  0.00350795],\n",
       "      dtype=float32)"
      ]
     },
     "execution_count": 5,
     "metadata": {},
     "output_type": "execute_result"
    }
   ],
   "source": [
    "vector = model_1.wv['computer']  # 'wv': word to vector\n",
    "vector"
   ]
  },
  {
   "cell_type": "code",
   "execution_count": 6,
   "metadata": {},
   "outputs": [
    {
     "data": {
      "text/plain": [
       "100"
      ]
     },
     "execution_count": 6,
     "metadata": {},
     "output_type": "execute_result"
    }
   ],
   "source": [
    "len(vector)"
   ]
  },
  {
   "cell_type": "code",
   "execution_count": 7,
   "metadata": {
    "scrolled": true
   },
   "outputs": [
    {
     "ename": "KeyError",
     "evalue": "\"Key 'hi' not present\"",
     "output_type": "error",
     "traceback": [
      "\u001b[0;31m---------------------------------------------------------------------------\u001b[0m",
      "\u001b[0;31mKeyError\u001b[0m                                  Traceback (most recent call last)",
      "Cell \u001b[0;32mIn[7], line 2\u001b[0m\n\u001b[1;32m      1\u001b[0m \u001b[38;5;66;03m# new words? cannot handle\u001b[39;00m\n\u001b[0;32m----> 2\u001b[0m \u001b[43mmodel_1\u001b[49m\u001b[38;5;241;43m.\u001b[39;49m\u001b[43mwv\u001b[49m\u001b[43m[\u001b[49m\u001b[38;5;124;43m'\u001b[39;49m\u001b[38;5;124;43mhi\u001b[39;49m\u001b[38;5;124;43m'\u001b[39;49m\u001b[43m]\u001b[49m\n",
      "File \u001b[0;32m~/opt/anaconda3/envs/CSS2023/lib/python3.10/site-packages/gensim/models/keyedvectors.py:403\u001b[0m, in \u001b[0;36mKeyedVectors.__getitem__\u001b[0;34m(self, key_or_keys)\u001b[0m\n\u001b[1;32m    389\u001b[0m \u001b[38;5;124;03m\"\"\"Get vector representation of `key_or_keys`.\u001b[39;00m\n\u001b[1;32m    390\u001b[0m \n\u001b[1;32m    391\u001b[0m \u001b[38;5;124;03mParameters\u001b[39;00m\n\u001b[0;32m   (...)\u001b[0m\n\u001b[1;32m    400\u001b[0m \n\u001b[1;32m    401\u001b[0m \u001b[38;5;124;03m\"\"\"\u001b[39;00m\n\u001b[1;32m    402\u001b[0m \u001b[38;5;28;01mif\u001b[39;00m \u001b[38;5;28misinstance\u001b[39m(key_or_keys, _KEY_TYPES):\n\u001b[0;32m--> 403\u001b[0m     \u001b[38;5;28;01mreturn\u001b[39;00m \u001b[38;5;28;43mself\u001b[39;49m\u001b[38;5;241;43m.\u001b[39;49m\u001b[43mget_vector\u001b[49m\u001b[43m(\u001b[49m\u001b[43mkey_or_keys\u001b[49m\u001b[43m)\u001b[49m\n\u001b[1;32m    405\u001b[0m \u001b[38;5;28;01mreturn\u001b[39;00m vstack([\u001b[38;5;28mself\u001b[39m\u001b[38;5;241m.\u001b[39mget_vector(key) \u001b[38;5;28;01mfor\u001b[39;00m key \u001b[38;5;129;01min\u001b[39;00m key_or_keys])\n",
      "File \u001b[0;32m~/opt/anaconda3/envs/CSS2023/lib/python3.10/site-packages/gensim/models/keyedvectors.py:446\u001b[0m, in \u001b[0;36mKeyedVectors.get_vector\u001b[0;34m(self, key, norm)\u001b[0m\n\u001b[1;32m    422\u001b[0m \u001b[38;5;28;01mdef\u001b[39;00m \u001b[38;5;21mget_vector\u001b[39m(\u001b[38;5;28mself\u001b[39m, key, norm\u001b[38;5;241m=\u001b[39m\u001b[38;5;28;01mFalse\u001b[39;00m):\n\u001b[1;32m    423\u001b[0m     \u001b[38;5;124;03m\"\"\"Get the key's vector, as a 1D numpy array.\u001b[39;00m\n\u001b[1;32m    424\u001b[0m \n\u001b[1;32m    425\u001b[0m \u001b[38;5;124;03m    Parameters\u001b[39;00m\n\u001b[0;32m   (...)\u001b[0m\n\u001b[1;32m    444\u001b[0m \n\u001b[1;32m    445\u001b[0m \u001b[38;5;124;03m    \"\"\"\u001b[39;00m\n\u001b[0;32m--> 446\u001b[0m     index \u001b[38;5;241m=\u001b[39m \u001b[38;5;28;43mself\u001b[39;49m\u001b[38;5;241;43m.\u001b[39;49m\u001b[43mget_index\u001b[49m\u001b[43m(\u001b[49m\u001b[43mkey\u001b[49m\u001b[43m)\u001b[49m\n\u001b[1;32m    447\u001b[0m     \u001b[38;5;28;01mif\u001b[39;00m norm:\n\u001b[1;32m    448\u001b[0m         \u001b[38;5;28mself\u001b[39m\u001b[38;5;241m.\u001b[39mfill_norms()\n",
      "File \u001b[0;32m~/opt/anaconda3/envs/CSS2023/lib/python3.10/site-packages/gensim/models/keyedvectors.py:420\u001b[0m, in \u001b[0;36mKeyedVectors.get_index\u001b[0;34m(self, key, default)\u001b[0m\n\u001b[1;32m    418\u001b[0m     \u001b[38;5;28;01mreturn\u001b[39;00m default\n\u001b[1;32m    419\u001b[0m \u001b[38;5;28;01melse\u001b[39;00m:\n\u001b[0;32m--> 420\u001b[0m     \u001b[38;5;28;01mraise\u001b[39;00m \u001b[38;5;167;01mKeyError\u001b[39;00m(\u001b[38;5;124mf\u001b[39m\u001b[38;5;124m\"\u001b[39m\u001b[38;5;124mKey \u001b[39m\u001b[38;5;124m'\u001b[39m\u001b[38;5;132;01m{\u001b[39;00mkey\u001b[38;5;132;01m}\u001b[39;00m\u001b[38;5;124m'\u001b[39m\u001b[38;5;124m not present\u001b[39m\u001b[38;5;124m\"\u001b[39m)\n",
      "\u001b[0;31mKeyError\u001b[0m: \"Key 'hi' not present\""
     ]
    }
   ],
   "source": [
    "# new words? cannot handle\n",
    "model_1.wv['hi']"
   ]
  },
  {
   "cell_type": "code",
   "execution_count": 8,
   "metadata": {},
   "outputs": [
    {
     "data": {
      "text/plain": [
       "[('user', 0.06793873757123947),\n",
       " ('survey', 0.033640600740909576),\n",
       " ('eps', 0.0093911811709404),\n",
       " ('human', 0.008315952494740486),\n",
       " ('minors', 0.004503021948039532),\n",
       " ('system', -0.010839170776307583),\n",
       " ('trees', -0.023671651259064674),\n",
       " ('computer', -0.09575343132019043),\n",
       " ('time', -0.11410721391439438),\n",
       " ('response', -0.11557212471961975)]"
      ]
     },
     "execution_count": 8,
     "metadata": {},
     "output_type": "execute_result"
    }
   ],
   "source": [
    "model_1.wv.most_similar('graph')"
   ]
  },
  {
   "cell_type": "code",
   "execution_count": 9,
   "metadata": {},
   "outputs": [],
   "source": [
    "## save model\n",
    "model_1.save(\"word2vec.model\")"
   ]
  },
  {
   "cell_type": "markdown",
   "metadata": {},
   "source": [
    "## 2) WORD EMBEDDING Using a Real Dataset"
   ]
  },
  {
   "cell_type": "markdown",
   "metadata": {},
   "source": [
    "In this example, I use [a dataset from Kaggle](https://www.kaggle.com/CooperUnion/cardataset). This cars dataset includes features such as make, model, year, engine, and other properties of the car. We will use these features to generate the word embeddings for each make model and then compare the similarities between different make model. The following dataframe shows the detail information of this dataset."
   ]
  },
  {
   "cell_type": "markdown",
   "metadata": {},
   "source": [
    "Note what we are doing: **the structure of word embedding can not only be used on text but also on observation-feature dataframes**! Fundamentally it's about dimension reduction. \n",
    "\n",
    "In fact this is [also true for topic modeling (LDA)](https://www.journals.uchicago.edu/doi/10.1086/705331)"
   ]
  },
  {
   "cell_type": "code",
   "execution_count": 10,
   "metadata": {},
   "outputs": [
    {
     "data": {
      "text/html": [
       "<div>\n",
       "<style scoped>\n",
       "    .dataframe tbody tr th:only-of-type {\n",
       "        vertical-align: middle;\n",
       "    }\n",
       "\n",
       "    .dataframe tbody tr th {\n",
       "        vertical-align: top;\n",
       "    }\n",
       "\n",
       "    .dataframe thead th {\n",
       "        text-align: right;\n",
       "    }\n",
       "</style>\n",
       "<table border=\"1\" class=\"dataframe\">\n",
       "  <thead>\n",
       "    <tr style=\"text-align: right;\">\n",
       "      <th></th>\n",
       "      <th>Make</th>\n",
       "      <th>Model</th>\n",
       "      <th>Year</th>\n",
       "      <th>Engine Fuel Type</th>\n",
       "      <th>Engine HP</th>\n",
       "      <th>Engine Cylinders</th>\n",
       "      <th>Transmission Type</th>\n",
       "      <th>Driven_Wheels</th>\n",
       "      <th>Number of Doors</th>\n",
       "      <th>Market Category</th>\n",
       "      <th>Vehicle Size</th>\n",
       "      <th>Vehicle Style</th>\n",
       "      <th>highway MPG</th>\n",
       "      <th>city mpg</th>\n",
       "      <th>Popularity</th>\n",
       "      <th>MSRP</th>\n",
       "    </tr>\n",
       "  </thead>\n",
       "  <tbody>\n",
       "    <tr>\n",
       "      <th>0</th>\n",
       "      <td>BMW</td>\n",
       "      <td>1 Series M</td>\n",
       "      <td>2011</td>\n",
       "      <td>premium unleaded (required)</td>\n",
       "      <td>335.0</td>\n",
       "      <td>6.0</td>\n",
       "      <td>MANUAL</td>\n",
       "      <td>rear wheel drive</td>\n",
       "      <td>2.0</td>\n",
       "      <td>Factory Tuner,Luxury,High-Performance</td>\n",
       "      <td>Compact</td>\n",
       "      <td>Coupe</td>\n",
       "      <td>26</td>\n",
       "      <td>19</td>\n",
       "      <td>3916</td>\n",
       "      <td>46135</td>\n",
       "    </tr>\n",
       "    <tr>\n",
       "      <th>1</th>\n",
       "      <td>BMW</td>\n",
       "      <td>1 Series</td>\n",
       "      <td>2011</td>\n",
       "      <td>premium unleaded (required)</td>\n",
       "      <td>300.0</td>\n",
       "      <td>6.0</td>\n",
       "      <td>MANUAL</td>\n",
       "      <td>rear wheel drive</td>\n",
       "      <td>2.0</td>\n",
       "      <td>Luxury,Performance</td>\n",
       "      <td>Compact</td>\n",
       "      <td>Convertible</td>\n",
       "      <td>28</td>\n",
       "      <td>19</td>\n",
       "      <td>3916</td>\n",
       "      <td>40650</td>\n",
       "    </tr>\n",
       "    <tr>\n",
       "      <th>2</th>\n",
       "      <td>BMW</td>\n",
       "      <td>1 Series</td>\n",
       "      <td>2011</td>\n",
       "      <td>premium unleaded (required)</td>\n",
       "      <td>300.0</td>\n",
       "      <td>6.0</td>\n",
       "      <td>MANUAL</td>\n",
       "      <td>rear wheel drive</td>\n",
       "      <td>2.0</td>\n",
       "      <td>Luxury,High-Performance</td>\n",
       "      <td>Compact</td>\n",
       "      <td>Coupe</td>\n",
       "      <td>28</td>\n",
       "      <td>20</td>\n",
       "      <td>3916</td>\n",
       "      <td>36350</td>\n",
       "    </tr>\n",
       "    <tr>\n",
       "      <th>3</th>\n",
       "      <td>BMW</td>\n",
       "      <td>1 Series</td>\n",
       "      <td>2011</td>\n",
       "      <td>premium unleaded (required)</td>\n",
       "      <td>230.0</td>\n",
       "      <td>6.0</td>\n",
       "      <td>MANUAL</td>\n",
       "      <td>rear wheel drive</td>\n",
       "      <td>2.0</td>\n",
       "      <td>Luxury,Performance</td>\n",
       "      <td>Compact</td>\n",
       "      <td>Coupe</td>\n",
       "      <td>28</td>\n",
       "      <td>18</td>\n",
       "      <td>3916</td>\n",
       "      <td>29450</td>\n",
       "    </tr>\n",
       "    <tr>\n",
       "      <th>4</th>\n",
       "      <td>BMW</td>\n",
       "      <td>1 Series</td>\n",
       "      <td>2011</td>\n",
       "      <td>premium unleaded (required)</td>\n",
       "      <td>230.0</td>\n",
       "      <td>6.0</td>\n",
       "      <td>MANUAL</td>\n",
       "      <td>rear wheel drive</td>\n",
       "      <td>2.0</td>\n",
       "      <td>Luxury</td>\n",
       "      <td>Compact</td>\n",
       "      <td>Convertible</td>\n",
       "      <td>28</td>\n",
       "      <td>18</td>\n",
       "      <td>3916</td>\n",
       "      <td>34500</td>\n",
       "    </tr>\n",
       "  </tbody>\n",
       "</table>\n",
       "</div>"
      ],
      "text/plain": [
       "  Make       Model  Year             Engine Fuel Type  Engine HP  \\\n",
       "0  BMW  1 Series M  2011  premium unleaded (required)      335.0   \n",
       "1  BMW    1 Series  2011  premium unleaded (required)      300.0   \n",
       "2  BMW    1 Series  2011  premium unleaded (required)      300.0   \n",
       "3  BMW    1 Series  2011  premium unleaded (required)      230.0   \n",
       "4  BMW    1 Series  2011  premium unleaded (required)      230.0   \n",
       "\n",
       "   Engine Cylinders Transmission Type     Driven_Wheels  Number of Doors  \\\n",
       "0               6.0            MANUAL  rear wheel drive              2.0   \n",
       "1               6.0            MANUAL  rear wheel drive              2.0   \n",
       "2               6.0            MANUAL  rear wheel drive              2.0   \n",
       "3               6.0            MANUAL  rear wheel drive              2.0   \n",
       "4               6.0            MANUAL  rear wheel drive              2.0   \n",
       "\n",
       "                         Market Category Vehicle Size Vehicle Style  \\\n",
       "0  Factory Tuner,Luxury,High-Performance      Compact         Coupe   \n",
       "1                     Luxury,Performance      Compact   Convertible   \n",
       "2                Luxury,High-Performance      Compact         Coupe   \n",
       "3                     Luxury,Performance      Compact         Coupe   \n",
       "4                                 Luxury      Compact   Convertible   \n",
       "\n",
       "   highway MPG  city mpg  Popularity   MSRP  \n",
       "0           26        19        3916  46135  \n",
       "1           28        19        3916  40650  \n",
       "2           28        20        3916  36350  \n",
       "3           28        18        3916  29450  \n",
       "4           28        18        3916  34500  "
      ]
     },
     "execution_count": 10,
     "metadata": {},
     "output_type": "execute_result"
    }
   ],
   "source": [
    "df = pd.read_csv('data.csv')\n",
    "df.head()"
   ]
  },
  {
   "cell_type": "markdown",
   "metadata": {},
   "source": [
    "### PRE-PROCESS WORDS"
   ]
  },
  {
   "cell_type": "markdown",
   "metadata": {},
   "source": [
    "- Cleaning \n",
    "    - Removing the missing values;\n",
    "    - Lemmatizing;\n",
    "    - Removing the stopwords;\n",
    "    - Removes non-alphabetic characters: regular expression;\n",
    "    - Bigrams: We can use Gensim Phrases package to automatically detect common phrases (bigrams) from a list of sentences. https://radimrehurek.com/gensim/models/phrases.html\n",
    "\n",
    "         ```python\n",
    "         from gensim.models.phrases import Phrases, Phraser\n",
    "         ```\n",
    "         - As Phrases() takes a list of list of words as input:\n",
    "        ```python\n",
    "        sent = [row.split() for row in df_clean['clean']]\n",
    "        ```\n"
   ]
  },
  {
   "cell_type": "markdown",
   "metadata": {},
   "source": [
    "Since the purpose of this tutorial is to learn how to generate word embeddings using genism library, I will not do the EDA and feature selection for the word2vec model for the sake of simplicity. \n",
    "<br> \n",
    "Genism word2Vec requires that a format of list of list for training where every document is contained in a list and every list contains list of tokens of that document. At first, we need to generate a format of list of list for training the make model word embedding. To be more specific, each make model is contained in a list and every list contains list of features of that make model.\n",
    "\n",
    "To achieve these, we need to do the following data preprocessing steps:\n",
    "\n",
    "1. Create a new column for Make Model \n",
    "2. Generate a format of list of list for each Make Model with the following features: Engine Fuel Type, Transmission Type, Driven_Wheels, Market Category, Vehicle Size and Vehicle Style. \n"
   ]
  },
  {
   "cell_type": "markdown",
   "metadata": {},
   "source": [
    "1. Create a new column for Make Model"
   ]
  },
  {
   "cell_type": "code",
   "execution_count": 11,
   "metadata": {},
   "outputs": [],
   "source": [
    "df['Maker_Model']= df['Make']+ \" \" + df['Model']"
   ]
  },
  {
   "cell_type": "markdown",
   "metadata": {},
   "source": [
    "2. Generate a format of list of list for each Make Model "
   ]
  },
  {
   "cell_type": "code",
   "execution_count": 12,
   "metadata": {},
   "outputs": [
    {
     "data": {
      "text/html": [
       "<div>\n",
       "<style scoped>\n",
       "    .dataframe tbody tr th:only-of-type {\n",
       "        vertical-align: middle;\n",
       "    }\n",
       "\n",
       "    .dataframe tbody tr th {\n",
       "        vertical-align: top;\n",
       "    }\n",
       "\n",
       "    .dataframe thead th {\n",
       "        text-align: right;\n",
       "    }\n",
       "</style>\n",
       "<table border=\"1\" class=\"dataframe\">\n",
       "  <thead>\n",
       "    <tr style=\"text-align: right;\">\n",
       "      <th></th>\n",
       "      <th>Make</th>\n",
       "      <th>Model</th>\n",
       "      <th>Year</th>\n",
       "      <th>Engine Fuel Type</th>\n",
       "      <th>Engine HP</th>\n",
       "      <th>Engine Cylinders</th>\n",
       "      <th>Transmission Type</th>\n",
       "      <th>Driven_Wheels</th>\n",
       "      <th>Number of Doors</th>\n",
       "      <th>Market Category</th>\n",
       "      <th>Vehicle Size</th>\n",
       "      <th>Vehicle Style</th>\n",
       "      <th>highway MPG</th>\n",
       "      <th>city mpg</th>\n",
       "      <th>Popularity</th>\n",
       "      <th>MSRP</th>\n",
       "      <th>Maker_Model</th>\n",
       "    </tr>\n",
       "  </thead>\n",
       "  <tbody>\n",
       "    <tr>\n",
       "      <th>0</th>\n",
       "      <td>BMW</td>\n",
       "      <td>1 Series M</td>\n",
       "      <td>2011</td>\n",
       "      <td>premium unleaded (required)</td>\n",
       "      <td>335.0</td>\n",
       "      <td>6.0</td>\n",
       "      <td>MANUAL</td>\n",
       "      <td>rear wheel drive</td>\n",
       "      <td>2.0</td>\n",
       "      <td>Factory Tuner,Luxury,High-Performance</td>\n",
       "      <td>Compact</td>\n",
       "      <td>Coupe</td>\n",
       "      <td>26</td>\n",
       "      <td>19</td>\n",
       "      <td>3916</td>\n",
       "      <td>46135</td>\n",
       "      <td>BMW 1 Series M</td>\n",
       "    </tr>\n",
       "    <tr>\n",
       "      <th>1</th>\n",
       "      <td>BMW</td>\n",
       "      <td>1 Series</td>\n",
       "      <td>2011</td>\n",
       "      <td>premium unleaded (required)</td>\n",
       "      <td>300.0</td>\n",
       "      <td>6.0</td>\n",
       "      <td>MANUAL</td>\n",
       "      <td>rear wheel drive</td>\n",
       "      <td>2.0</td>\n",
       "      <td>Luxury,Performance</td>\n",
       "      <td>Compact</td>\n",
       "      <td>Convertible</td>\n",
       "      <td>28</td>\n",
       "      <td>19</td>\n",
       "      <td>3916</td>\n",
       "      <td>40650</td>\n",
       "      <td>BMW 1 Series</td>\n",
       "    </tr>\n",
       "    <tr>\n",
       "      <th>2</th>\n",
       "      <td>BMW</td>\n",
       "      <td>1 Series</td>\n",
       "      <td>2011</td>\n",
       "      <td>premium unleaded (required)</td>\n",
       "      <td>300.0</td>\n",
       "      <td>6.0</td>\n",
       "      <td>MANUAL</td>\n",
       "      <td>rear wheel drive</td>\n",
       "      <td>2.0</td>\n",
       "      <td>Luxury,High-Performance</td>\n",
       "      <td>Compact</td>\n",
       "      <td>Coupe</td>\n",
       "      <td>28</td>\n",
       "      <td>20</td>\n",
       "      <td>3916</td>\n",
       "      <td>36350</td>\n",
       "      <td>BMW 1 Series</td>\n",
       "    </tr>\n",
       "    <tr>\n",
       "      <th>3</th>\n",
       "      <td>BMW</td>\n",
       "      <td>1 Series</td>\n",
       "      <td>2011</td>\n",
       "      <td>premium unleaded (required)</td>\n",
       "      <td>230.0</td>\n",
       "      <td>6.0</td>\n",
       "      <td>MANUAL</td>\n",
       "      <td>rear wheel drive</td>\n",
       "      <td>2.0</td>\n",
       "      <td>Luxury,Performance</td>\n",
       "      <td>Compact</td>\n",
       "      <td>Coupe</td>\n",
       "      <td>28</td>\n",
       "      <td>18</td>\n",
       "      <td>3916</td>\n",
       "      <td>29450</td>\n",
       "      <td>BMW 1 Series</td>\n",
       "    </tr>\n",
       "    <tr>\n",
       "      <th>4</th>\n",
       "      <td>BMW</td>\n",
       "      <td>1 Series</td>\n",
       "      <td>2011</td>\n",
       "      <td>premium unleaded (required)</td>\n",
       "      <td>230.0</td>\n",
       "      <td>6.0</td>\n",
       "      <td>MANUAL</td>\n",
       "      <td>rear wheel drive</td>\n",
       "      <td>2.0</td>\n",
       "      <td>Luxury</td>\n",
       "      <td>Compact</td>\n",
       "      <td>Convertible</td>\n",
       "      <td>28</td>\n",
       "      <td>18</td>\n",
       "      <td>3916</td>\n",
       "      <td>34500</td>\n",
       "      <td>BMW 1 Series</td>\n",
       "    </tr>\n",
       "  </tbody>\n",
       "</table>\n",
       "</div>"
      ],
      "text/plain": [
       "  Make       Model  Year             Engine Fuel Type  Engine HP  \\\n",
       "0  BMW  1 Series M  2011  premium unleaded (required)      335.0   \n",
       "1  BMW    1 Series  2011  premium unleaded (required)      300.0   \n",
       "2  BMW    1 Series  2011  premium unleaded (required)      300.0   \n",
       "3  BMW    1 Series  2011  premium unleaded (required)      230.0   \n",
       "4  BMW    1 Series  2011  premium unleaded (required)      230.0   \n",
       "\n",
       "   Engine Cylinders Transmission Type     Driven_Wheels  Number of Doors  \\\n",
       "0               6.0            MANUAL  rear wheel drive              2.0   \n",
       "1               6.0            MANUAL  rear wheel drive              2.0   \n",
       "2               6.0            MANUAL  rear wheel drive              2.0   \n",
       "3               6.0            MANUAL  rear wheel drive              2.0   \n",
       "4               6.0            MANUAL  rear wheel drive              2.0   \n",
       "\n",
       "                         Market Category Vehicle Size Vehicle Style  \\\n",
       "0  Factory Tuner,Luxury,High-Performance      Compact         Coupe   \n",
       "1                     Luxury,Performance      Compact   Convertible   \n",
       "2                Luxury,High-Performance      Compact         Coupe   \n",
       "3                     Luxury,Performance      Compact         Coupe   \n",
       "4                                 Luxury      Compact   Convertible   \n",
       "\n",
       "   highway MPG  city mpg  Popularity   MSRP     Maker_Model  \n",
       "0           26        19        3916  46135  BMW 1 Series M  \n",
       "1           28        19        3916  40650    BMW 1 Series  \n",
       "2           28        20        3916  36350    BMW 1 Series  \n",
       "3           28        18        3916  29450    BMW 1 Series  \n",
       "4           28        18        3916  34500    BMW 1 Series  "
      ]
     },
     "execution_count": 12,
     "metadata": {},
     "output_type": "execute_result"
    }
   ],
   "source": [
    "df.head()"
   ]
  },
  {
   "cell_type": "code",
   "execution_count": 13,
   "metadata": {},
   "outputs": [
    {
     "data": {
      "text/html": [
       "<div>\n",
       "<style scoped>\n",
       "    .dataframe tbody tr th:only-of-type {\n",
       "        vertical-align: middle;\n",
       "    }\n",
       "\n",
       "    .dataframe tbody tr th {\n",
       "        vertical-align: top;\n",
       "    }\n",
       "\n",
       "    .dataframe thead th {\n",
       "        text-align: right;\n",
       "    }\n",
       "</style>\n",
       "<table border=\"1\" class=\"dataframe\">\n",
       "  <thead>\n",
       "    <tr style=\"text-align: right;\">\n",
       "      <th></th>\n",
       "      <th>Engine Fuel Type</th>\n",
       "      <th>Transmission Type</th>\n",
       "      <th>Driven_Wheels</th>\n",
       "      <th>Market Category</th>\n",
       "      <th>Vehicle Size</th>\n",
       "      <th>Vehicle Style</th>\n",
       "      <th>Maker_Model</th>\n",
       "    </tr>\n",
       "  </thead>\n",
       "  <tbody>\n",
       "    <tr>\n",
       "      <th>0</th>\n",
       "      <td>premium unleaded (required)</td>\n",
       "      <td>MANUAL</td>\n",
       "      <td>rear wheel drive</td>\n",
       "      <td>Factory Tuner,Luxury,High-Performance</td>\n",
       "      <td>Compact</td>\n",
       "      <td>Coupe</td>\n",
       "      <td>BMW 1 Series M</td>\n",
       "    </tr>\n",
       "    <tr>\n",
       "      <th>1</th>\n",
       "      <td>premium unleaded (required)</td>\n",
       "      <td>MANUAL</td>\n",
       "      <td>rear wheel drive</td>\n",
       "      <td>Luxury,Performance</td>\n",
       "      <td>Compact</td>\n",
       "      <td>Convertible</td>\n",
       "      <td>BMW 1 Series</td>\n",
       "    </tr>\n",
       "    <tr>\n",
       "      <th>2</th>\n",
       "      <td>premium unleaded (required)</td>\n",
       "      <td>MANUAL</td>\n",
       "      <td>rear wheel drive</td>\n",
       "      <td>Luxury,High-Performance</td>\n",
       "      <td>Compact</td>\n",
       "      <td>Coupe</td>\n",
       "      <td>BMW 1 Series</td>\n",
       "    </tr>\n",
       "    <tr>\n",
       "      <th>3</th>\n",
       "      <td>premium unleaded (required)</td>\n",
       "      <td>MANUAL</td>\n",
       "      <td>rear wheel drive</td>\n",
       "      <td>Luxury,Performance</td>\n",
       "      <td>Compact</td>\n",
       "      <td>Coupe</td>\n",
       "      <td>BMW 1 Series</td>\n",
       "    </tr>\n",
       "    <tr>\n",
       "      <th>4</th>\n",
       "      <td>premium unleaded (required)</td>\n",
       "      <td>MANUAL</td>\n",
       "      <td>rear wheel drive</td>\n",
       "      <td>Luxury</td>\n",
       "      <td>Compact</td>\n",
       "      <td>Convertible</td>\n",
       "      <td>BMW 1 Series</td>\n",
       "    </tr>\n",
       "    <tr>\n",
       "      <th>...</th>\n",
       "      <td>...</td>\n",
       "      <td>...</td>\n",
       "      <td>...</td>\n",
       "      <td>...</td>\n",
       "      <td>...</td>\n",
       "      <td>...</td>\n",
       "      <td>...</td>\n",
       "    </tr>\n",
       "    <tr>\n",
       "      <th>11909</th>\n",
       "      <td>premium unleaded (required)</td>\n",
       "      <td>AUTOMATIC</td>\n",
       "      <td>all wheel drive</td>\n",
       "      <td>Crossover,Hatchback,Luxury</td>\n",
       "      <td>Midsize</td>\n",
       "      <td>4dr Hatchback</td>\n",
       "      <td>Acura ZDX</td>\n",
       "    </tr>\n",
       "    <tr>\n",
       "      <th>11910</th>\n",
       "      <td>premium unleaded (required)</td>\n",
       "      <td>AUTOMATIC</td>\n",
       "      <td>all wheel drive</td>\n",
       "      <td>Crossover,Hatchback,Luxury</td>\n",
       "      <td>Midsize</td>\n",
       "      <td>4dr Hatchback</td>\n",
       "      <td>Acura ZDX</td>\n",
       "    </tr>\n",
       "    <tr>\n",
       "      <th>11911</th>\n",
       "      <td>premium unleaded (required)</td>\n",
       "      <td>AUTOMATIC</td>\n",
       "      <td>all wheel drive</td>\n",
       "      <td>Crossover,Hatchback,Luxury</td>\n",
       "      <td>Midsize</td>\n",
       "      <td>4dr Hatchback</td>\n",
       "      <td>Acura ZDX</td>\n",
       "    </tr>\n",
       "    <tr>\n",
       "      <th>11912</th>\n",
       "      <td>premium unleaded (recommended)</td>\n",
       "      <td>AUTOMATIC</td>\n",
       "      <td>all wheel drive</td>\n",
       "      <td>Crossover,Hatchback,Luxury</td>\n",
       "      <td>Midsize</td>\n",
       "      <td>4dr Hatchback</td>\n",
       "      <td>Acura ZDX</td>\n",
       "    </tr>\n",
       "    <tr>\n",
       "      <th>11913</th>\n",
       "      <td>regular unleaded</td>\n",
       "      <td>AUTOMATIC</td>\n",
       "      <td>front wheel drive</td>\n",
       "      <td>Luxury</td>\n",
       "      <td>Midsize</td>\n",
       "      <td>Sedan</td>\n",
       "      <td>Lincoln Zephyr</td>\n",
       "    </tr>\n",
       "  </tbody>\n",
       "</table>\n",
       "<p>11914 rows × 7 columns</p>\n",
       "</div>"
      ],
      "text/plain": [
       "                     Engine Fuel Type Transmission Type      Driven_Wheels  \\\n",
       "0         premium unleaded (required)            MANUAL   rear wheel drive   \n",
       "1         premium unleaded (required)            MANUAL   rear wheel drive   \n",
       "2         premium unleaded (required)            MANUAL   rear wheel drive   \n",
       "3         premium unleaded (required)            MANUAL   rear wheel drive   \n",
       "4         premium unleaded (required)            MANUAL   rear wheel drive   \n",
       "...                               ...               ...                ...   \n",
       "11909     premium unleaded (required)         AUTOMATIC    all wheel drive   \n",
       "11910     premium unleaded (required)         AUTOMATIC    all wheel drive   \n",
       "11911     premium unleaded (required)         AUTOMATIC    all wheel drive   \n",
       "11912  premium unleaded (recommended)         AUTOMATIC    all wheel drive   \n",
       "11913                regular unleaded         AUTOMATIC  front wheel drive   \n",
       "\n",
       "                             Market Category Vehicle Size  Vehicle Style  \\\n",
       "0      Factory Tuner,Luxury,High-Performance      Compact          Coupe   \n",
       "1                         Luxury,Performance      Compact    Convertible   \n",
       "2                    Luxury,High-Performance      Compact          Coupe   \n",
       "3                         Luxury,Performance      Compact          Coupe   \n",
       "4                                     Luxury      Compact    Convertible   \n",
       "...                                      ...          ...            ...   \n",
       "11909             Crossover,Hatchback,Luxury      Midsize  4dr Hatchback   \n",
       "11910             Crossover,Hatchback,Luxury      Midsize  4dr Hatchback   \n",
       "11911             Crossover,Hatchback,Luxury      Midsize  4dr Hatchback   \n",
       "11912             Crossover,Hatchback,Luxury      Midsize  4dr Hatchback   \n",
       "11913                                 Luxury      Midsize          Sedan   \n",
       "\n",
       "          Maker_Model  \n",
       "0      BMW 1 Series M  \n",
       "1        BMW 1 Series  \n",
       "2        BMW 1 Series  \n",
       "3        BMW 1 Series  \n",
       "4        BMW 1 Series  \n",
       "...               ...  \n",
       "11909       Acura ZDX  \n",
       "11910       Acura ZDX  \n",
       "11911       Acura ZDX  \n",
       "11912       Acura ZDX  \n",
       "11913  Lincoln Zephyr  \n",
       "\n",
       "[11914 rows x 7 columns]"
      ]
     },
     "execution_count": 13,
     "metadata": {},
     "output_type": "execute_result"
    }
   ],
   "source": [
    "# Select features from original dataset to form a new dataframe \n",
    "df1 = df[['Engine Fuel Type','Transmission Type','Driven_Wheels','Market Category',\n",
    "          'Vehicle Size', 'Vehicle Style', 'Maker_Model']]\n",
    "df1"
   ]
  },
  {
   "cell_type": "code",
   "execution_count": 14,
   "metadata": {},
   "outputs": [
    {
     "data": {
      "text/plain": [
       "0        premium unleaded (required),MANUAL,rear wheel ...\n",
       "1        premium unleaded (required),MANUAL,rear wheel ...\n",
       "2        premium unleaded (required),MANUAL,rear wheel ...\n",
       "3        premium unleaded (required),MANUAL,rear wheel ...\n",
       "4        premium unleaded (required),MANUAL,rear wheel ...\n",
       "                               ...                        \n",
       "11909    premium unleaded (required),AUTOMATIC,all whee...\n",
       "11910    premium unleaded (required),AUTOMATIC,all whee...\n",
       "11911    premium unleaded (required),AUTOMATIC,all whee...\n",
       "11912    premium unleaded (recommended),AUTOMATIC,all w...\n",
       "11913    regular unleaded,AUTOMATIC,front wheel drive,L...\n",
       "Length: 11914, dtype: object"
      ]
     },
     "execution_count": 14,
     "metadata": {},
     "output_type": "execute_result"
    }
   ],
   "source": [
    "# For each row, combine all the columns into one column\n",
    "df2 = df1.apply(lambda x: ','.join(x.astype(str)), axis=1) \n",
    "df2"
   ]
  },
  {
   "cell_type": "code",
   "execution_count": 15,
   "metadata": {},
   "outputs": [
    {
     "data": {
      "text/html": [
       "<div>\n",
       "<style scoped>\n",
       "    .dataframe tbody tr th:only-of-type {\n",
       "        vertical-align: middle;\n",
       "    }\n",
       "\n",
       "    .dataframe tbody tr th {\n",
       "        vertical-align: top;\n",
       "    }\n",
       "\n",
       "    .dataframe thead th {\n",
       "        text-align: right;\n",
       "    }\n",
       "</style>\n",
       "<table border=\"1\" class=\"dataframe\">\n",
       "  <thead>\n",
       "    <tr style=\"text-align: right;\">\n",
       "      <th></th>\n",
       "      <th>clean</th>\n",
       "    </tr>\n",
       "  </thead>\n",
       "  <tbody>\n",
       "    <tr>\n",
       "      <th>0</th>\n",
       "      <td>premium unleaded (required),MANUAL,rear wheel ...</td>\n",
       "    </tr>\n",
       "    <tr>\n",
       "      <th>1</th>\n",
       "      <td>premium unleaded (required),MANUAL,rear wheel ...</td>\n",
       "    </tr>\n",
       "    <tr>\n",
       "      <th>2</th>\n",
       "      <td>premium unleaded (required),MANUAL,rear wheel ...</td>\n",
       "    </tr>\n",
       "    <tr>\n",
       "      <th>3</th>\n",
       "      <td>premium unleaded (required),MANUAL,rear wheel ...</td>\n",
       "    </tr>\n",
       "    <tr>\n",
       "      <th>4</th>\n",
       "      <td>premium unleaded (required),MANUAL,rear wheel ...</td>\n",
       "    </tr>\n",
       "    <tr>\n",
       "      <th>...</th>\n",
       "      <td>...</td>\n",
       "    </tr>\n",
       "    <tr>\n",
       "      <th>11909</th>\n",
       "      <td>premium unleaded (required),AUTOMATIC,all whee...</td>\n",
       "    </tr>\n",
       "    <tr>\n",
       "      <th>11910</th>\n",
       "      <td>premium unleaded (required),AUTOMATIC,all whee...</td>\n",
       "    </tr>\n",
       "    <tr>\n",
       "      <th>11911</th>\n",
       "      <td>premium unleaded (required),AUTOMATIC,all whee...</td>\n",
       "    </tr>\n",
       "    <tr>\n",
       "      <th>11912</th>\n",
       "      <td>premium unleaded (recommended),AUTOMATIC,all w...</td>\n",
       "    </tr>\n",
       "    <tr>\n",
       "      <th>11913</th>\n",
       "      <td>regular unleaded,AUTOMATIC,front wheel drive,L...</td>\n",
       "    </tr>\n",
       "  </tbody>\n",
       "</table>\n",
       "<p>11914 rows × 1 columns</p>\n",
       "</div>"
      ],
      "text/plain": [
       "                                                   clean\n",
       "0      premium unleaded (required),MANUAL,rear wheel ...\n",
       "1      premium unleaded (required),MANUAL,rear wheel ...\n",
       "2      premium unleaded (required),MANUAL,rear wheel ...\n",
       "3      premium unleaded (required),MANUAL,rear wheel ...\n",
       "4      premium unleaded (required),MANUAL,rear wheel ...\n",
       "...                                                  ...\n",
       "11909  premium unleaded (required),AUTOMATIC,all whee...\n",
       "11910  premium unleaded (required),AUTOMATIC,all whee...\n",
       "11911  premium unleaded (required),AUTOMATIC,all whee...\n",
       "11912  premium unleaded (recommended),AUTOMATIC,all w...\n",
       "11913  regular unleaded,AUTOMATIC,front wheel drive,L...\n",
       "\n",
       "[11914 rows x 1 columns]"
      ]
     },
     "execution_count": 15,
     "metadata": {},
     "output_type": "execute_result"
    }
   ],
   "source": [
    "# Store them in the pandas dataframe\n",
    "df_clean = pd.DataFrame({'clean': df2}) \n",
    "\n",
    "df_clean"
   ]
  },
  {
   "cell_type": "code",
   "execution_count": 16,
   "metadata": {},
   "outputs": [
    {
     "data": {
      "text/plain": [
       "'premium unleaded (required),MANUAL,rear wheel drive,Factory Tuner,Luxury,High-Performance,Compact,Coupe,BMW 1 Series M'"
      ]
     },
     "execution_count": 16,
     "metadata": {},
     "output_type": "execute_result"
    }
   ],
   "source": [
    "df_clean['clean'][0]"
   ]
  },
  {
   "cell_type": "code",
   "execution_count": 17,
   "metadata": {},
   "outputs": [
    {
     "data": {
      "text/plain": [
       "[['premium unleaded (required)',\n",
       "  'MANUAL',\n",
       "  'rear wheel drive',\n",
       "  'Factory Tuner',\n",
       "  'Luxury',\n",
       "  'High-Performance',\n",
       "  'Compact',\n",
       "  'Coupe',\n",
       "  'BMW 1 Series M'],\n",
       " ['premium unleaded (required)',\n",
       "  'MANUAL',\n",
       "  'rear wheel drive',\n",
       "  'Luxury',\n",
       "  'Performance',\n",
       "  'Compact',\n",
       "  'Convertible',\n",
       "  'BMW 1 Series']]"
      ]
     },
     "execution_count": 17,
     "metadata": {},
     "output_type": "execute_result"
    }
   ],
   "source": [
    "# Create the list of list format of the custom corpus for gensim modeling \n",
    "sent = [row.split(',') for row in df_clean['clean']]\n",
    "# show the example of list of list format of the custom corpus for gensim modeling \n",
    "sent[:2] "
   ]
  },
  {
   "cell_type": "code",
   "execution_count": 18,
   "metadata": {},
   "outputs": [
    {
     "data": {
      "text/plain": [
       "11914"
      ]
     },
     "execution_count": 18,
     "metadata": {},
     "output_type": "execute_result"
    }
   ],
   "source": [
    "len(sent)"
   ]
  },
  {
   "cell_type": "markdown",
   "metadata": {},
   "source": [
    "### Genism word2vec Model Training "
   ]
  },
  {
   "cell_type": "code",
   "execution_count": 19,
   "metadata": {},
   "outputs": [],
   "source": [
    "## Train the genisim word2vec model with our own custom corpus\n",
    "model_2 = Word2Vec(sent, min_count=1, vector_size= 50, workers=3, window =3, sg = 1)"
   ]
  },
  {
   "cell_type": "code",
   "execution_count": 20,
   "metadata": {},
   "outputs": [
    {
     "data": {
      "text/plain": [
       "array([-0.06221133, -0.00078157,  0.11212988,  0.02290514, -0.09565159,\n",
       "       -0.26648268, -0.10793739,  0.34476006,  0.02947687, -0.17716965,\n",
       "        0.19972663,  0.05157929, -0.08664826, -0.00665096,  0.06953028,\n",
       "        0.17162979,  0.20540069,  0.11678503,  0.00519125, -0.29180658,\n",
       "       -0.04234027, -0.0331309 ,  0.22614162, -0.03543823,  0.21149847,\n",
       "        0.01719995, -0.22853822,  0.33174163,  0.06983203, -0.18861471,\n",
       "       -0.11522385,  0.15385288, -0.02876615,  0.17589487,  0.01618016,\n",
       "       -0.04859521,  0.14127263,  0.00490319,  0.14612713,  0.1642975 ,\n",
       "        0.06573396,  0.07646341, -0.26727164,  0.00967619,  0.23544917,\n",
       "        0.01714828, -0.09497026, -0.01258893,  0.02748009,  0.14160384],\n",
       "      dtype=float32)"
      ]
     },
     "execution_count": 20,
     "metadata": {},
     "output_type": "execute_result"
    }
   ],
   "source": [
    "## We can obtain the word embedding directly from the training model\n",
    "model_2.wv['BMW 1 Series']"
   ]
  },
  {
   "cell_type": "markdown",
   "metadata": {},
   "source": [
    "### Compare Similarities "
   ]
  },
  {
   "cell_type": "markdown",
   "metadata": {},
   "source": [
    "Now we could even use Word2vec to compute similarity between two make model in the vocabulary by invoking the model.similarity() and passing in the relvevant words. For instance,  model.similarity('Porsche 718 Cayman', 'Nissan Van') This will give us the Euclidian similarity between Porsche 718 Cayman and Nissan Van. "
   ]
  },
  {
   "cell_type": "code",
   "execution_count": 21,
   "metadata": {},
   "outputs": [
    {
     "data": {
      "text/plain": [
       "0.8296043"
      ]
     },
     "execution_count": 21,
     "metadata": {},
     "output_type": "execute_result"
    }
   ],
   "source": [
    "model_2.wv.similarity('Porsche 718 Cayman', 'Nissan Van')"
   ]
  },
  {
   "cell_type": "code",
   "execution_count": 22,
   "metadata": {},
   "outputs": [
    {
     "data": {
      "text/plain": [
       "0.8998677"
      ]
     },
     "execution_count": 22,
     "metadata": {},
     "output_type": "execute_result"
    }
   ],
   "source": [
    "model_2.wv.similarity('Porsche 718 Cayman', 'Mercedes-Benz SLK-Class')"
   ]
  },
  {
   "cell_type": "markdown",
   "metadata": {},
   "source": [
    "From the above example, we can tell that Porsche 718 Cayman is more similar with Mercedes-Benz SLK-Class than Nissan Van. We also can use the build in function model.most_similar() to get a set of the most similar make models for a given make model."
   ]
  },
  {
   "cell_type": "code",
   "execution_count": 23,
   "metadata": {},
   "outputs": [
    {
     "data": {
      "text/plain": [
       "[('Lamborghini Murcielago', 0.9921762347221375),\n",
       " ('Lamborghini Huracan', 0.9880927205085754),\n",
       " ('BMW Z4', 0.9880548715591431),\n",
       " ('Ferrari 458 Italia', 0.9864090085029602),\n",
       " ('Lotus Evora', 0.986366331577301)]"
      ]
     },
     "execution_count": 23,
     "metadata": {},
     "output_type": "execute_result"
    }
   ],
   "source": [
    "## Show the most similar vehicles for Mercedes-Benz SLK-Class : Default by eculidean distance \n",
    "model_2.wv.most_similar('Mercedes-Benz SLK-Class')[:5]"
   ]
  },
  {
   "cell_type": "code",
   "execution_count": 24,
   "metadata": {},
   "outputs": [
    {
     "data": {
      "text/plain": [
       "[('Kia Optima', 0.9848490953445435),\n",
       " ('Nissan Sentra', 0.9837976694107056),\n",
       " ('Oldsmobile Eighty-Eight Royale', 0.9833534359931946),\n",
       " ('Oldsmobile Cutlass Ciera', 0.9820960760116577),\n",
       " ('Oldsmobile Alero', 0.9819996953010559)]"
      ]
     },
     "execution_count": 24,
     "metadata": {},
     "output_type": "execute_result"
    }
   ],
   "source": [
    "## Show the most similar vehicles for Toyota Camry : Default by eculidean distance \n",
    "model_2.wv.most_similar('Toyota Camry')[:5]"
   ]
  },
  {
   "cell_type": "markdown",
   "metadata": {},
   "source": [
    "However, Euclidian similarity cannot work well for the high-dimensional word vectors, This is because Euclidian similarity will increase as the number of dimensions increases even if the word embedding stands for different meanings. Alternatively, we can use cosine similarity to measure the similarity between two vectors.  \n",
    "\n",
    "For Vector $A$ and $B$, the dot product is given by $ A \\cdot B = \\|A\\| \\|B\\| \\cos(\\theta)$\n",
    "\n",
    "The cosine similarity is given by $ \\cos(\\theta) = \\frac{A \\cdot B}{\\|A\\| \\|B\\|} $"
   ]
  },
  {
   "cell_type": "markdown",
   "metadata": {},
   "source": [
    "Cosine similarity measures the cosine of the angle between two vectors projected in a multi-dimensional space. Therefore, the cosine similarity captures the angle of the word vectors and not the magnitude. Under cosine similarity, no similarity is expressed as a 90-degree angle while the total similarity of 1 is at 0 degree \n",
    "angle. The following function shows how can we generate the most similar make model based on cosine similarity."
   ]
  },
  {
   "cell_type": "code",
   "execution_count": 25,
   "metadata": {},
   "outputs": [],
   "source": [
    "from numpy import dot\n",
    "from numpy.linalg import norm\n",
    "\n",
    "def cosine_distance (model, word,target_list , num) :\n",
    "    cosine_dict ={}\n",
    "    word_list = []\n",
    "    a = model.wv[word]\n",
    "    \n",
    "    for item in target_list :\n",
    "        if item != word :\n",
    "            b = model.wv[item]\n",
    "            cos_sim = dot(a, b)/(norm(a)*norm(b))\n",
    "            cosine_dict[item] = cos_sim\n",
    "    dist_sort=sorted(cosine_dict.items(), key=lambda dist: dist[1],reverse = True) ## in Descedning order \n",
    "    \n",
    "    for item in dist_sort:\n",
    "        word_list.append((item[0], item[1]))\n",
    "    \n",
    "    return word_list[0:num]"
   ]
  },
  {
   "cell_type": "code",
   "execution_count": 26,
   "metadata": {},
   "outputs": [
    {
     "data": {
      "text/plain": [
       "[('Lamborghini Murcielago', 0.99217635),\n",
       " ('Lamborghini Huracan', 0.9880926),\n",
       " ('BMW Z4', 0.98805475),\n",
       " ('Ferrari 458 Italia', 0.98640907),\n",
       " ('Lotus Evora', 0.9863663)]"
      ]
     },
     "execution_count": 26,
     "metadata": {},
     "output_type": "execute_result"
    }
   ],
   "source": [
    "Maker_Model = list(df.Maker_Model.unique()) ## only get the unique Maker_Model_Year\n",
    "\n",
    "## Show the most similar Mercedes-Benz SLK-Class by cosine distance \n",
    "cosine_distance(model_2,'Mercedes-Benz SLK-Class',Maker_Model,5) "
   ]
  },
  {
   "cell_type": "code",
   "execution_count": 27,
   "metadata": {},
   "outputs": [
    {
     "data": {
      "text/plain": [
       "[('Lamborghini Murcielago', 0.9921762347221375),\n",
       " ('Lamborghini Huracan', 0.9880927205085754),\n",
       " ('BMW Z4', 0.9880548715591431),\n",
       " ('Ferrari 458 Italia', 0.9864090085029602),\n",
       " ('Lotus Evora', 0.986366331577301)]"
      ]
     },
     "execution_count": 27,
     "metadata": {},
     "output_type": "execute_result"
    }
   ],
   "source": [
    "model_2.wv.most_similar('Mercedes-Benz SLK-Class')[:5]"
   ]
  },
  {
   "cell_type": "markdown",
   "metadata": {},
   "source": [
    "### T-SNE Plot"
   ]
  },
  {
   "cell_type": "markdown",
   "metadata": {},
   "source": [
    "It’s hard to visualize the word embedding directly, for they usually has more than 3 dimensions. T-SNE is an useful tool to visualize high-dimensional data by reducing dimensional space while keeping relative pairwise distance between points. It can be said that t-SNE looking for a new data representation where the neighborhood relations are preserved. In this tutorial, I used TSNE package from scikit-learn library. The following code showed how to plot the word embedding with T-SNE plot. "
   ]
  },
  {
   "cell_type": "code",
   "execution_count": 28,
   "metadata": {},
   "outputs": [],
   "source": [
    "from sklearn.manifold import TSNE\n",
    "\n",
    "import matplotlib.pyplot as plt\n",
    "%matplotlib notebook\n",
    "import seaborn as sns\n",
    "\n",
    "def display_closestwords_tsnescatterplot(model, word, size):\n",
    "    \n",
    "    arr = np.empty((0,size), dtype='f')\n",
    "    word_labels = [word]\n",
    "\n",
    "    close_words = model.wv.most_similar(word)\n",
    "\n",
    "    arr = np.append(arr, np.array([model.wv[word]]), axis=0)\n",
    "    \n",
    "    for wrd_score in close_words:\n",
    "        wrd_vector = model.wv[wrd_score[0]]\n",
    "        word_labels.append(wrd_score[0])\n",
    "        arr = np.append(arr, np.array([wrd_vector]), axis=0)\n",
    "        \n",
    "    tsne = TSNE(n_components=2, perplexity = 10, random_state=0)\n",
    "    np.set_printoptions(suppress=True)\n",
    "    Y = tsne.fit_transform(arr)\n",
    "\n",
    "    x_coords = Y[:, 0]\n",
    "    y_coords = Y[:, 1]\n",
    "    plt.scatter(x_coords, y_coords)\n",
    "\n",
    "    for label, x, y in zip(word_labels, x_coords, y_coords):\n",
    "        plt.annotate(label, xy=(x, y), xytext=(0, 0), textcoords='offset points')\n",
    "    plt.xlim(x_coords.min()+1, x_coords.max()+1)\n",
    "    plt.ylim(y_coords.min()+1, y_coords.max()+1)\n",
    "    plt.show()"
   ]
  },
  {
   "cell_type": "code",
   "execution_count": 29,
   "metadata": {},
   "outputs": [
    {
     "data": {
      "application/javascript": [
       "/* Put everything inside the global mpl namespace */\n",
       "/* global mpl */\n",
       "window.mpl = {};\n",
       "\n",
       "mpl.get_websocket_type = function () {\n",
       "    if (typeof WebSocket !== 'undefined') {\n",
       "        return WebSocket;\n",
       "    } else if (typeof MozWebSocket !== 'undefined') {\n",
       "        return MozWebSocket;\n",
       "    } else {\n",
       "        alert(\n",
       "            'Your browser does not have WebSocket support. ' +\n",
       "                'Please try Chrome, Safari or Firefox ≥ 6. ' +\n",
       "                'Firefox 4 and 5 are also supported but you ' +\n",
       "                'have to enable WebSockets in about:config.'\n",
       "        );\n",
       "    }\n",
       "};\n",
       "\n",
       "mpl.figure = function (figure_id, websocket, ondownload, parent_element) {\n",
       "    this.id = figure_id;\n",
       "\n",
       "    this.ws = websocket;\n",
       "\n",
       "    this.supports_binary = this.ws.binaryType !== undefined;\n",
       "\n",
       "    if (!this.supports_binary) {\n",
       "        var warnings = document.getElementById('mpl-warnings');\n",
       "        if (warnings) {\n",
       "            warnings.style.display = 'block';\n",
       "            warnings.textContent =\n",
       "                'This browser does not support binary websocket messages. ' +\n",
       "                'Performance may be slow.';\n",
       "        }\n",
       "    }\n",
       "\n",
       "    this.imageObj = new Image();\n",
       "\n",
       "    this.context = undefined;\n",
       "    this.message = undefined;\n",
       "    this.canvas = undefined;\n",
       "    this.rubberband_canvas = undefined;\n",
       "    this.rubberband_context = undefined;\n",
       "    this.format_dropdown = undefined;\n",
       "\n",
       "    this.image_mode = 'full';\n",
       "\n",
       "    this.root = document.createElement('div');\n",
       "    this.root.setAttribute('style', 'display: inline-block');\n",
       "    this._root_extra_style(this.root);\n",
       "\n",
       "    parent_element.appendChild(this.root);\n",
       "\n",
       "    this._init_header(this);\n",
       "    this._init_canvas(this);\n",
       "    this._init_toolbar(this);\n",
       "\n",
       "    var fig = this;\n",
       "\n",
       "    this.waiting = false;\n",
       "\n",
       "    this.ws.onopen = function () {\n",
       "        fig.send_message('supports_binary', { value: fig.supports_binary });\n",
       "        fig.send_message('send_image_mode', {});\n",
       "        if (fig.ratio !== 1) {\n",
       "            fig.send_message('set_device_pixel_ratio', {\n",
       "                device_pixel_ratio: fig.ratio,\n",
       "            });\n",
       "        }\n",
       "        fig.send_message('refresh', {});\n",
       "    };\n",
       "\n",
       "    this.imageObj.onload = function () {\n",
       "        if (fig.image_mode === 'full') {\n",
       "            // Full images could contain transparency (where diff images\n",
       "            // almost always do), so we need to clear the canvas so that\n",
       "            // there is no ghosting.\n",
       "            fig.context.clearRect(0, 0, fig.canvas.width, fig.canvas.height);\n",
       "        }\n",
       "        fig.context.drawImage(fig.imageObj, 0, 0);\n",
       "    };\n",
       "\n",
       "    this.imageObj.onunload = function () {\n",
       "        fig.ws.close();\n",
       "    };\n",
       "\n",
       "    this.ws.onmessage = this._make_on_message_function(this);\n",
       "\n",
       "    this.ondownload = ondownload;\n",
       "};\n",
       "\n",
       "mpl.figure.prototype._init_header = function () {\n",
       "    var titlebar = document.createElement('div');\n",
       "    titlebar.classList =\n",
       "        'ui-dialog-titlebar ui-widget-header ui-corner-all ui-helper-clearfix';\n",
       "    var titletext = document.createElement('div');\n",
       "    titletext.classList = 'ui-dialog-title';\n",
       "    titletext.setAttribute(\n",
       "        'style',\n",
       "        'width: 100%; text-align: center; padding: 3px;'\n",
       "    );\n",
       "    titlebar.appendChild(titletext);\n",
       "    this.root.appendChild(titlebar);\n",
       "    this.header = titletext;\n",
       "};\n",
       "\n",
       "mpl.figure.prototype._canvas_extra_style = function (_canvas_div) {};\n",
       "\n",
       "mpl.figure.prototype._root_extra_style = function (_canvas_div) {};\n",
       "\n",
       "mpl.figure.prototype._init_canvas = function () {\n",
       "    var fig = this;\n",
       "\n",
       "    var canvas_div = (this.canvas_div = document.createElement('div'));\n",
       "    canvas_div.setAttribute('tabindex', '0');\n",
       "    canvas_div.setAttribute(\n",
       "        'style',\n",
       "        'border: 1px solid #ddd;' +\n",
       "            'box-sizing: content-box;' +\n",
       "            'clear: both;' +\n",
       "            'min-height: 1px;' +\n",
       "            'min-width: 1px;' +\n",
       "            'outline: 0;' +\n",
       "            'overflow: hidden;' +\n",
       "            'position: relative;' +\n",
       "            'resize: both;' +\n",
       "            'z-index: 2;'\n",
       "    );\n",
       "\n",
       "    function on_keyboard_event_closure(name) {\n",
       "        return function (event) {\n",
       "            return fig.key_event(event, name);\n",
       "        };\n",
       "    }\n",
       "\n",
       "    canvas_div.addEventListener(\n",
       "        'keydown',\n",
       "        on_keyboard_event_closure('key_press')\n",
       "    );\n",
       "    canvas_div.addEventListener(\n",
       "        'keyup',\n",
       "        on_keyboard_event_closure('key_release')\n",
       "    );\n",
       "\n",
       "    this._canvas_extra_style(canvas_div);\n",
       "    this.root.appendChild(canvas_div);\n",
       "\n",
       "    var canvas = (this.canvas = document.createElement('canvas'));\n",
       "    canvas.classList.add('mpl-canvas');\n",
       "    canvas.setAttribute(\n",
       "        'style',\n",
       "        'box-sizing: content-box;' +\n",
       "            'pointer-events: none;' +\n",
       "            'position: relative;' +\n",
       "            'z-index: 0;'\n",
       "    );\n",
       "\n",
       "    this.context = canvas.getContext('2d');\n",
       "\n",
       "    var backingStore =\n",
       "        this.context.backingStorePixelRatio ||\n",
       "        this.context.webkitBackingStorePixelRatio ||\n",
       "        this.context.mozBackingStorePixelRatio ||\n",
       "        this.context.msBackingStorePixelRatio ||\n",
       "        this.context.oBackingStorePixelRatio ||\n",
       "        this.context.backingStorePixelRatio ||\n",
       "        1;\n",
       "\n",
       "    this.ratio = (window.devicePixelRatio || 1) / backingStore;\n",
       "\n",
       "    var rubberband_canvas = (this.rubberband_canvas = document.createElement(\n",
       "        'canvas'\n",
       "    ));\n",
       "    rubberband_canvas.setAttribute(\n",
       "        'style',\n",
       "        'box-sizing: content-box;' +\n",
       "            'left: 0;' +\n",
       "            'pointer-events: none;' +\n",
       "            'position: absolute;' +\n",
       "            'top: 0;' +\n",
       "            'z-index: 1;'\n",
       "    );\n",
       "\n",
       "    // Apply a ponyfill if ResizeObserver is not implemented by browser.\n",
       "    if (this.ResizeObserver === undefined) {\n",
       "        if (window.ResizeObserver !== undefined) {\n",
       "            this.ResizeObserver = window.ResizeObserver;\n",
       "        } else {\n",
       "            var obs = _JSXTOOLS_RESIZE_OBSERVER({});\n",
       "            this.ResizeObserver = obs.ResizeObserver;\n",
       "        }\n",
       "    }\n",
       "\n",
       "    this.resizeObserverInstance = new this.ResizeObserver(function (entries) {\n",
       "        var nentries = entries.length;\n",
       "        for (var i = 0; i < nentries; i++) {\n",
       "            var entry = entries[i];\n",
       "            var width, height;\n",
       "            if (entry.contentBoxSize) {\n",
       "                if (entry.contentBoxSize instanceof Array) {\n",
       "                    // Chrome 84 implements new version of spec.\n",
       "                    width = entry.contentBoxSize[0].inlineSize;\n",
       "                    height = entry.contentBoxSize[0].blockSize;\n",
       "                } else {\n",
       "                    // Firefox implements old version of spec.\n",
       "                    width = entry.contentBoxSize.inlineSize;\n",
       "                    height = entry.contentBoxSize.blockSize;\n",
       "                }\n",
       "            } else {\n",
       "                // Chrome <84 implements even older version of spec.\n",
       "                width = entry.contentRect.width;\n",
       "                height = entry.contentRect.height;\n",
       "            }\n",
       "\n",
       "            // Keep the size of the canvas and rubber band canvas in sync with\n",
       "            // the canvas container.\n",
       "            if (entry.devicePixelContentBoxSize) {\n",
       "                // Chrome 84 implements new version of spec.\n",
       "                canvas.setAttribute(\n",
       "                    'width',\n",
       "                    entry.devicePixelContentBoxSize[0].inlineSize\n",
       "                );\n",
       "                canvas.setAttribute(\n",
       "                    'height',\n",
       "                    entry.devicePixelContentBoxSize[0].blockSize\n",
       "                );\n",
       "            } else {\n",
       "                canvas.setAttribute('width', width * fig.ratio);\n",
       "                canvas.setAttribute('height', height * fig.ratio);\n",
       "            }\n",
       "            /* This rescales the canvas back to display pixels, so that it\n",
       "             * appears correct on HiDPI screens. */\n",
       "            canvas.style.width = width + 'px';\n",
       "            canvas.style.height = height + 'px';\n",
       "\n",
       "            rubberband_canvas.setAttribute('width', width);\n",
       "            rubberband_canvas.setAttribute('height', height);\n",
       "\n",
       "            // And update the size in Python. We ignore the initial 0/0 size\n",
       "            // that occurs as the element is placed into the DOM, which should\n",
       "            // otherwise not happen due to the minimum size styling.\n",
       "            if (fig.ws.readyState == 1 && width != 0 && height != 0) {\n",
       "                fig.request_resize(width, height);\n",
       "            }\n",
       "        }\n",
       "    });\n",
       "    this.resizeObserverInstance.observe(canvas_div);\n",
       "\n",
       "    function on_mouse_event_closure(name) {\n",
       "        /* User Agent sniffing is bad, but WebKit is busted:\n",
       "         * https://bugs.webkit.org/show_bug.cgi?id=144526\n",
       "         * https://bugs.webkit.org/show_bug.cgi?id=181818\n",
       "         * The worst that happens here is that they get an extra browser\n",
       "         * selection when dragging, if this check fails to catch them.\n",
       "         */\n",
       "        var UA = navigator.userAgent;\n",
       "        var isWebKit = /AppleWebKit/.test(UA) && !/Chrome/.test(UA);\n",
       "        if(isWebKit) {\n",
       "            return function (event) {\n",
       "                /* This prevents the web browser from automatically changing to\n",
       "                 * the text insertion cursor when the button is pressed. We\n",
       "                 * want to control all of the cursor setting manually through\n",
       "                 * the 'cursor' event from matplotlib */\n",
       "                event.preventDefault()\n",
       "                return fig.mouse_event(event, name);\n",
       "            };\n",
       "        } else {\n",
       "            return function (event) {\n",
       "                return fig.mouse_event(event, name);\n",
       "            };\n",
       "        }\n",
       "    }\n",
       "\n",
       "    canvas_div.addEventListener(\n",
       "        'mousedown',\n",
       "        on_mouse_event_closure('button_press')\n",
       "    );\n",
       "    canvas_div.addEventListener(\n",
       "        'mouseup',\n",
       "        on_mouse_event_closure('button_release')\n",
       "    );\n",
       "    canvas_div.addEventListener(\n",
       "        'dblclick',\n",
       "        on_mouse_event_closure('dblclick')\n",
       "    );\n",
       "    // Throttle sequential mouse events to 1 every 20ms.\n",
       "    canvas_div.addEventListener(\n",
       "        'mousemove',\n",
       "        on_mouse_event_closure('motion_notify')\n",
       "    );\n",
       "\n",
       "    canvas_div.addEventListener(\n",
       "        'mouseenter',\n",
       "        on_mouse_event_closure('figure_enter')\n",
       "    );\n",
       "    canvas_div.addEventListener(\n",
       "        'mouseleave',\n",
       "        on_mouse_event_closure('figure_leave')\n",
       "    );\n",
       "\n",
       "    canvas_div.addEventListener('wheel', function (event) {\n",
       "        if (event.deltaY < 0) {\n",
       "            event.step = 1;\n",
       "        } else {\n",
       "            event.step = -1;\n",
       "        }\n",
       "        on_mouse_event_closure('scroll')(event);\n",
       "    });\n",
       "\n",
       "    canvas_div.appendChild(canvas);\n",
       "    canvas_div.appendChild(rubberband_canvas);\n",
       "\n",
       "    this.rubberband_context = rubberband_canvas.getContext('2d');\n",
       "    this.rubberband_context.strokeStyle = '#000000';\n",
       "\n",
       "    this._resize_canvas = function (width, height, forward) {\n",
       "        if (forward) {\n",
       "            canvas_div.style.width = width + 'px';\n",
       "            canvas_div.style.height = height + 'px';\n",
       "        }\n",
       "    };\n",
       "\n",
       "    // Disable right mouse context menu.\n",
       "    canvas_div.addEventListener('contextmenu', function (_e) {\n",
       "        event.preventDefault();\n",
       "        return false;\n",
       "    });\n",
       "\n",
       "    function set_focus() {\n",
       "        canvas.focus();\n",
       "        canvas_div.focus();\n",
       "    }\n",
       "\n",
       "    window.setTimeout(set_focus, 100);\n",
       "};\n",
       "\n",
       "mpl.figure.prototype._init_toolbar = function () {\n",
       "    var fig = this;\n",
       "\n",
       "    var toolbar = document.createElement('div');\n",
       "    toolbar.classList = 'mpl-toolbar';\n",
       "    this.root.appendChild(toolbar);\n",
       "\n",
       "    function on_click_closure(name) {\n",
       "        return function (_event) {\n",
       "            return fig.toolbar_button_onclick(name);\n",
       "        };\n",
       "    }\n",
       "\n",
       "    function on_mouseover_closure(tooltip) {\n",
       "        return function (event) {\n",
       "            if (!event.currentTarget.disabled) {\n",
       "                return fig.toolbar_button_onmouseover(tooltip);\n",
       "            }\n",
       "        };\n",
       "    }\n",
       "\n",
       "    fig.buttons = {};\n",
       "    var buttonGroup = document.createElement('div');\n",
       "    buttonGroup.classList = 'mpl-button-group';\n",
       "    for (var toolbar_ind in mpl.toolbar_items) {\n",
       "        var name = mpl.toolbar_items[toolbar_ind][0];\n",
       "        var tooltip = mpl.toolbar_items[toolbar_ind][1];\n",
       "        var image = mpl.toolbar_items[toolbar_ind][2];\n",
       "        var method_name = mpl.toolbar_items[toolbar_ind][3];\n",
       "\n",
       "        if (!name) {\n",
       "            /* Instead of a spacer, we start a new button group. */\n",
       "            if (buttonGroup.hasChildNodes()) {\n",
       "                toolbar.appendChild(buttonGroup);\n",
       "            }\n",
       "            buttonGroup = document.createElement('div');\n",
       "            buttonGroup.classList = 'mpl-button-group';\n",
       "            continue;\n",
       "        }\n",
       "\n",
       "        var button = (fig.buttons[name] = document.createElement('button'));\n",
       "        button.classList = 'mpl-widget';\n",
       "        button.setAttribute('role', 'button');\n",
       "        button.setAttribute('aria-disabled', 'false');\n",
       "        button.addEventListener('click', on_click_closure(method_name));\n",
       "        button.addEventListener('mouseover', on_mouseover_closure(tooltip));\n",
       "\n",
       "        var icon_img = document.createElement('img');\n",
       "        icon_img.src = '_images/' + image + '.png';\n",
       "        icon_img.srcset = '_images/' + image + '_large.png 2x';\n",
       "        icon_img.alt = tooltip;\n",
       "        button.appendChild(icon_img);\n",
       "\n",
       "        buttonGroup.appendChild(button);\n",
       "    }\n",
       "\n",
       "    if (buttonGroup.hasChildNodes()) {\n",
       "        toolbar.appendChild(buttonGroup);\n",
       "    }\n",
       "\n",
       "    var fmt_picker = document.createElement('select');\n",
       "    fmt_picker.classList = 'mpl-widget';\n",
       "    toolbar.appendChild(fmt_picker);\n",
       "    this.format_dropdown = fmt_picker;\n",
       "\n",
       "    for (var ind in mpl.extensions) {\n",
       "        var fmt = mpl.extensions[ind];\n",
       "        var option = document.createElement('option');\n",
       "        option.selected = fmt === mpl.default_extension;\n",
       "        option.innerHTML = fmt;\n",
       "        fmt_picker.appendChild(option);\n",
       "    }\n",
       "\n",
       "    var status_bar = document.createElement('span');\n",
       "    status_bar.classList = 'mpl-message';\n",
       "    toolbar.appendChild(status_bar);\n",
       "    this.message = status_bar;\n",
       "};\n",
       "\n",
       "mpl.figure.prototype.request_resize = function (x_pixels, y_pixels) {\n",
       "    // Request matplotlib to resize the figure. Matplotlib will then trigger a resize in the client,\n",
       "    // which will in turn request a refresh of the image.\n",
       "    this.send_message('resize', { width: x_pixels, height: y_pixels });\n",
       "};\n",
       "\n",
       "mpl.figure.prototype.send_message = function (type, properties) {\n",
       "    properties['type'] = type;\n",
       "    properties['figure_id'] = this.id;\n",
       "    this.ws.send(JSON.stringify(properties));\n",
       "};\n",
       "\n",
       "mpl.figure.prototype.send_draw_message = function () {\n",
       "    if (!this.waiting) {\n",
       "        this.waiting = true;\n",
       "        this.ws.send(JSON.stringify({ type: 'draw', figure_id: this.id }));\n",
       "    }\n",
       "};\n",
       "\n",
       "mpl.figure.prototype.handle_save = function (fig, _msg) {\n",
       "    var format_dropdown = fig.format_dropdown;\n",
       "    var format = format_dropdown.options[format_dropdown.selectedIndex].value;\n",
       "    fig.ondownload(fig, format);\n",
       "};\n",
       "\n",
       "mpl.figure.prototype.handle_resize = function (fig, msg) {\n",
       "    var size = msg['size'];\n",
       "    if (size[0] !== fig.canvas.width || size[1] !== fig.canvas.height) {\n",
       "        fig._resize_canvas(size[0], size[1], msg['forward']);\n",
       "        fig.send_message('refresh', {});\n",
       "    }\n",
       "};\n",
       "\n",
       "mpl.figure.prototype.handle_rubberband = function (fig, msg) {\n",
       "    var x0 = msg['x0'] / fig.ratio;\n",
       "    var y0 = (fig.canvas.height - msg['y0']) / fig.ratio;\n",
       "    var x1 = msg['x1'] / fig.ratio;\n",
       "    var y1 = (fig.canvas.height - msg['y1']) / fig.ratio;\n",
       "    x0 = Math.floor(x0) + 0.5;\n",
       "    y0 = Math.floor(y0) + 0.5;\n",
       "    x1 = Math.floor(x1) + 0.5;\n",
       "    y1 = Math.floor(y1) + 0.5;\n",
       "    var min_x = Math.min(x0, x1);\n",
       "    var min_y = Math.min(y0, y1);\n",
       "    var width = Math.abs(x1 - x0);\n",
       "    var height = Math.abs(y1 - y0);\n",
       "\n",
       "    fig.rubberband_context.clearRect(\n",
       "        0,\n",
       "        0,\n",
       "        fig.canvas.width / fig.ratio,\n",
       "        fig.canvas.height / fig.ratio\n",
       "    );\n",
       "\n",
       "    fig.rubberband_context.strokeRect(min_x, min_y, width, height);\n",
       "};\n",
       "\n",
       "mpl.figure.prototype.handle_figure_label = function (fig, msg) {\n",
       "    // Updates the figure title.\n",
       "    fig.header.textContent = msg['label'];\n",
       "};\n",
       "\n",
       "mpl.figure.prototype.handle_cursor = function (fig, msg) {\n",
       "    fig.canvas_div.style.cursor = msg['cursor'];\n",
       "};\n",
       "\n",
       "mpl.figure.prototype.handle_message = function (fig, msg) {\n",
       "    fig.message.textContent = msg['message'];\n",
       "};\n",
       "\n",
       "mpl.figure.prototype.handle_draw = function (fig, _msg) {\n",
       "    // Request the server to send over a new figure.\n",
       "    fig.send_draw_message();\n",
       "};\n",
       "\n",
       "mpl.figure.prototype.handle_image_mode = function (fig, msg) {\n",
       "    fig.image_mode = msg['mode'];\n",
       "};\n",
       "\n",
       "mpl.figure.prototype.handle_history_buttons = function (fig, msg) {\n",
       "    for (var key in msg) {\n",
       "        if (!(key in fig.buttons)) {\n",
       "            continue;\n",
       "        }\n",
       "        fig.buttons[key].disabled = !msg[key];\n",
       "        fig.buttons[key].setAttribute('aria-disabled', !msg[key]);\n",
       "    }\n",
       "};\n",
       "\n",
       "mpl.figure.prototype.handle_navigate_mode = function (fig, msg) {\n",
       "    if (msg['mode'] === 'PAN') {\n",
       "        fig.buttons['Pan'].classList.add('active');\n",
       "        fig.buttons['Zoom'].classList.remove('active');\n",
       "    } else if (msg['mode'] === 'ZOOM') {\n",
       "        fig.buttons['Pan'].classList.remove('active');\n",
       "        fig.buttons['Zoom'].classList.add('active');\n",
       "    } else {\n",
       "        fig.buttons['Pan'].classList.remove('active');\n",
       "        fig.buttons['Zoom'].classList.remove('active');\n",
       "    }\n",
       "};\n",
       "\n",
       "mpl.figure.prototype.updated_canvas_event = function () {\n",
       "    // Called whenever the canvas gets updated.\n",
       "    this.send_message('ack', {});\n",
       "};\n",
       "\n",
       "// A function to construct a web socket function for onmessage handling.\n",
       "// Called in the figure constructor.\n",
       "mpl.figure.prototype._make_on_message_function = function (fig) {\n",
       "    return function socket_on_message(evt) {\n",
       "        if (evt.data instanceof Blob) {\n",
       "            var img = evt.data;\n",
       "            if (img.type !== 'image/png') {\n",
       "                /* FIXME: We get \"Resource interpreted as Image but\n",
       "                 * transferred with MIME type text/plain:\" errors on\n",
       "                 * Chrome.  But how to set the MIME type?  It doesn't seem\n",
       "                 * to be part of the websocket stream */\n",
       "                img.type = 'image/png';\n",
       "            }\n",
       "\n",
       "            /* Free the memory for the previous frames */\n",
       "            if (fig.imageObj.src) {\n",
       "                (window.URL || window.webkitURL).revokeObjectURL(\n",
       "                    fig.imageObj.src\n",
       "                );\n",
       "            }\n",
       "\n",
       "            fig.imageObj.src = (window.URL || window.webkitURL).createObjectURL(\n",
       "                img\n",
       "            );\n",
       "            fig.updated_canvas_event();\n",
       "            fig.waiting = false;\n",
       "            return;\n",
       "        } else if (\n",
       "            typeof evt.data === 'string' &&\n",
       "            evt.data.slice(0, 21) === 'data:image/png;base64'\n",
       "        ) {\n",
       "            fig.imageObj.src = evt.data;\n",
       "            fig.updated_canvas_event();\n",
       "            fig.waiting = false;\n",
       "            return;\n",
       "        }\n",
       "\n",
       "        var msg = JSON.parse(evt.data);\n",
       "        var msg_type = msg['type'];\n",
       "\n",
       "        // Call the  \"handle_{type}\" callback, which takes\n",
       "        // the figure and JSON message as its only arguments.\n",
       "        try {\n",
       "            var callback = fig['handle_' + msg_type];\n",
       "        } catch (e) {\n",
       "            console.log(\n",
       "                \"No handler for the '\" + msg_type + \"' message type: \",\n",
       "                msg\n",
       "            );\n",
       "            return;\n",
       "        }\n",
       "\n",
       "        if (callback) {\n",
       "            try {\n",
       "                // console.log(\"Handling '\" + msg_type + \"' message: \", msg);\n",
       "                callback(fig, msg);\n",
       "            } catch (e) {\n",
       "                console.log(\n",
       "                    \"Exception inside the 'handler_\" + msg_type + \"' callback:\",\n",
       "                    e,\n",
       "                    e.stack,\n",
       "                    msg\n",
       "                );\n",
       "            }\n",
       "        }\n",
       "    };\n",
       "};\n",
       "\n",
       "\n",
       "/*\n",
       " * return a copy of an object with only non-object keys\n",
       " * we need this to avoid circular references\n",
       " * https://stackoverflow.com/a/24161582/3208463\n",
       " */\n",
       "function simpleKeys(original) {\n",
       "    return Object.keys(original).reduce(function (obj, key) {\n",
       "        if (typeof original[key] !== 'object') {\n",
       "            obj[key] = original[key];\n",
       "        }\n",
       "        return obj;\n",
       "    }, {});\n",
       "}\n",
       "\n",
       "mpl.figure.prototype.mouse_event = function (event, name) {\n",
       "    if (name === 'button_press') {\n",
       "        this.canvas.focus();\n",
       "        this.canvas_div.focus();\n",
       "    }\n",
       "\n",
       "    // from https://stackoverflow.com/q/1114465\n",
       "    var boundingRect = this.canvas.getBoundingClientRect();\n",
       "    var x = (event.clientX - boundingRect.left) * this.ratio;\n",
       "    var y = (event.clientY - boundingRect.top) * this.ratio;\n",
       "\n",
       "    this.send_message(name, {\n",
       "        x: x,\n",
       "        y: y,\n",
       "        button: event.button,\n",
       "        step: event.step,\n",
       "        guiEvent: simpleKeys(event),\n",
       "    });\n",
       "\n",
       "    return false;\n",
       "};\n",
       "\n",
       "mpl.figure.prototype._key_event_extra = function (_event, _name) {\n",
       "    // Handle any extra behaviour associated with a key event\n",
       "};\n",
       "\n",
       "mpl.figure.prototype.key_event = function (event, name) {\n",
       "    // Prevent repeat events\n",
       "    if (name === 'key_press') {\n",
       "        if (event.key === this._key) {\n",
       "            return;\n",
       "        } else {\n",
       "            this._key = event.key;\n",
       "        }\n",
       "    }\n",
       "    if (name === 'key_release') {\n",
       "        this._key = null;\n",
       "    }\n",
       "\n",
       "    var value = '';\n",
       "    if (event.ctrlKey && event.key !== 'Control') {\n",
       "        value += 'ctrl+';\n",
       "    }\n",
       "    else if (event.altKey && event.key !== 'Alt') {\n",
       "        value += 'alt+';\n",
       "    }\n",
       "    else if (event.shiftKey && event.key !== 'Shift') {\n",
       "        value += 'shift+';\n",
       "    }\n",
       "\n",
       "    value += 'k' + event.key;\n",
       "\n",
       "    this._key_event_extra(event, name);\n",
       "\n",
       "    this.send_message(name, { key: value, guiEvent: simpleKeys(event) });\n",
       "    return false;\n",
       "};\n",
       "\n",
       "mpl.figure.prototype.toolbar_button_onclick = function (name) {\n",
       "    if (name === 'download') {\n",
       "        this.handle_save(this, null);\n",
       "    } else {\n",
       "        this.send_message('toolbar_button', { name: name });\n",
       "    }\n",
       "};\n",
       "\n",
       "mpl.figure.prototype.toolbar_button_onmouseover = function (tooltip) {\n",
       "    this.message.textContent = tooltip;\n",
       "};\n",
       "\n",
       "///////////////// REMAINING CONTENT GENERATED BY embed_js.py /////////////////\n",
       "// prettier-ignore\n",
       "var _JSXTOOLS_RESIZE_OBSERVER=function(A){var t,i=new WeakMap,n=new WeakMap,a=new WeakMap,r=new WeakMap,o=new Set;function s(e){if(!(this instanceof s))throw new TypeError(\"Constructor requires 'new' operator\");i.set(this,e)}function h(){throw new TypeError(\"Function is not a constructor\")}function c(e,t,i,n){e=0 in arguments?Number(arguments[0]):0,t=1 in arguments?Number(arguments[1]):0,i=2 in arguments?Number(arguments[2]):0,n=3 in arguments?Number(arguments[3]):0,this.right=(this.x=this.left=e)+(this.width=i),this.bottom=(this.y=this.top=t)+(this.height=n),Object.freeze(this)}function d(){t=requestAnimationFrame(d);var s=new WeakMap,p=new Set;o.forEach((function(t){r.get(t).forEach((function(i){var r=t instanceof window.SVGElement,o=a.get(t),d=r?0:parseFloat(o.paddingTop),f=r?0:parseFloat(o.paddingRight),l=r?0:parseFloat(o.paddingBottom),u=r?0:parseFloat(o.paddingLeft),g=r?0:parseFloat(o.borderTopWidth),m=r?0:parseFloat(o.borderRightWidth),w=r?0:parseFloat(o.borderBottomWidth),b=u+f,F=d+l,v=(r?0:parseFloat(o.borderLeftWidth))+m,W=g+w,y=r?0:t.offsetHeight-W-t.clientHeight,E=r?0:t.offsetWidth-v-t.clientWidth,R=b+v,z=F+W,M=r?t.width:parseFloat(o.width)-R-E,O=r?t.height:parseFloat(o.height)-z-y;if(n.has(t)){var k=n.get(t);if(k[0]===M&&k[1]===O)return}n.set(t,[M,O]);var S=Object.create(h.prototype);S.target=t,S.contentRect=new c(u,d,M,O),s.has(i)||(s.set(i,[]),p.add(i)),s.get(i).push(S)}))})),p.forEach((function(e){i.get(e).call(e,s.get(e),e)}))}return s.prototype.observe=function(i){if(i instanceof window.Element){r.has(i)||(r.set(i,new Set),o.add(i),a.set(i,window.getComputedStyle(i)));var n=r.get(i);n.has(this)||n.add(this),cancelAnimationFrame(t),t=requestAnimationFrame(d)}},s.prototype.unobserve=function(i){if(i instanceof window.Element&&r.has(i)){var n=r.get(i);n.has(this)&&(n.delete(this),n.size||(r.delete(i),o.delete(i))),n.size||r.delete(i),o.size||cancelAnimationFrame(t)}},A.DOMRectReadOnly=c,A.ResizeObserver=s,A.ResizeObserverEntry=h,A}; // eslint-disable-line\n",
       "mpl.toolbar_items = [[\"Home\", \"Reset original view\", \"fa fa-home\", \"home\"], [\"Back\", \"Back to previous view\", \"fa fa-arrow-left\", \"back\"], [\"Forward\", \"Forward to next view\", \"fa fa-arrow-right\", \"forward\"], [\"\", \"\", \"\", \"\"], [\"Pan\", \"Left button pans, Right button zooms\\nx/y fixes axis, CTRL fixes aspect\", \"fa fa-arrows\", \"pan\"], [\"Zoom\", \"Zoom to rectangle\\nx/y fixes axis\", \"fa fa-square-o\", \"zoom\"], [\"\", \"\", \"\", \"\"], [\"Download\", \"Download plot\", \"fa fa-floppy-o\", \"download\"]];\n",
       "\n",
       "mpl.extensions = [\"eps\", \"jpeg\", \"pgf\", \"pdf\", \"png\", \"ps\", \"raw\", \"svg\", \"tif\", \"webp\"];\n",
       "\n",
       "mpl.default_extension = \"png\";/* global mpl */\n",
       "\n",
       "var comm_websocket_adapter = function (comm) {\n",
       "    // Create a \"websocket\"-like object which calls the given IPython comm\n",
       "    // object with the appropriate methods. Currently this is a non binary\n",
       "    // socket, so there is still some room for performance tuning.\n",
       "    var ws = {};\n",
       "\n",
       "    ws.binaryType = comm.kernel.ws.binaryType;\n",
       "    ws.readyState = comm.kernel.ws.readyState;\n",
       "    function updateReadyState(_event) {\n",
       "        if (comm.kernel.ws) {\n",
       "            ws.readyState = comm.kernel.ws.readyState;\n",
       "        } else {\n",
       "            ws.readyState = 3; // Closed state.\n",
       "        }\n",
       "    }\n",
       "    comm.kernel.ws.addEventListener('open', updateReadyState);\n",
       "    comm.kernel.ws.addEventListener('close', updateReadyState);\n",
       "    comm.kernel.ws.addEventListener('error', updateReadyState);\n",
       "\n",
       "    ws.close = function () {\n",
       "        comm.close();\n",
       "    };\n",
       "    ws.send = function (m) {\n",
       "        //console.log('sending', m);\n",
       "        comm.send(m);\n",
       "    };\n",
       "    // Register the callback with on_msg.\n",
       "    comm.on_msg(function (msg) {\n",
       "        //console.log('receiving', msg['content']['data'], msg);\n",
       "        var data = msg['content']['data'];\n",
       "        if (data['blob'] !== undefined) {\n",
       "            data = {\n",
       "                data: new Blob(msg['buffers'], { type: data['blob'] }),\n",
       "            };\n",
       "        }\n",
       "        // Pass the mpl event to the overridden (by mpl) onmessage function.\n",
       "        ws.onmessage(data);\n",
       "    });\n",
       "    return ws;\n",
       "};\n",
       "\n",
       "mpl.mpl_figure_comm = function (comm, msg) {\n",
       "    // This is the function which gets called when the mpl process\n",
       "    // starts-up an IPython Comm through the \"matplotlib\" channel.\n",
       "\n",
       "    var id = msg.content.data.id;\n",
       "    // Get hold of the div created by the display call when the Comm\n",
       "    // socket was opened in Python.\n",
       "    var element = document.getElementById(id);\n",
       "    var ws_proxy = comm_websocket_adapter(comm);\n",
       "\n",
       "    function ondownload(figure, _format) {\n",
       "        window.open(figure.canvas.toDataURL());\n",
       "    }\n",
       "\n",
       "    var fig = new mpl.figure(id, ws_proxy, ondownload, element);\n",
       "\n",
       "    // Call onopen now - mpl needs it, as it is assuming we've passed it a real\n",
       "    // web socket which is closed, not our websocket->open comm proxy.\n",
       "    ws_proxy.onopen();\n",
       "\n",
       "    fig.parent_element = element;\n",
       "    fig.cell_info = mpl.find_output_cell(\"<div id='\" + id + \"'></div>\");\n",
       "    if (!fig.cell_info) {\n",
       "        console.error('Failed to find cell for figure', id, fig);\n",
       "        return;\n",
       "    }\n",
       "    fig.cell_info[0].output_area.element.on(\n",
       "        'cleared',\n",
       "        { fig: fig },\n",
       "        fig._remove_fig_handler\n",
       "    );\n",
       "};\n",
       "\n",
       "mpl.figure.prototype.handle_close = function (fig, msg) {\n",
       "    var width = fig.canvas.width / fig.ratio;\n",
       "    fig.cell_info[0].output_area.element.off(\n",
       "        'cleared',\n",
       "        fig._remove_fig_handler\n",
       "    );\n",
       "    fig.resizeObserverInstance.unobserve(fig.canvas_div);\n",
       "\n",
       "    // Update the output cell to use the data from the current canvas.\n",
       "    fig.push_to_output();\n",
       "    var dataURL = fig.canvas.toDataURL();\n",
       "    // Re-enable the keyboard manager in IPython - without this line, in FF,\n",
       "    // the notebook keyboard shortcuts fail.\n",
       "    IPython.keyboard_manager.enable();\n",
       "    fig.parent_element.innerHTML =\n",
       "        '<img src=\"' + dataURL + '\" width=\"' + width + '\">';\n",
       "    fig.close_ws(fig, msg);\n",
       "};\n",
       "\n",
       "mpl.figure.prototype.close_ws = function (fig, msg) {\n",
       "    fig.send_message('closing', msg);\n",
       "    // fig.ws.close()\n",
       "};\n",
       "\n",
       "mpl.figure.prototype.push_to_output = function (_remove_interactive) {\n",
       "    // Turn the data on the canvas into data in the output cell.\n",
       "    var width = this.canvas.width / this.ratio;\n",
       "    var dataURL = this.canvas.toDataURL();\n",
       "    this.cell_info[1]['text/html'] =\n",
       "        '<img src=\"' + dataURL + '\" width=\"' + width + '\">';\n",
       "};\n",
       "\n",
       "mpl.figure.prototype.updated_canvas_event = function () {\n",
       "    // Tell IPython that the notebook contents must change.\n",
       "    IPython.notebook.set_dirty(true);\n",
       "    this.send_message('ack', {});\n",
       "    var fig = this;\n",
       "    // Wait a second, then push the new image to the DOM so\n",
       "    // that it is saved nicely (might be nice to debounce this).\n",
       "    setTimeout(function () {\n",
       "        fig.push_to_output();\n",
       "    }, 1000);\n",
       "};\n",
       "\n",
       "mpl.figure.prototype._init_toolbar = function () {\n",
       "    var fig = this;\n",
       "\n",
       "    var toolbar = document.createElement('div');\n",
       "    toolbar.classList = 'btn-toolbar';\n",
       "    this.root.appendChild(toolbar);\n",
       "\n",
       "    function on_click_closure(name) {\n",
       "        return function (_event) {\n",
       "            return fig.toolbar_button_onclick(name);\n",
       "        };\n",
       "    }\n",
       "\n",
       "    function on_mouseover_closure(tooltip) {\n",
       "        return function (event) {\n",
       "            if (!event.currentTarget.disabled) {\n",
       "                return fig.toolbar_button_onmouseover(tooltip);\n",
       "            }\n",
       "        };\n",
       "    }\n",
       "\n",
       "    fig.buttons = {};\n",
       "    var buttonGroup = document.createElement('div');\n",
       "    buttonGroup.classList = 'btn-group';\n",
       "    var button;\n",
       "    for (var toolbar_ind in mpl.toolbar_items) {\n",
       "        var name = mpl.toolbar_items[toolbar_ind][0];\n",
       "        var tooltip = mpl.toolbar_items[toolbar_ind][1];\n",
       "        var image = mpl.toolbar_items[toolbar_ind][2];\n",
       "        var method_name = mpl.toolbar_items[toolbar_ind][3];\n",
       "\n",
       "        if (!name) {\n",
       "            /* Instead of a spacer, we start a new button group. */\n",
       "            if (buttonGroup.hasChildNodes()) {\n",
       "                toolbar.appendChild(buttonGroup);\n",
       "            }\n",
       "            buttonGroup = document.createElement('div');\n",
       "            buttonGroup.classList = 'btn-group';\n",
       "            continue;\n",
       "        }\n",
       "\n",
       "        button = fig.buttons[name] = document.createElement('button');\n",
       "        button.classList = 'btn btn-default';\n",
       "        button.href = '#';\n",
       "        button.title = name;\n",
       "        button.innerHTML = '<i class=\"fa ' + image + ' fa-lg\"></i>';\n",
       "        button.addEventListener('click', on_click_closure(method_name));\n",
       "        button.addEventListener('mouseover', on_mouseover_closure(tooltip));\n",
       "        buttonGroup.appendChild(button);\n",
       "    }\n",
       "\n",
       "    if (buttonGroup.hasChildNodes()) {\n",
       "        toolbar.appendChild(buttonGroup);\n",
       "    }\n",
       "\n",
       "    // Add the status bar.\n",
       "    var status_bar = document.createElement('span');\n",
       "    status_bar.classList = 'mpl-message pull-right';\n",
       "    toolbar.appendChild(status_bar);\n",
       "    this.message = status_bar;\n",
       "\n",
       "    // Add the close button to the window.\n",
       "    var buttongrp = document.createElement('div');\n",
       "    buttongrp.classList = 'btn-group inline pull-right';\n",
       "    button = document.createElement('button');\n",
       "    button.classList = 'btn btn-mini btn-primary';\n",
       "    button.href = '#';\n",
       "    button.title = 'Stop Interaction';\n",
       "    button.innerHTML = '<i class=\"fa fa-power-off icon-remove icon-large\"></i>';\n",
       "    button.addEventListener('click', function (_evt) {\n",
       "        fig.handle_close(fig, {});\n",
       "    });\n",
       "    button.addEventListener(\n",
       "        'mouseover',\n",
       "        on_mouseover_closure('Stop Interaction')\n",
       "    );\n",
       "    buttongrp.appendChild(button);\n",
       "    var titlebar = this.root.querySelector('.ui-dialog-titlebar');\n",
       "    titlebar.insertBefore(buttongrp, titlebar.firstChild);\n",
       "};\n",
       "\n",
       "mpl.figure.prototype._remove_fig_handler = function (event) {\n",
       "    var fig = event.data.fig;\n",
       "    if (event.target !== this) {\n",
       "        // Ignore bubbled events from children.\n",
       "        return;\n",
       "    }\n",
       "    fig.close_ws(fig, {});\n",
       "};\n",
       "\n",
       "mpl.figure.prototype._root_extra_style = function (el) {\n",
       "    el.style.boxSizing = 'content-box'; // override notebook setting of border-box.\n",
       "};\n",
       "\n",
       "mpl.figure.prototype._canvas_extra_style = function (el) {\n",
       "    // this is important to make the div 'focusable\n",
       "    el.setAttribute('tabindex', 0);\n",
       "    // reach out to IPython and tell the keyboard manager to turn it's self\n",
       "    // off when our div gets focus\n",
       "\n",
       "    // location in version 3\n",
       "    if (IPython.notebook.keyboard_manager) {\n",
       "        IPython.notebook.keyboard_manager.register_events(el);\n",
       "    } else {\n",
       "        // location in version 2\n",
       "        IPython.keyboard_manager.register_events(el);\n",
       "    }\n",
       "};\n",
       "\n",
       "mpl.figure.prototype._key_event_extra = function (event, _name) {\n",
       "    // Check for shift+enter\n",
       "    if (event.shiftKey && event.which === 13) {\n",
       "        this.canvas_div.blur();\n",
       "        // select the cell after this one\n",
       "        var index = IPython.notebook.find_cell_index(this.cell_info[0]);\n",
       "        IPython.notebook.select(index + 1);\n",
       "    }\n",
       "};\n",
       "\n",
       "mpl.figure.prototype.handle_save = function (fig, _msg) {\n",
       "    fig.ondownload(fig, null);\n",
       "};\n",
       "\n",
       "mpl.find_output_cell = function (html_output) {\n",
       "    // Return the cell and output element which can be found *uniquely* in the notebook.\n",
       "    // Note - this is a bit hacky, but it is done because the \"notebook_saving.Notebook\"\n",
       "    // IPython event is triggered only after the cells have been serialised, which for\n",
       "    // our purposes (turning an active figure into a static one), is too late.\n",
       "    var cells = IPython.notebook.get_cells();\n",
       "    var ncells = cells.length;\n",
       "    for (var i = 0; i < ncells; i++) {\n",
       "        var cell = cells[i];\n",
       "        if (cell.cell_type === 'code') {\n",
       "            for (var j = 0; j < cell.output_area.outputs.length; j++) {\n",
       "                var data = cell.output_area.outputs[j];\n",
       "                if (data.data) {\n",
       "                    // IPython >= 3 moved mimebundle to data attribute of output\n",
       "                    data = data.data;\n",
       "                }\n",
       "                if (data['text/html'] === html_output) {\n",
       "                    return [cell, data, j];\n",
       "                }\n",
       "            }\n",
       "        }\n",
       "    }\n",
       "};\n",
       "\n",
       "// Register the function which deals with the matplotlib target/channel.\n",
       "// The kernel may be null if the page has been refreshed.\n",
       "if (IPython.notebook.kernel !== null) {\n",
       "    IPython.notebook.kernel.comm_manager.register_target(\n",
       "        'matplotlib',\n",
       "        mpl.mpl_figure_comm\n",
       "    );\n",
       "}\n"
      ],
      "text/plain": [
       "<IPython.core.display.Javascript object>"
      ]
     },
     "metadata": {},
     "output_type": "display_data"
    },
    {
     "data": {
      "text/html": [
       "<img src=\"data:image/png;base64,iVBORw0KGgoAAAANSUhEUgAAAoAAAAHgCAYAAAA10dzkAAAAAXNSR0IArs4c6QAAAERlWElmTU0AKgAAAAgAAYdpAAQAAAABAAAAGgAAAAAAA6ABAAMAAAABAAEAAKACAAQAAAABAAACgKADAAQAAAABAAAB4AAAAAAfNMscAABAAElEQVR4AezdB5xU1fn/8WfpiPS2iygiVkRFQBCxoKEZRdBYAcEaFRVRY+GvBjBG7IoNEUVQjJhILISIXQSlCaICCtKRIs3QWdr93+/xd68zs7OVXXZn5nNer2FuObec913dZ0+7aZ6fjIQAAggggAACCCCQMgKlUqakFBQBBBBAAAEEEEDACRAA8oOAAAIIIIAAAgikmAABYIo9cIqLAAIIIIAAAggQAPIzgAACCCCAAAIIpJgAAWCKPXCKiwACCCCAAAIIEADyM4AAAggggAACCKSYAAFgij1wiosAAggggAACCBAA8jOAAAIIIIAAAgikmAABYIo9cIqLAAIIIIAAAggQAPIzgAACCCCAAAIIpJgAAWCKPXCKiwACCCCAAAIIEADyM4AAAggggAACCKSYAAFgij1wiosAAggggAACCBAA8jOAAAIIIIAAAgikmAABYIo9cIqLAAIIIIAAAggQAPIzgAACCCCAAAIIpJgAAWCKPXCKiwACCCCAAAIIEADyM4AAAggggAACCKSYAAFgij1wiosAAggggAACCBAA8jOAAAIIIIAAAgikmAABYIo9cIqLAAIIIIAAAggQAPIzgAACCCCAAAIIpJgAAWCKPXCKiwACCCCAAAIIEADyM4AAAggggAACCKSYAAFgij1wiosAAggggAACCBAA8jOAAAIIIIAAAgikmAABYIo9cIqLAAIIIIAAAggQAPIzgAACCCCAAAIIpJgAAWCKPXCKiwACCCCAAAIIEADyM4AAAggggAACCKSYAAFgij1wiosAAggggAACCBAA8jOAAAIIIIAAAgikmAABYIo9cIqLAAIIIIAAAggQAPIzgAACCCCAAAIIpJgAAWCKPXCKiwACCCCAAAIIEADyM4AAAggggAACCKSYAAFgij1wiosAAggggAACCBAA8jOAAAIIIIAAAgikmAABYIo9cIqLAAIIIIAAAggQAPIzgAACCCCAAAIIpJgAAWCKPXCKiwACCCCAAAIIEADyM4AAAggggAACCKSYAAFgij1wiosAAggggAACCBAA8jOAAAIIIIAAAgikmAABYIo9cIqLAAIIIIAAAggQAPIzgAACCCCAAAIIpJgAAWCKPXCKiwACCCCAAAIIEADyM4AAAggggAACCKSYAAFgij1wips8AiNGjLBq1aolT4EoCQIIIIDAfhMgANxv1FwokQSuuOIKS0tLy/JZsGBBiSnGJZdcYvPnz8/xfuKV4dRTTw2PyW1/mJEFBBBAAIGkEiiTVKWhMAgUokCnTp3slVdeiTpj7dq1o9bzurJr1y4rW7ZsVPZ426Iy5LCiYytWrOg+OWRzu1QGlSVI5cqVCxbztD8qMysIIIAAAkkhQA1gUjxGClEUAuXLl7f09PSoT+nSpd2lxo4da82bN7cKFSrYYYcdZgMHDrTdu3eHt6GatRdeeMG6dOlilSpVsgceeMAGDBhgTZs2teHDh7tjdH7P82z8+PGmWjk159asWdPOPfdcW7hwYXiuJUuWuJrIf/7zn9a2bVt3zVGjRllem4B13shy1KhRIzy3FnLbH5WZFQQQQACBpBAgAEyKx0gh9qfABx98YD169LA+ffrY3LlzbejQoS4Y+/vf/x51G/3793cB4Pfff29XXXWV26cmZAVyY8aMsVmzZrltW7dutdtuu82mT59un3zyiZUqVcrOP/9827t3b9T57rrrLnfNH374wTp27Bi1jxUEEEAAAQTyJeDXQJAQQCBGoFevXp5f2+f5tXfh58ILL3S5TjvtNO/BBx+MOuK1117zMjIywm3+f4Re3759w3Ut+AGh5zcDe2vWrInaHrui/TreDxzdrsWLF7v1p556Kiqr37TrVa1aNWpb7IrO49dShmVQed5+++0wW277w4wsIIAAAggklQB9AP3fgCQE4gmceeaZNmTIkHCXmnKVZsyY4WrrImv89uzZYzt27LBt27bZAQcc4PK1aNHCfUf+06BBA4vtR6jm3vvuu8+mTJli69atC2v+li1bZk2aNAkPj3e+cGcOC08++aS1a9cuzOEHquGyFnLbH5WZFQQQQACBpBAgAEyKx0ghikJAAd/hhx+e5dRqmlWfvwsuuCDLPvUJDFIQMAbr+o63rXPnznbwwQfbsGHDrF69ei4AVOC3c+fOyEPjHhuVIZsV9f+LV44ge277g3x8I4AAAggkjwAB4D48SwUCK1eutMqVK7tO+vtwKg4tYQIaZatBHZs2bcpyZyeccIKpX9/111+fZd+WLVvCbaoNjDw+MzPTBXeR2zZs2GDq0/fEE0/YSSed5I6dPHmy+w6O37x5s1vXuSOP3b59u9seuc1tiPknOE/M5nA1t/1hRhYQQACBJBHw23JN/2/VH93qd52KKU0N2qlY8MIo888//+xqbgrjXJwDAQQQQAABBPavwPLly61+/fr796Il5GrUAO7Dg1DNn5J+gKpUqbIPZ+LQ4hKYtmiDXTVyepbLr//gOfMyt1qt8+50+4b3OslaHvb79Ckff/yxPfLII/bdd9+5+f2OOOII69mzp2kCaSV/cIa9/vrrbkoXt8H/Z9CgQTZu3DibNGlSsMl9f/bZZ6YRvpruRed5+OGH7ZxzzgmPX7p0qR1//PE2ceJE9x0crPP369fP1FcwuxTvPiLz5rY/Mi/LCCCAQLIIqOVEXW+C3+PJUq78lIMawPxoxeTVD5B+gW7cuJEAMMYmUVbfnbXCbhn923QsOd3z4EubWpemB+WUhX0IIIAAAgkiwO9vs9Rs+E6QH1Bus+gF6lT+fdBGTlfLa76czsE+BBBAAAEESooAAWBJeRLcR7EItGxYwzKqVrC0bK6u7dqvfCQEEEAAAQSSRYAAMFmeJOUokEDpUmnWv3Njd2xsEBisa7/ykRBAAAEEEEgWAQLAZHmSlKPAAp2aZNiQHs0s3a/pi0xa13btJyGAAAIIIJBMAowCTqanSVkKLKAgr33jdJu2eIOt2bzD1OdPzb7U/BWYlAMRQAABBEqwAAFgCX443Nr+FVCw17pRzf17Ua6GAAIIIIBAMQjQBFwM6FwSAQQQQAABBBAoTgECwOLU59oIIIAAAggggEAxCBAAFgM6l0QAAQQQQAABBIpTgACwOPW5NgIIIFBCBPQaw65du5aQu8nbbezcudMeffRRa9asmVWqVMm9memEE06we++911auXOlOsmfPHjvllFPsT3/6U9RJ9QYnvQpMefOSrrvuOktLS7OnnnoqS/bJkyfbWWed5e6hWrVq1rZtW9u+fXuY79dff7XLL7/c3Z/eHqXl//3vf+F+FhAoDgECwOJQ55oIIIAAAvskkJmZae3bt7cHH3zQvYP7iy++sBkzZrh3dK9fv96eeeYZd/7SpUvbyJEjbfz48e792sFFb775ZqtRo4b99a9/DTZl+/3OO+/Y1KlTrV69elnyKPjr1KmTdejQwaZNm2bTp0+3m266yUqV+v3Xa7du3WzWrFnuHnQfWlYQSEKgWAU8UoEF/L8gPf/hefomIYAAAoks0KtXL69Lly7ZFmHOnDne2Wef7fk1bV6dOnW8Hj16eGvXrnX5P/vsM69s2bKeH4SFxz/22GNezZo1Pb8mzm1r0KCB9+STT4b7teDX1nn9+/cPt2nZr5XzypUr52VkZHh+kBbui10YNGiQ5wdZ3syZM2N3ufW9e/dGbR88eLBXvXp1b8WKFZ4f0Ln7/eabb6LyxFv5+eefvYMOOsibPXu2F68MrVq18vxaxHiHum1z5851vyemTJkS5vGDRrftxx9/DLexsH8F+P3teb//iVKsYSgXRwABBBAoqQKrVq2yM844w5o2bWpff/21q8n65Zdf7OKLL3a3rCbPvn37ulotNa1+++23ds8999iwYcPMD+TyVKy33nrL/ADRhg4daj/99JOp1u24447L9tg33njD1QCeeOKJcfOouTYyqcZPzcM9e/a0P//5z67mT+XJKflBpCvTHXfcYccee2yWrGvWrHE1g35A7JqZ69at65wmTZoU5lUNoZp9/UAx3HbyySe7bV999VW4jQUE9rcAAeD+Fud6CCCAQIIJDBkyxPWzU3Pr0UcfbQq6hg8fbn7Nn82fP9+V5oEHHnBNqgquunfv7gKn888/P88lXbZsmaWnp1u7du3skEMOsZYtW9q1116b7fG67lFHHRW1X9c78MAD3Uf9/iKTAkKV45NPPjEFanfffXfk7rjLDz/8sJUpU8b69OkTd/+iRYvc9gEDBrh7VfOu+iP+4Q9/cEGsdq5evdoUIMYmbdM+EgLFJUAAWFzyXBcBBBAoZoE9ez2bvHC9vTtrha3dnGmeGibjJPWtU7AXBFf6ViCotHDhQvftN9vaqFGjbMyYMW4ARLzBEi5jNv9cdNFF7rjDDjvMBVNvv/227d69O5vcv22OreV7/vnnXf+6q666yrZt25blWAWtBxxwgC1evNj8pt0s+yM3qMx+s7GNGDHCDf6I3Bcsq4ZQSQNErrzyShcYqxZTgamuFaTY+9R2v8Ez2/MGx/GNQFEKEAAWpS7nRgABBEqowPjZq+zUhz+1y4ZNsVtGz7IJ89faxJ/WmrbHJgU6nTt3dsGVBjAEHzXVnn766WH2oElzw4YNpk9k0qAIBT2RadeuXeGqRuTOmzfPnnvuOatYsaL17t3bnTsyT5jZXzjiiCPM70MXuck1Nx9++OGuJjJqh7+iplgFZ++++661bt3arr766iz3E3nMxIkTTU28qo1ULaA+S5cutdtvv90OPfRQlzVo3m7cuHHkoXbMMceYajSVVKup5vLY5PefdDWRsdtZR2B/CRAA7i9proMAAgiUEAEFeTeMmmmrNu6IuqMdu/e67bFBoJo1/UEgLvBRgBX50fQrSqoJvPXWW12/P/VxU1+7oIZM+2vXrm3qSxikTZs2uZq4YF3fCvzOO+88e/rpp+3zzz93Qdv3338fmSVcvuyyy+yjjz4yfyBHuC27BU3J4g9ycTV1amJ+6aWX3Ghd9TfMLmmU7nfffRcGuwp6NQpY/QE/+OADd5gCQW1T4BqZ1DztDxhxmxRsql+kRggHSSOKtS22mTrYzzcC+0OAdwHvD2WugQACCJQQATX7Dhw716Lr4n67ub2ZWy3zl0V259CfrfaVLU3vx9ZUKTfeeKML7BR0KQCqVauWLViwwEaPHu2262gFTJoKRU2h/mhhN4Dj8ccfd/m1X/PkqTlVNYn+aFy77777TFO0BEn7NGefBkuomfa1115zAWEQSAX5gm8Fm+PGjXPnVR+80047zZ1Xwdf7778fdW7191Mwqj59SqrV073ddtttbgqXoEYvOLe+/RHM7hO5zR/p7Gr0gr6HatqVhz962Q0w0aASTTmjmkkNalFSbaCmiVF/xiDgVD/Jc889N0sfxshrsYxAkQvs34HXyXU1hpEn1/OkNAikgsBXC9Z5De76T5ZPpSZ/UEyY5aPpYZT8wMrzB1l4/kTHnl9T5/l9AD1/5K/nB1bewIED3bQt69atc3n1j6Za0XQuwVQr+v+lP2rYq1KlipvqxQ/4oqaB8fv8eZpSRfs11Yxfi+h9/PHH4fniLezYscN76KGH3Hl0T+XLl3f35QeHnt8E6w7xaxI9P9D0/CbdLKfwA1bPD0xdGbLsjLMh3jQwyqYpaerXr+/5gavn1/hluZY/L6HnD4zxKleu7D5a9ieHjnMFNu0vAX5/e16asIs8ykzSC6gJQ8P7VZXv/08rSUtJsRBAIJkENOBDff5yS4MvbWpdmh6UWzb2I5CQAvz+NqMPYEL+6HLTCCCAQMEE6lSukKcD85ovTycjEwIIlDgBAsAS90i4IQQQQKDoBFo2rGEZVStY9DTJv19P27Vf+UgIIJC8AgSAyftsKRkCCCCQRUADO/p3/m3aktggMFjXfuUjIYBA8goQACbvs6VkCCCAQFyBTk0ybEiPZpbu1/RFJq1ru/aTEEAguQWYBia5ny+lQwABBOIKKMhr3zjdpi3eYGs27zD1+VOzLzV/cbnYiEDSCRAAJt0jpUAIIIBA3gQU7LVuVDNvmcmFAAJJJUATcFI9TgqDAAIIIIAAAgjkLkAAmLsRORBAAAEEEEAAgaQSIABMqsdJYRBAAAEEEEAAgdwFCABzNyIHAggggAACCCCQVAIEgEn1OCkMAggggAACCCCQuwABYO5G5EAAAQQQQAABBJJKgAAwqR4nhUEAAQQQQAABBHIXIADM3YgcCCCAAAIIIIBAUgkQACbV46QwCCCAAAIIIIBA7gIEgLkbkQMBBBBAAAEEEEgqAQLApHqcFAYBBBBAAAEEEMhdgAAwdyNyIIAAAggggAACSSVAAJhUj5PCIIAAAggggAACuQsQAOZuRA4EEEAAAQQQQCCpBAgAk+pxUhgEEEAAAQQQQCB3AQLA3I3IgQACCCCAAAIIJJVAUgeAK1assB49eljNmjXtgAMOsKZNm9qMGTPCB+h5ng0YMMDq1atnFStWtLZt29qcOXPC/SwggAACCCCAAALJKJC0AeCvv/5qbdq0sbJly9r7779vc+fOtccff9yqVasWPsdHHnnEnnjiCXv22Wdt+vTplp6ebu3bt7fNmzeHeVhAAAEEEEAAAQSSTSDNrwXzkq1QKs/dd99tX375pU2cODFu8VRs1fz17dvX7rrrLpcnMzPT6tataw8//LBdd911cY+L3Lhp0yarWrWqbdy40apUqRK5i2UEEEAAAQQQKKEC/P42S9oawPfee89atGhhF110kdWpU8dOPPFEGzZsWPijuHjxYlu9erV16NAh3Fa+fHk744wz7Kuvvgq3sYAAAggggAACCCSbQNIGgIsWLbIhQ4bYEUccYR988IFdf/311qdPH3v11VfdM1Twp6Qav8ik9WBf5HYtq4ZQfzVEfmLzsI4AAggggAACCJR0gTIl/QYLen979+51NYAPPvigO4VqADXAQ0Fhz549w9OmpaWFy1pQ03DstiDDoEGDbODAgcEq3wgggAACCCCAQEIKJG0NYEZGhjVu3DjqoRxzzDG2bNkyt00DPpRia/vWrFmTpVbQZfT/6devn+vvpz5/+ixfvjzYxTcCCCCAAAIIIJAwAkkbAGoE8Lx586IexPz5861BgwZuW8OGDd2o348++ijMs3PnTpswYYKdcsop4bbIBfUR1GCPyE/kfpYRQAABBBBAAIFEEEjaJuBbb73VBXJqAr744ott2rRp9uKLL7qPHoyaeTUCWPvVT1AfLWu+wG7duiXCs+MeEUAAAQQQQACBAgkkbQB40kkn2dtvv+2abe+//35Tjd9TTz1l3bt3D6HuvPNO2759u/Xu3ds0b2CrVq3sww8/tMqVK4d5WEAAAQQQQAABBJJNIGnnAdwfD4p5hPaHMtdAAAEEEECgcAX4/Z3E8wAW7o8KZ0MAAQQQQAABBJJHIGkHgSTPI6IkCCCAAAIIIIBA4QoQABauJ2dDAAEEEEAAAQRKvAABYIl/RNwgAggggAACCCBQuAIEgIXrydkQQAABBBBAAIESL0AAWOIfETeIAAIIIIAAAggUrgABYOF6cjYEEEAAAQQQQKDECxAAlvhHxA0igAACCCCAAAKFK0AAWLienA0BBBBAAAEEECjxAgSAJf4RcYMIIIAAAggggEDhChAAFq4nZ0MAAQQQQAABBEq8AAFgiX9E3CACCCCAAAIIIFC4AgSAhevJ2RBAAAEEEEAAgRIvQABY4h8RN4gAAggggAACCBSuAAFg4XpyNgQQQAABBBBAoMQLEACW+EfEDSKAAAIIIICABK644gpLS0sLPzVr1rROnTrZd999FwUU5JkyZUrU9szMTNMxVatWDbeffPLJdsMNN4TrWhgyZIi7xssvvxy1/eqrr7ZTTjklalvkyqGHHuqOGz16dORmt3zssce6fSNGjAj3tW3bNixLcM+XXnppuL8oFwgAi1KXcyOAAAIIIIBAoQoo4Fu1apX7fPLJJ1amTBk799xzs1zj4IMPtldeeSVq+9tvv20HHnhg1LYzzzzTPvvss6htn3/+uen4eNuVP6cU77oKRFevXm2VKlXKcui1114blkflGjp0aJY8RbGBALAoVDknAggggAACCBSJQPny5S09Pd19mjZtanfddZctX77c1q5dG3W9Xr16mWritm/fHm4fPny4aXtkUkA3b948F4QF2ydMmGD9+vUzBYJB0jUWLVpkuQWA3bt3Nx2v/EHSdbVdwWpsOuCAA8LyqFyRtZOxeQtznQCwMDU5FwIIIIAAAgjsN4EtW7bY66+/bocffrhr2o28cPPmza1hw4Y2ZswYt1kB2RdffGGXX355ZDZr06aNlS1bNgz25s6d64LGq666yjZt2mQ//fSTy6/awHLlyuXYBKyMdevWtY4dO9rIkSPdcdu2bbM333zTdL54Sfdfq1YtUxPxX/7yF9u8eXO8bIW+jQCw0Ek5IQIIIIAAAggUlcB//vMf14yrptzKlSvbe++95wKsUqWyhjRXXnmlqfZNSc3Bf/zjH6127dpRt6Zm2ZNOOikMAFXrd+qpp5pqGhUcal1J361atTLV2OWWFOypr5/nefbWW29Zo0aNTLWVsUm1gm+88YY793333eeC1QsuuCA2W5GsZ9UqkstwUgQQQAABBBBAIP8Ce/Z6Nnnhent31gpbuznT2rY902bNmuU+U6dOtQ4dOtjZZ59tS5cuzXLyHj162OTJk13TrQKy7Grh1KyrAE9J3xqcoXTGGWdEbT/rrLPc9tz+Oeecc0y1k6pxVACa3XXV/69du3bWpEkT0+APBYsff/yxzZw5M7dL7PN+AsB9JuQECCCAAAIIIFAUAuNnr7JTH/7ULhs2xW4ZPcsmzF9rM1duswU7Krlm35YtW5pG6m7dutWGDRuW5RY04lcDRDR6d8eOHS5QzJLJ36AAcP78+bZixQrXf0+Bn1IQAC5btswWL16ca/8/d5D/j/r6qam5f//+piBVNX15Sc2aNXPN0UGzc16OKWgeAsCCynEcAggggAACCBSZgIK/G0bNtFUbd0RdY8fuvW679itp+hQ1/0YO9og8QLVvqtXr2bOnlS5dOnJXuKypXdTk+/zzz7vzqP+gUosWLWzjxo1uZG6FChVMU8bkNem6GgzSpUsXq169ep4OmzNnju3atcsyMjLylH9fMmUdjrIvZ+NYBBBAAAEEEEBgHwXU7Dtw7Fzz4pzH273Ldm/51e75xySr3/1YG/L8c665tXPnznFym5snUCOEq1SpEne/NlasWNH173vmmWdcv78gUNTgkNatW5u2B0FitieJ2XHMMcfYunXrsu0zuHDhQjeARf0SNQhEg09uv/12O/HEE909xJyu0FepASx0Uk6IAAIIIIAAAvsiMG3xhiw1f8H5diyeYT8/d7nNHHSxC9qmT59u//rXv8J+e0G+4Fs1hAqwNII3p6RmYI3ADfr/BXnVDKztuU3/EuSP/FYTtILLeEn3o3kMNWL4qKOOsj59+rj+jOoDGASg8Y4rrG1p/giVeAF2YZ0/qc+j4eGar0fVwzn9ZZHUCBQOAQQQQACBQhbQgA/1+cstDb60qXVpelBu2bLs5/e3GTWAWX4s2IAAAggggAACxSlQp3KFPF0+r/nydLIUy0QAmGIPnOIigAACCCBQ0gVaNqxhGVUrWFo2N6rt2q98pIIJEAAWzI2jEEAAAQQQQKCIBEqXSrP+nRu7s8cGgcG69isfqWACBIAFc+MoBBBAAAEEEChCgU5NMmxIj2aW7tf0RSata7v2kwouwDQwBbfjSAQQQAABBBAoQgEFee0bp5tGBa/ZvMPU50/NvtT87Ts6AeC+G3IGBBBAAAEEECgiAQV7rRvVLKKzp+5paQJO3WdPyRFAAAEEEEAgRQUIAFP0wVNsBBBAAAEEEEhdAQLA1H32lBwBBBBAAAEEUlSAADBFHzzFRgABBBBAAIHUFSAATN1nT8kRQAABBBBAIEUFCABT9MFTbAQQQAABBBBIXQECwNR99pQcAQQQQAABBFJUgAAwRR88xUYAAQQQQACB1BUgAEzdZ0/JEUAAAQQQQCBFBQgAU/TBU2wEEEAAAQQQSF0BAsDUffaUHAEEEEAAAQRSVIAAMEUfPMVGAAEEEEAAgdQVIABM3WdPyRFAAAEEEEAgRQUIAFP0wVNsBBBAAAEEEEhdAQLA1H32lBwBBBBAAAEEUlQgJQLAQYMGWVpamvXt2zd8zJ7n2YABA6xevXpWsWJFa9u2rc2ZMyfczwICCCCAAAIIIJCsAkkfAE6fPt1efPFFO/7446Oe4SOPPGJPPPGEPfvss6Y86enp1r59e9u8eXNUPlYQQAABBBBAAIFkE0jqAHDLli3WvXt3GzZsmFWvXj18dqr9e+qpp+yee+6xCy64wJo0aWIjR460bdu22T/+8Y8wHwsIIIAAAggggEAyCiR1AHjjjTfaOeecY+3atYt6dosXL7bVq1dbhw4dwu3ly5e3M844w7766qtwW+xCZmambdq0KeoTm4d1BBBAAAEEEECgpAuUKek3WND7Gz16tM2cOdM178aeQ8GfUt26daN2aX3p0qVR2yJX1Jdw4MCBkZtYRgABBBBAAAEEEk4gKWsAly9fbrfccouNGjXKKlSokO1D0cCQyKSm4dhtkfv79etnGzduDD+6DgkBBBBAAAEEEEg0gaSsAZwxY4atWbPGmjdvHj6PPXv22BdffOEGfcybN89tV01gRkZGmEfHxNYKhjv9BTUT60NCAAEEEEAAAQQSWSApawD/8Ic/2Pfff2+zZs0KPy1atHADQrTtsMMOc6N+P/roo/DZ7dy50yZMmGCnnHJKuI0FBBBAAAEEEEAgGQWSsgawcuXKbmRv5AOrVKmS1axZM9yuOQEffPBBO+KII9xHywcccIB169Yt8jCWEUAAAQQQQACBpBNIygAwL0/pzjvvtO3bt1vv3r3t119/tVatWtmHH35oCh5JCCCAAAIIIIBAMguk+QMfvGQuYFGWTVPCVK1a1Q0KqVKlSlFeinMjgAACCCCAQCEJ8PvbLCn7ABbSzwenQQABBBBAAAEEklKAADApHyuFQgABBBBAAAEEshcgAMzehj0IIIAAAggggEBSChAAJuVjpVAIJI/AFVdcYV27ds1zgZYsWeImdNeUT8mQPv/8c1ee//3vf8lQHMqAAAIlRIAAsIQ8CG4DgeIQyC64SuSg4+CDD7ZVq1aFUz5l57pgwQK76qqr7JBDDnETvB900EGmOURff/112717d3aH7fftmptU5dGAMxICCCBQWAIpOw1MYQFyHgQQKFkCpUuXdhO953RX06ZNs3bt2tmxxx5rzz33nB199NG2ZcsWmzt3rr3wwgsueDzhhBNyOsV+21euXLlcy7PfboYLIYBA0ghQA5g0j5KCIFA0Alu3bjVNc/TWW29FXWDs2LGmCdY3b95s8WoM1QSrd2urSVZpxIgRVq1aNfvggw/smGOOsQMPPNA6derkardcBv8fvbLxtttuc/k0cbvm64ydqWr8+PF26qmnhnnOPfdcW7hwYXAKdz1dN7smYJ1PNZ9HHnmkffnll9a5c2c3GfyJJ57o3hY0ceJEO/7448PzrVixwi655BKrXr26m0y+S5cuYZmUSedSE/Vjjz3mXi2p+77xxhtt165d4Tn0piGVRbWMMtO8ozIL0tKlS9196Brar8D0v//9r9sda5tT3uB8fCOAAAK5CRAA5ibEfgRSXEAByaWXXmqvvPJKlITWL7zwwnxNnr5t2zYXKL322mvu3dzLli2zv/zlL+F5H3/8cRs+fLi9/PLLNmnSJNuwYYO9/fbb4X4tKCBVkDh9+nT75JNPrFSpUnb++efb3r17o/Jlt6LA8IcffnDX1bHxkgJIJd3vmWee6YJVvUtc9xQErgrqgvTZZ5+5IFTfI0eOdMGuAt4gXXnllS7YHD16tH333Xd20UUXueD3p59+clkUMGZmZjoTvcby4YcfdtcJjo/8zk/eyONYRgABBKIENBE0qWACGzdu1CTanr5JCCSiQK9evTy/ydTzg7yoT4UKFdzPtv+WHFesqVOnunx+bZhbX7t2rVe2bFnPr51y637gE5VfG7/55hu3bfHixS6PHzC6db/vnVvXP37zq1e3bt1wPSMjw3vooYfCdb8Wzatfv77n17qF22IX1qxZ487rB05ul66n/y51/XjJD8Lc/pkzZ4a7f/nll6jy676U/EDUO+qoozw/uAzz+oGaV7FiRc+vyXTbZNigQQPP7zcY5vEDPM+vNXTrKq8fUHqBXZDJ72/o9evXz60ed9xx3oABA4JdUd+xtjnljTqQFQQQyFaA39+eF//P36gQkZXcBPbs1e8TEgKJIaCf18kL19u7s1bY2s2Z1rbtma65VDVjweell16KKkzLli1ds+Srr77qtqsGT4MnTj/99Kh8ua3ofduNGjUKs/kBn/kBnFv3/4fsmoNbt24d7i9Tpoy1aNEiXNeCmnv1zu7DDjvMNU03bNjQ7VdtYn5SUMunY9RsG5RdzdRB7d6MGTNMg0X0ikjV/OlTo0YN27FjR1Szs5ps1fcwSJHl8gNN14ytJufgHPqeMGFCeI4+ffrYAw88YG3atLH+/fu7WsLgXLHf+ckbeyzrCCCAQCDAIJBAYh++Zyz51do1ZYTePhBy6H4SGD97lQ0cO9dWbdzhrrhu/lort2e7LdhRyTo1yQjv4ueffw6Xg4VrrrnGnn32Wbv77rtdc7CaNYMgKmhK9f/cDrJH9YELNvq1hsGi+9bxkcdE7cxmRX32NNJ32LBhVq9ePdf026RJkzBoy+awcPMRRxzhln/88Udr2rSpW1bwdvjhh7tlBZ1BUrNy8+bN3cjgYFvwXbt27WDR4pUraJLWt86vYDIySNTBCgSVZNuxY0cbN26ceyf5oEGDTM3hN998s9sf+U9+8kYexzICCCAQKUANYKRGAZfXbvntl2kBD+cwBPaLgIK/G0bNDIO/4KI7du9127U/p9SjRw9TLdvTTz9tc+bMMb/pM8weBEOariRIqlHLT9I0J6o5mzJlSniYpmNR4BSk9evXu/579957r5uyRYNJ/GbqYHeevjXYQ6N+NWgjCNKyO7BZs2amfnp16tRxAaKCxOCT12lZdD0NblFNZ3Bs8J2enh5eWkHt9ddfb//+97/t9ttvdwFuuDNmIT95Yw5lFQEEEHACBICF8INQ+8AKhXAWToFA0Qmo2Vc1f7/Xz2W9lvbn1J1BI1QvuOACu+OOO6xDhw7m980LT6KARkGJ34/N5s+f72qyVIOV33TLLbeY3wfQDfxQDV3v3r0tcgLkYCTuiy++6JpmP/30UzcgJD/XUa2jBrDMmzfPNbm+9957LsgLpoDx+zeGNXXdu3e3WrVqmUb+anSw37/QNd3qPuPVksa7DzX96jw9e/Z0wZ3OoQEsGugRjPTt27evGx2tfWoyVrkU3MZL+ckb73i2IYAAAhIgACyEn4Pmh1YvhLNwCgSKTmDa4g1Zav4ir6bAUM3CypdTuvrqq11TqyZQjkxqAn3jjTdMQZvmz1Nwoz5t+U2q+VKgdIU/tYr6AqrvnUb4BklNzRpJq1pBNfveeuut9uijjwa78/x98sknu3P4AzzclC2NGzc2TbisMjz55JN2ww03uHOpz6JG/6q/o4JfBWUq+/bt213/w7xeUAGnyqXy6ZrnnXee+QNrXNCsc6iGUKN7dX5NjaM8zz//fNzT5ydv3BOwEQEEEPAF0jREBomCCWzatMnNzq/O65onjYRASRXQgI9bRufeJDv40qbWpelB2RZDb8lQ7dfKlStNExSTEEAAgUQU4Pe32e+9nRPxCXLPCCCQJ4E6lfPWTSG7fJoPT82TGpxw3XXXEfzlSZ1MCCCAQMkVoAm45D4b7gyBQhNo2bCGZVStYL9Nb5z1tNqu/coXLz3yyCNuxKw/Z5/5c9fFy8I2BBBAAIEEEqAJeB8eFlXI+4DHoftdIBgFrAtH9vsIgsIhPZpFTQWz32+QCyKAAAL7SYDf3wwC2U8/alwGgeIX0Dx/CvLS/Zq+yKR1gr9IEZYRQACB5BegD2DyP2NKiEAooCCwfeN0N9p3zeYdpj5/avYtXSqoBwyzsoAAAgggkMQCBIBJ/HApGgLxBBTstW5UM94utiGAAAIIpIgAg0BS5EFTTAQQQAABBBBAIBAgAAwk+EYAAQQQQAABBFJEgAAwRR40xUQAAQQQQAABBAIBAsBAgm8EEEAAAQQQQCBFBAgAU+RBU0wEEEAAAQQQQCAQIAAMJPhGAAEEEEAAAQRSRIAAMEUeNMVEAAEEEEAAAQQCAQLAQIJvBBBAAAEEEEAgRQQIAFPkQVNMBBBAAAEEEEAgECAADCT4RgABBBBAAAEEUkSAADBFHjTFRAABBBBAAAEEAgECwECCbwQQQAABBBBAIEUECABT5EFTTAQQQAABBBBAIBAgAAwk+EYAAQQQQAABBFJEgAAwRR40xUQAAQQQQAABBAIBAsBAgm8EEEAAAQQQQCBFBAgAU+RBU0wEEEAAAQQQQCAQIAAMJPhGAAEEEEAAAQRSRIAAMEUeNMVEAAEEEEAAAQQCAQLAQIJvBBBAAAEEEEAgRQQIAFPkQVNMBBBAoCQLXHHFFda1a9eSfItR9zZixAirVq1auG3Pnj02aNAgO/roo61ixYpWo0YNO/nkk+2VV14J88QufP7555aWlpblc++998ZmZR2BQhcoU+hn5IQIIIAAAgikmMCAAQPsxRdftGeffdZatGhhmzZtsq+//tp+/fXXXCXmzZtnVapUCfMdeOCB4TILCBSVADWARSXLeRFAAAEECk1g7ty59sc//tEUHNWtW9cuv/xyW7dunTu/atLKlStnEydODK/3+OOPW61atWzVqlVu26GHHmpPPfVUuF8LTZs2NQVuQdLyIYccYuXLl7d69epZnz59gl25fo8dO9Z69+5tF110kTVs2NBOOOEEu/rqq+22227L9dg6depYenp6+CEAzJWMDIUgQABYCIicAgEEEECg6AQUxJ1xxhkuYFOt2vjx4+2XX36xiy++2F20bdu21rdvXxcUbty40b799lu75557bNiwYZaRkZGnG3vrrbfsySeftKFDh9pPP/1k77zzjh133HF5OlaZFMB9+umntnbt2jwfQ0YEilOAJuDi1OfaCCCAAAK5CgwZMsSaNWtmDz74YJh3+PDhdvDBB9v8+fPtyCOPtAceeMA+/vhj+/Of/2xz5sxxweD5558f5s9tYdmyZS6Ia9eunZUtW9bVBLZs2TK3w8L9TzzxhF144YXuHMcee6ydcsop1qVLFzv77LPDPNkt1K9fP2rX0qVLrWbNmlHbWEGgsAWStgZQnXFPOukkq1y5sql6XZ2L1c8iMnme56r/VdWvTrv6K1L/4yAhgAACCBS9wJ69nk1euN7enbXC1m7ONP9/yXHTjBkz7LPPPnPNv2oe1UeDLZQWLlzovtUEPGrUKBszZoxt3749S3Ovy5TDP2q61XGHHXaYXXvttfb222/b7t27czgielfjxo1t9uzZNmXKFLvyyitdDWXnzp3tmmuuic4YZ01N17NmzQo/1atXj5OLTQgUrkDSBoATJkywG2+80f3H+NFHH7n/kDt06GBbt24NBR955BHTX23qtDt9+nT3l1v79u1t8+bNYR4WEEAAAQQKX2D87FV26sOf2mXDptgto2fZhPlrbeJPa03bY9PevXtNwVRkkKRlNdWefvrpYfavvvrKLW/YsMH0iUylSpXyA8zoCHPXrl1hFtUmqpLgueeecxUC6s+nc0fmCTNns6BrqOLh1ltvdQGkRgq//PLLtnjx4myO+G2z+gwefvjh4UfnISFQ1AJJ+1OmPiKaVkBV8eqMq6H4quLXX5JK+h+BOgSrn8gFF1xgTZo0sZEjR9q2bdvsH//4R1G7c34EEEAgZQUU5N0waqat2rgjymDH7r1ue2wQqOZftc5oIEdkoKTlSpUquXOoJlCBl/r9afqVnj17mgLHINWuXTscEKJtGqUbG5ipJei8886zp59+2jSwZPLkyfb9998Hp8j3t2oFlSIrHvJ9Eg5AoIgEkjYAjPVSx2Alzc2kpP/wV69ebaoVDJJGfqmjcfBXZLCdbwQQQACBwhFQs+/AsXMtui7ut3Pvzdxqmb8ssjuHvmczZn7javz0h7tac1Sjd9lll9m0adNs0aJF9uGHH9pVV11lmn9PH40K1v/P1fyqP/jVHKuRwEE666yz7LXXXnMjhbWvV69eVrp06WC3BbV12qfzK68CwgYNGoR5clpQ/z8NIpk6daqpD58CSN23+icGzdU5Hc8+BPa3QEoMAlFtn4bin3rqqa6mT8gK/pQ0nUBk0rr+442XMjMzTZ8g6S9IEgIIIIBA3gWmLd6QpeYvODpz2fe2akQfUyNwi2d/26pATcHZl19+aXfddZd17NjR/X9YgVmnTp1MzaV/+9vfbMmSJaapWJQ0Ivell15yo4TVrUfTvfTr188Fdueee65VrVrVHRNZA6hJnR966CH3u0IBpUYA63x5HYyh+3rjjTfcZNCqcNA9KOjU1DJlyqTEr9rfHhj/JoxAmh8cxftDLGEKkJcb1V9h48aNs0mTJlkw2kq1fG3atLGVK1dGTROgzr/Lly930wzEnlv/IQ8cODB2s+k/9shJPLNkYAMCCCCAgBPQgA/1+cstDb60qXVpelBu2diPQIEEVIGjPwRS+fd30jcB33zzzfbee++5EWRB8KefFv11phTUBLoV/581a9ZkqRUM9ukvSP2wBB8FiiQEEEAAgbwL1KlcIU+Z85ovTycjEwIIZBFI2gBQFZs33XST/fvf/3aTc2qUVWTSuoJAjRAO0s6dO02jhzV/U7ykPoKq6Yv8xMvHNgQQQACB+AItG9awjKoVLC3+brdd+5WPhAACRSeQtAGgmn01J5RG9GouQNX06aN5npT0Am7NHK+JRTXfkzr+atTwAQccYN26dSs6cc6MAAIIpLBA6VJp1r/zb6NjY4PAYF37lY+EAAJFJ5C0fQAV4MVLGh2mQE9JtYTq06dX/+iF3a1atXJzQGlKmLwk+hDkRYk8CCCAQFYBTfWi0cCRU8Go5k/BX6cmeXt9W9azsgWBvAnw+9uvCEuFQSB5+3HIfy5+gPJvxhEIIIBAIKApYTQqeM3mHaY+f2r2peYv0OG7KAX4/W3G2PSi/Anj3AgggAAC2Qoo2GvdiHfeZgvEDgSKUCBp+wAWoRmnRgABBBBAAAEEElqAADChHx83jwACCCCAAAII5F+AADD/ZhyBAAIIIIAAAggktAABYEI/Pm4eAQQQQAABBBDIvwABYP7NOAIBBBBAAAEEEEhoAQLAhH583DwCCCCAAAIIIJB/AQLA/JtxBAIIIIAAAgggkNACBIAJ/fi4eQQQQAABBBBAIP8CBID5N+MIBBBAAAEEEEAgoQUIABP68XHzCCCAAAIIIIBA/gUIAPNvxhEIIIAAAggggEBCCxAAJvTj4+YRQAABBBBAAIH8CxAA5t+MIxBAAAEEEEAAgYQWIABM6MfHzSOAAAIIIIAAAvkXIADMvxlHIIAAAggggAACCS1AAJjQj4+bRwABBBBAAAEE8i9AAJh/M45AAAEEEEAAAQQSWoAAMKEfHzePAAIIIIAAAgjkX4AAMP9mHIEAAggggAACCCS0AAFgQj8+bh4BBBBAAAEEEMi/AAFg/s04AgEEEEAAAQQQSGgBAsCEfnzcPAIIIIAAAgggkH8BAsD8m3EEAggggAACCCCQ0AIEgAn9+Lh5BBBAAAEEEEAg/wIEgPk34wgEEEAAAQQQQCChBQgAE/rxcfMIIIAAAggggED+BQgA82/GEQgggAACCCCAQEILEAAm9OPj5hFAAAEEEEAAgfwLEADm34wjEEAAAQQQQACBhBYgAEzox8fNI4AAAggggAAC+RcgAMy/GUcggAACCCCAAAIJLUAAmNCPj5tHAAEEEEAAAQTyL0AAmH8zjkAAAQQQQAABBBJagAAwoR8fN48AAggggAACCORfgAAw/2YcgQACCCCAAAIIJLQAAWBCPz5uHgEEEEAAAQQQyL8AAWD+zTgCAQQQQAABBBBIaAECwIR+fNw8AggggAACCCCQfwECwPybcQQCCCCAAAIIIJDQAgSACf34uHkEEEAAAQQQQCD/AgSA+TfjCAQQQAABBBBAIKEFCAAT+vFx8wgggAACCCCAQP4FCADzb8YRCCCAAAIIIIBAQgsQACb04+PmEUAAAQQQQACB/AsQAObfjCMQQAABBBBAAIGEFiAATOjHx80jgAACCCCAAAL5F0j5APD555+3hg0bWoUKFax58+Y2ceLE/CtyBAIIIIAAAgggkEACKR0Avvnmm9a3b1+755577JtvvrHTTjvNzj77bFu2bFkCPUJuFQEEEEAAAQQQyJ9Amuen/B2SPLlbtWplzZo1syFDhoSFOuaYY6xr1642aNCgcFt2C5s2bbKqVavaxo0brUqVKtllYzsCCCCAAAIIlCABfn+bpWwN4M6dO23GjBnWoUOHqB9JrX/11VdR21hBAAEEEEAAgdQUWL16tbVv394qVapk1apVcwhpaWn2zjvv5BlkxIgR4bE5HZTf8+Z0rtz2pWwAuG7dOtuzZ4/VrVs3ykjretjxUmZmpumvhshPvHxsQwABBBBAAIGSJ3DFFVe4Vr783NmTTz5pq1atslmzZtn8+fPdoVpXl7G8pksuuSQ8VscMGDDAmjZtmuXwvJxXMcott9xihx9+uBu/oLjl1FNPtRdeeMG2bdsWnvO6666zRo0aWcWKFa127drWpUsX+/HHH8P9ZcKlFF1QtB2Z1CIeuy3Yr2bhgQMHBqt8I4AAAggggECSCyxcuNANEj3iiCPCkqanp4fLeVlQEKZPbim38y5atMjatGnjahMffPBBO+6442z37t0uuBw+fLjVq1fPzjvvPHcZDWzt3r27HXLIIbZhwwYXdKqVc/HixVa6dGkz9QFMxeTX5nk+gPfvf/87qvh9+vTxTj/99KhtwcqOHTs8v79f+Fm+fLn6T7r1IA/fCCCAAAIIIFAyBXr16uX5NWHu97Z+f/s1Z97NN9/s3XHHHV716tU9vzbN69+/f3jzDRo0cL/nlVcfHa+k5bffftst+wGVWx8zZozXtm1bzw/0vOOPP97zu5O5/frnlVde8fwxA25dy8H5gm9tU4o8r9sQ80/Hjh29+vXre1u2bInZ89vq3r17427Xxm+//dadf8GCBS5PyjYBlytXzkX0H330ke/9e9L6Kaec8vuGiKXy5cu7wR4a8BF8InaziAACCCCAAAIJJjBy5EjXv2/q1Kn2yCOP2P33329BbDB9+nTr1KmTXXzxxa4ZePDgwdmWTjOK/OUvf3FNxUceeaRddtllrnYu9gA1B99+++127LHHunOq2Vfbckvr16+3Dz/80G688UZ3v/HyZ9eCuXXrVvODTDft3cEHH+wOTdkAUKW/7bbb7KWXXjJVm/7www926623uilgrr/++niubEMAAQQQQACBJBPwa+vMr/UzNfH27NnTWrRoYZ988okrpfrOqfJHzbdqntXMH9klBX/nnHOOKfhTd7GlS5eaX9uWJbvOdeCBB1qZMmXcOXXevDQP61x+1Z0dddRRUeesVauWO5/Oedddd0Xt01zH2q7P+PHjXWCrCjCllO4DqIhbEbWifUXgTZo0sf/+97/mV/lGAbKCAAIIIIAAAokpsGevZ9MWb7A1m3fY2s2ZVkYNoRFJAWBkysjIsDVr1kRuytNy5Hl0DiWd5+ijj87T8XnNFFvLN23aNPObfl1/Pw1WjUzqA6gRzIpxHnvsMVeT+eWXX7rBIykdAAqpd+/e7hMJxjICCCCAAAIIJL7A+NmrbODYubZq4w5XmHXz11q5Pdvto7m/z/ZRtmzZqIIqwFJAld8UeZ4gSCvIebK7rkb96ryRI3mV97DDDnOHxKtFVI2lPqrdPPnkk83v52h+30XXPJ3STcDZIbMdAQQQQAABBBJbQMHfDaNmhsFfUJodu/fabW9+G6wWy7eaYTUVXX5SzZo1XW3es88+a+rTV5CkJuSglpAAsCCCHIMAAggggAACJVZAzb6q+Ytp7S0x93vooYe66Vg0t6DmJQ6CstxuUH36NO2L+inqdbYavzBv3jwbNWqUqxl007v4J9F0MZq6Ti+80OttJ0+e7Jp/VUv4xz/+0V2GADA3bfYjgAACCCCAQEIJqM9f0Owb78aLOzD805/+5EYXn3nmmW6S5jfeeCPebWbZpomdv/nmG2vXrp3169fPTjjhBBcMPvPMM24E8t/+9jd3TIUKFWzixIku2FPTsUYx600metNZnTp1XJ6UfhdwFtl8buBdgvkEIzsCCCCAAAL7QeDdWSvsltGzsr3S3sxttvypi82f29dN65ZtxiTeQQ1gEj9cioYAAggggEAqCtSpXCEVi52vMhMA5ouLzAgggAACCCBQ0gVaNqxhGVUrWPTLXn+/6+y2/54j+ZcIAJP/GVNCBBCIEBgxYoR7j2awKfal7LEvi/df7WR9+/YNsvONAAIJIFC6VJr179zY3WlssBe7ngDFKZJbJAAsElZOigAC+yqwevVq89/R6ea40kz8en1R586dwxn69/X8wfGavT+Y9T/Ytj+/Nfm8poSYOXNm1GU1aatm+JeDUmxgGpXZX9GoQs0Rpo9G+mny2UcffdS9OSA2L+sIpIJApyYZNqRHM0v3awIjk9afuOSEyE0puZzyE0Gn5FOn0AiUcIElS5ZYmzZtXE2d3s2pGfZ37dplH3zwgXsPZuxEqPtSnOA1Sftyjn05VlMy6PVT+mjKBgW7mtrhvvvuM9VW6jVReU16q9G1115rO3bssI8//thuuOEG18H9uuuuy+spyIdAUgkoCGzfOD18E4j6Bqp5eOuWzUlVzoIUhhrAgqhxDAIIFKmA3tCjmiy94ujCCy9079bUi9P1/u4pU6aE137iiSfsuOOOc9MbqIZQx23ZsiXcrwUFUYcccogdcMABdv7557vXP0ZmiG0CjtwXb1nzbWkOrsqVK7vgrFu3blleGzVnzhz3TtAqVaq4fKeddpotXLgw3unctieffNLdt95Hqjm+FAyqtjMvL4iPPGlwT6oNvOaaa1zgrJfHkxBIZQE1B7duVNO6ND3IfWudZEYAyE8BAgiUKIENGza4l5bfeOONLrCLvblq1aqFm0qVKmVPP/20zZ4920aOHGmffvqp3XnnneH+qVOn2lVXXeUCQ024qjm3HnjggXB/QRZ27txpmmvr22+/tXfeecdN5qrm2SCtWLHCTj/9dPeuTd2PavV0DwrssksK3IYPH26PP/64e5/n8uXLTRO+FjRptv/PP//c1SRGvp6qoOfjOAQQSD4BmoCT75lSIgQSWmDBggWu31peXqAeOTijYcOGLjBTs2cQPA0ePNg6duxod999tzM58sgj3USo48ePL7CRgrkg6R2cCkBbtmzpavDUnPzcc8+5d2+OHj3aguBL180tnXXWWa62U8dphn/1/8tvuuuuu+zee+81BalqMtdksH369MnvaciPAAIpIEANYAo8ZIqIQCII6NVNkxeutwnzfnG361di5Zo+++wz927Mgw46yDW1qul0/fr14Xsy1ZeudevWUeeJXY/amYcVzcLfpUsXa9CggbumRgkr6XVLSqppVJNvEPy5jXn4Z+XKla7mU03VmsG/IOmOO+5w158wYYKr7bznnnvslFNOKcipOAYBBJJcgAAwyR8wxUMgEQT00vZTH/7ULhs2xZ7+Wi85T7O+Q/9j2p5dWrp0qXvNUZMmTWzMmDGuqVW1b0qq/VJSU2hhJr2AvUOHDqaaPvUFnD59ur399tvuEqp1U9II3IIk9dnTa500KnjIkCGmIC6/SbWGeu2TglyZqG+htqdqkwAAKb5JREFUBoOQEEAAgVgBAsBYEdYRQGC/CijIu2HUzPC9naUrVrYKDZvZyq/eteuGf5UlCPzf//7n7u/rr792/erUb+7kk092A0VUixaZGjduHDVoRPsiB5FE5s3LskYf68XtDz30kKvlUzP1mjVrog7ViGXV4AVBaNTObFZeeukld8wrr7xiZ5xxht10002u36ACzoKm6tWru2l0NM1NYQfCBb0njkMAgZIjQABYcp4Fd4JAygmo2Xfg2LkWW09Xo8MNfvXdXlv16m3WZ9AL9uO8+W5Ag/rbBU24eim6BlboJeiLFi2y1157zV544YUoQ/V/U38/TSUzf/58e/bZZ916VKZ8rGg0sebsC6753nvvuX6HkadQ8Kb3hF966aWmIPWnn35y9zZv3rzIbOGymo5vv/1207x/6seo9OCDD5oGuAR9F4PMem+pmpgjP0HTc5An8lsDaXRd1QaSEEAAgUgBAsBIDZYRQGC/CkxbvCGs+Yu8cNlq6ZZ+xWCr0OA4W/SfF+x4f6qX9u3buwmb1Tyq1LRpU9M0MA8//LCpGfj111+3QYMGRZ7G1Qyqdk0Bm/JrShQNkihoql27tptW5l//+pepdlE1gQrcIlPNmjXdaGRNR6PavObNm9uwYcPi9glUzZwGlagGM3KuPvUDVG1gbFOwRvaeeOKJUZ+//vWvkZePWtb9Xn755aapbvbu3Ru1jxUEEEhtgTT/f0Cxf3yntkg+Sq+/8qtWrWr6q1zzfZEQQCB/Au/OWmG3jJ6V60GDL23q5vDKNSMZEEAAgTwI8PubeQDz8GNCFgQQKCoBzcqfl5TXfHk5F3kQQAABBAgA+RlAAIFiFNArmTL893JmNy+/tmu/8pEQQAABBApPgD6AhWeZ0mfS67Yi39CQ0hgUPs8CeiVT/86NXf7YIDBY135e3ZRnUjIigAACeRIgAMwTU8nPpFdR6d2pwUcd0Tt16mTfffddod+83jP61FNPFfp583PCo446yo3G1Gu3SIktoJe1D+nRzNL9mr7IpHVt134SAggggEDhCvAquML1LNazKeDTyEGl1atXu9GO5557bviGgmK9uUK8+KRJk2zHjh120UUXuRGZettBUSZN8KupP0hFJ6Agr33jdNOo4DWbd5j6/KnZl5q/ojPnzAggkNoC1AAm0fMvX768paf702f4H015ofeC6qXya9euDUupGrNLLrnENEmsagn1SqslS5aE+1WT2LVrVze1RUZGhsujucSCSW312iu9geHWW28NaxvDg2MWxo4d66bA0PtI9c7UgQMHunnblE1TXyg4jUya0033Pnz48MjNWZZffvll69atm5veQnkjB7JrmoygFjTyW+VSCsrnVv7vH71PNnidlzZpWXO53Xbbbe59rJp+RGnu3LnuzRN6C0TdunXd9TUpMKlwBBTstW7k/0w2Pch9E/wVjitnQQABBOIJEADGU0mCbZqDTPOi6bVQCvSUtm3b5t4PqgDmiy++MNWkaVk1h8FrrJRP71dduHCh+x45cqSrZVMfP6V///vfVr9+fbv//vtt1apV7uN2xPzzwQcfWI8ePdyL6BU4DR061J3n73//u8up115pgl6dI0h6BZbu++KLLw42ZfnevHmzaQ42nVuBmd6UoKAvSHrvaXBf+v70009NAejpp58eZMnTt8pdpkwZ+/LLL92961ya002BtSb31b3/8ssvOd5rni5EJgQQQAABBIpDQPMAkgom4M//pzkUPX0Xd+rVq5dXunRpr1KlSu6j+/Jr8LwZM2aEt+bXnHl+3znPnxA23JaZmen57y71/IDNbdN5/Jfce35tXJjHb2r1/FrDcF37/XeMhuta8JuePX9OxHDbaaed5vlvMwjXteC/qcHdU7DRn0jX8yfxDVY9v+bR82vowvV4Cy+++KLnB2HhrltuucXr3r17uB654NfOef7bIrzevXuHm1U+v9YzXNeCzuEHd+E2LUdeQzvuu+8+z38HbJhHC37tqnv+/psWorazggACCCBQsgVK0u/v4pKiD2BxRN2FdE29RivoM7V2c6bfdHmm/yqs396SsGHDBnv++eft7LPPtmnTppkftJkfDNqCBQuscuXKUXeg/nSq8QvSsccea34wGayamoK///77cD0vC7rW9OnTLajx0zF79uxxffdUE6k3HagW0A/o7M4773TvUx03bpx700NO51fzr2r/gqRl1e7p/bCRo5DVZP2nP/3J9OquwYMHB9nz/N2iRYuovCqPakZVYxqbZHfkkUfGbmYdAQQQQACBEitAAFhiH03ONzZ+9ir3DtVVG3e4jOvmr7Vye7bbgh2VwlGTegWV3lSi11A98MAD7lVQ2qam4dikV0YFqWzZssGi+1Zfuvy+Rkr51efvggsuiDqXVtQkq9SzZ0/3rtPJkyebPhpd7Nccun3x/lFT8tSpU11gqf6NQVJg+cYbb9gNN/jvj/2/pGW9I1VBqJpyg6T3q/p/bQWr7jvo3xi50a9JjVx15e/cubN77VjUDn9FATIJAQQQQACBRBL4/TdjIt11it+rgr8bRs206DDGbMfuvW57MHWGAjcFPNu3b3dizZo1szfffNPq1KmzT6+u04hYBV05JV1LL6FXH8TskvomasCJRi4rALzyyiuzy+q2q/ZPtX3PPfdcVD6/adm0LwgA9X5YlVPnDPo/Bgco0J09e3aw6r5nzZoV9z2tkZlUnjFjxrggNTKgjMzDMgIIIIAAAokiwCCQRHlS/3efavYdOHZuluBPu73du2z3ll/tnn9Mstlz5trNN9/sBlWo5krJ7yvnRrVq5O/EiRNt8eLFNmHCBPP7wNnPP//s8uTlH9XUaRCJRhRnNwpWL6h/9dVX3Uvo58yZYz/88IMLyu69996oS6gZWAMutN/vnxe1L3JFtXQK9C677DJr0qRJ1EfnUBPtt99+ax9//LFrUn7sscdcWTUdjj56X7PSWWed5QZx6N5++ukn69+/f5aAMPK6wbJGQqtZXddXk/qiRYvsww8/dKOZcwuGg3PwjQACCCCAQEkRIAAsKU8ij/ehPn9Bs2/sITsWz7Cfn7vcZg662Fq1auWaPzVitq0/rYmS+t0pcFO/ODXNHnPMMS6AUQ1hlSpVXJ68/KMRwJo6xh9gYZFNx5HHduzY0f7zn//YRx99ZCeddJKdfPLJppo59UWMTO3atXNNqMpfr169yF1Ry++9956tX7/ezj///KjtWjniiCPsuOOOc7WAGtmsgOz6669351XzrD4KcpV0HX9AhwsSdV8aVaym6NyS7k0jgnVunUNBqM6pJnbVspIQQAABBBBIJIE0jT5JpBsuSfe6adMmFwCodik/AdS+lOHdWSvsltGzcj3F4EubuvnUcs1YzBk0IETBlebzi9dfsJhvj8sjgAACCCShQHH8/i5pjPQBLGlPJJf70RsS8pLymi8v5yqKPBokoqbZxx9/3AXR5513XlFchnMigAACCCCAQBwBAsA4KCV5k16PlVG1gq32R//Gq7pN829e71BVvpKcNEK3YcOGblJpTTLNwIqS/LS4NwQQQACBZBMgAEywJ6rXY/Xv3NiN9lWwFxkEal1J+0v6a7Q0kITeB789L/5FAAEEEEBgfwvQe31/ixfC9To1yTBN9aKavsik9WAKmMjtLCOAAAIIIIAAApEC1ABGaiTQsoLA9o3TwzeBqM+fmn1Les1fAhFzqwgggAACCCStAAFgAj9aBXutG9VM4BJw6wgggAACCCBQHAI0AReHOtdEAAEEEEAAAQSKUYAAsBjxuTQCCCCAAAIIIFAcAgSAxaHONRFAAAEEEEAAgWIUIAAsRnwujQACCCCAAAIIFIcAAWBxqHNNBBBAAAEEEECgGAUIAIsRn0sjgAACCCCAAALFIUAAWBzqXBMBBBBAAAEEEChGAQLAYsTn0ggggAACCCCAQHEIEAAWhzrXRAABBBBAAAEEilEg6QLAJUuW2NVXX20NGza0ihUrWqNGjax///62c+fOKOZly5ZZ586drVKlSlarVi3r06dPljxRB7CCAAIIIIAAAggkiUDSvQruxx9/tL1799rQoUPt8MMPt9mzZ9u1115rW7dutccee8w9tj179tg555xjtWvXtkmTJtn69eutV69e5nmePfPMM0nyaCkGAggggAACCCAQXyDND3q8+LuSZ+ujjz5qQ4YMsUWLFrlCvf/++3buuefa8uXLrV69em7b6NGj7YorrrA1a9ZYlSpV8lT4TZs2WdWqVW3jxo15PiZPJyYTAggggAACCBSZAL+/zZKuCTjeT4sCtBo1aoS7Jk+ebE2aNAmDP+3o2LGjZWZm2owZM8J8sQvarx+ayE9sHtYRQAABBBBAAIGSLpD0AeDChQtds+71118fPovVq1db3bp1w3UtVK9e3cqVK2fal10aNGiQq/FTrZ8+Bx98cHZZ2Y4AAggggAACCJRYgYQJAAcMGGBpaWk5fr7++uso6JUrV1qnTp3soosusmuuuSZqn84Vm9QaHm97kK9fv36uuVc1ivqoCZmEAAIIIIAAAggkmkDCDAK56aab7NJLL83R99BDDw33K/g788wzrXXr1vbiiy+G27WQnp5uU6dOjdr266+/2q5du7LUDEZmKl++vOlDQgABBBBAAAEEElkgYQJATdWiT17SihUrXPDXvHlze+WVV6xUqeiKTgWFf//7323VqlWWkZHhTvnhhx+64E7HkBBAAAEEEEAAgWQWSLpRwKr5O+OMM+yQQw6xV1991UqXLh0+P9X8KWkamKZNm7raPo0Q3rBhgxsB3LVr13xNA8MoopCWBQQQQAABBBJGgN/fZglTA5jXnyrV5C1YsMB96tevH3VYMOONgsJx48ZZ7969rU2bNm7C6G7duoXzBEYdxAoCCCCAAAIIIJBkAklXA7g/nw9/QexPba6FAAIIIIBA4Qjw+ztF5gEsnB8XzoIAAggggAACCCSHQPToiOQoE6VAAAEEEEAAAQQQyEGAADAHHHYhgAACCCCAAALJKEAAmIxPlTIhgAACCCCAAAI5CBAA5oDDLgQQQAABBBBAIBkFCACT8alSJgQQQAABBBBAIAcBAsAccNiFAAIIIIAAAggkowABYDI+VcqEAAIIIIAAAgjkIEAAmAMOuxBAAAEEEEAAgWQUIABMxqdKmRBAAAEEEEAAgRwECABzwGEXAggggAACCCCQjAIEgMn4VCkTAggggAACCCCQgwABYA447EIAAQQQQAABBJJRgAAwGZ8qZUIAAQQQQAABBHIQIADMAYddCCCAAAIIIIBAMgoQACbjU6VMCCCAAAIIIIBADgIEgDngsAsBBBBAAAEEEEhGAQLAZHyqlAkBBBBAAAEEEMhBgAAwBxx2IYAAAggggAACyShAAJiMT5UyIYAAAggggAACOQgQAOaAwy4EEEAAAQQQQCAZBQgAk/GpUiYEEEAAAQQQQCAHAQLAHHDYhQACCCCAAAIIJKMAAWAyPlXKhAACCCCAAAII5CBAAJgDDrsQQAABBBBAAIFkFCAATManSpkQQAABBBBAAIEcBAgAc8BhFwIIIIAAAgggkIwCBIDJ+FQpEwIIIIAAAgggkIMAAWAOOOxCAAEEEEAAAQSSUYAAMBmfKmVCAAEEEEAAAQRyECAAzAGHXQgggAACCCCAQDIKEAAm41OlTAgggAACJVKgbdu21rdv3xJ5b9xUagkQAKbW86a0CCCAQMoIXHHFFZaWluY+ZcuWtcMOO8z+8pe/2NatW5PK4PPPPw/LGZQ3+J4+fXpY1ltuucWaN29u5cuXt6ZNm4bbIxc++OADO/nkk61y5cpWu3Zt+9Of/mSLFy+OzBJ3+bPPPrM//vGPVrNmTTvggAOscePGdvvtt9uKFSvi5mdj8QsQABb/M+AOEEAAAQSKSKBTp062atUqW7RokT3wwAP2/PPPuyCwIJfzPM92795dkEOL9JhTTjnFlVHlDD7XXHONHXroodaiRYvw2rr/q666yi655JJwW+SCjLp06WJnnXWWzZo1yxQMrlu3zi644ILIbFmWhw4dau3atbP09HQbM2aMzZ0711544QXbuHGjPf7441nys6GECPg/EKQCCvg/3J7/GD19kxBAAAEESpZAr169PD+gibopPzDy/EDFbduxY4d38803e35Nl+fXinlt2rTxpk2bFub3a7Xc/+PHjx/v+TVnnl+L6H366aeeHxx5flOud+CBB3p+TZnXrFkzz69pC4+bNGmSd/rpp3sVK1b0qlWr5nXo0MHbsGGD23/GGWe4a95xxx1e9erVvbp163r9+/cPj9XC//73P+/aa69196Xzn3nmme6aUZlyWNm5c6dXp04d7/7774+bS9c74YQTsuz717/+5ZUpU8bbs2dPuO+9997z/NpET+eMl5YvX+6VK1fO85u14+32fv31V7fdDyS9Sy+91DvooIOcS5MmTbx//OMf4TEjR470atSo4emZRCY/+PQuv/xytym475dfftk7+OCDvUqVKnnXX3+95wfl3sMPP+ws9Sz9QD/yFJ4fhHq6nl8z6dWvX9+74YYbPL9mMvz9/corr3hVq1b19JyPPvpod96OHTt6K1eujDpPsq1QA1hCAnFuAwEEEECg6AX8oMx27drlLnTnnXe6Gis/+LCZM2fa4Ycfbv4vfvODtagbUb5BgwbZDz/8YMcff7x1797d/EDC1Lw6Y8YMu/vuu01NzEqqOfvDH/5gxx57rE2ePNn8YNA6d+5sflAVnlPX84MXmzp1qj3yyCPmB2r20Ucfuf1+kGHnnHOOrV692v773/+68/sBpjtn7H2FJ4xZ8IM2V3OnJvD8JNUWli5d2vyAyN2vavBee+018wPYsHyx5/ODRvODQ5NRvOQHwG6zH9i55uf//Oc/Nnv2bPvzn/9sfmDnDJThoosuctfUvQdJtY/Kf+WVVwabbOHChfb++++bH6zZG2+8YcOHD3deP//8s02YMMH8QNDuvfdemzJlSnhMqVKl7Omnn3bXlb0fxNtf//rXcL8Wtm3bZo899pgr7xdffGHLli0rcE1x1IlL8kqyRbT7szzUAO5Pba6FAAII5E8gtgbQD7g8v4+ad/HFF3tbtmxxNXqvv/56eFLVctWrV8/zgzK3LagBfOedd8I8WlCt3IgRI6K2BSuXXXaZq0kM1mO/VQN46qmnRm0+6aSTvLvuustt++STT7wqVapkqQlr1KiR5ze1Rh2X3crZZ5/t6ZNdCmrS4u33gyhXe+gHgq6GrHXr1mEtXrz8qk3T/RYk+X0GPb+fYHiozhV530899ZTn99v09u7d6/LovlWLt2nTpvAY1dT5Td1RtZZHHXWU5wfsYZ7YhX/+85+uttGPzVwLnmoAtbxgwYIw63PPPedqFMMNSbhQpiQHp9wbAggggAAC+RHYs9ezaYs32JrNO2zt5kz7wK9B8ptqXd891fypj9szzzzjapK07jf7hqdXLV7Lli1dTV+40V+I7Een7bfddpupj51qx9T3TbVXfoDmDlENoNZzSqpFjEwZGRm2Zs0at0k1in5w6gZTRObZvn27u+fIbfGWVROmvnt+kBNvd47bVOuocvmBs/mBrG3evNnVlF144YWuhlIDS2KTHxe5ASix22PXVQP60EMP2ZtvvukGhmRmZpo+qgkNkt/sbX4w7Pb7TcWuJjIYyBPkUb9GDVAJkt+E7motVcsXJG0LPLVNA1QefPBB1zfRDx7dz4JqJCOTBq4Ez1DbI59JZL5kWiYATKanSVkQQACBFBYYP3uVDRw711Zt/O2X+7r5a+3AhifYE4OfsT8ce5D5tXthU6YGSyjFBjXxAprIIEXHDBgwwLp162bjxo1zzZF+zZSNHj3azj//fFMTc24paC4O8uke/Fout6pvBR8a2RubgubU2O2R62q+1Ujc8847L3Jznpb9Wi/za/Ncs3RwwKhRo8zvb+eaajU6ODYdeeSRbrCHPHXf2SUNBnnyySfNr9Wz4447zgV+mg5HzcdBOvHEE83vm2ivvvqqa4r//vvvbezYscFu9x3PLt62wHPp0qVudLLfV9D+9re/md/P0DXLX3311bmeVz8LyZx+D5mTuZSUDQEEEEAgqQUU/N0wamYY/AWF3ZlWzv72xa/2w+ZyYfCnferv5w9ecMFAkFc1gl9//bUdc8wxwaZsvxX43Hrrrfbhhx+6UbIKvJRUu+c342Z7XG471N9PNXH+YAx3j7rP4FOrVq0cD1fAovvo2bNnVFlzPChip/rBqQ9gZArWg4Aqcp+WVTsoR/VljJf8AS1u88SJE13ta48ePVyQpyl5fvrppyyHqAZSZVDfPtWuKvjcl6TnqZHbCkAVwOq5+YM79uWUSXMsAWDSPEoKggACCKSmgJp9VfOXU32N9itfkFSr5/c5M380rhtQoKlL1ASpICi2dig4Rt9qir3ppptcDZ1ql7788ks3GCQIGvv16+fWe/fubd999539+OOPNmTIEDcoI/I82S0r6PH73VnXrl1dU+6SJUvsq6++cgMbFMzklDS4QXP2ZXf/fh83N0hFAabKoeZqfYJaOA0+0cAWDUpRcKaBMRqA0aBBA1PtXLykAE01e4MHD3bX1UCMwOW6665ztW46TkGsBrqoLBpMo326j9ikATaaO3DYsGFuyprY/fldV7OuAkA1+2uaGzXba4oakhkBID8FCCCAAAIJLaA+f0Gzb7yCKOzTfuWLTOqTpomONRpVNW8KkNR/zp+eJTJb1LJqxNavX+9q2VSb5A8oMX/ggg0cONDl0zbVCn777beuP6GCuXfffdfV6EWdKJsVNQdr9K8/jYwLgHQ+f/oUUyCovm05JX96FNOcgEEwGptXtWsK5DRv3/z5892y1oMaMc3/50/NYv6gF7dPcyhq0miNuM2paVvBrsqswE3N4P5UKq4voZqTNfG20n333eeMNcran0LHzRmoIDc26Rg9E/XbjLc/Nn9u65rw+oknnnCjg/2pYMwf9ONGdOd2XCrsT/OrjH//kygVSlyIZVRnUn/uINf/QT+0JAQQQACB/S/w7qwVdsvoWbleePClTa1L04NyzUeG4hVo3769C2I1dUtRJX5/mzEIpKh+ujgvAggggMB+EahTuUKerpPXfHk6GZkKXUDzHKomUU3Zzz77bKGfnxNGCxAARnuwhgACCCCQYAItG9awjKoVbLXfzBuvSUuTl6T7+5WPVHIF1AzvvznENdf6c/mV3BtNkjsjAEySB0kxEEAAgVQVKF0qzfp3buxGASvYiwwCta6k/cpHKrkC6udI2n8CST0IRJNMqgOoOtVqpFNk0mte9HoejQTT0Po+ffqEI6Ei87GMAAIIIFDyBTo1ybAhPZq5mr7Iu1XNn7ZrPwkBBH4XSOoaQL2bUBN/ajRWZNKM5Bru7r802s0BpRFdmvlc42E0VJyEAAIIIJB4Agry2jdOD98Eoj5/aval5i/xniV3XPQCSRsA6mXR6kw6ZswYN1N7JKW2a86n5cuXuwBR+zRJpF458/e//93NhB6Zn2UEEEAAgcQQULDXulHNxLhZ7hKBYhRIyibgX375xU3oqQkf9X6/2DR58mTTfECqHQyS5iZSk7Hew0hCAAEEEEAAAQSSWSDpagDVjKuaPL33Ty/wjtepVLOPx06oqYk/9TqbeDOTBz8Awcurg3XNI0RCAAEEEEAAAQQSTSBhagD18m0N5sjpo9fkqA+fAjO9jienpPPEJgWP8bYH+QYNGuQmftbkz/rs6zsKg/PyjQACCCCAAAII7E+BhHkTyLp163J9l+Khhx7qXpkzduzYqEBOgz70+h69Y3DkyJH217/+1b2aJ3JwiOYeqlGjhpuA8swzz4z7DOLVACoI3LhxI/0G44qxEQEEEEAAgZInwJtAzBImAMzrj4+md4lsmtU7DtW/76233rJWrVpZ/fr13aCQc889137++WfLyPhtaoA333zTjQRes2ZNnoM5foDy+lTIhwACCCCAQMkR4Pd3Er4K7pBDDon6CdMLpZUaNWrkgj8td+jQwRo3buxeAP7oo4+aXj+jF1Zfe+21eQ7+dB4SAggggAACCCCQiAIJ0wewMHHVHDxu3DirUKGCtWnTxi6++GLr2rWrPfbYY4V5Gc6FAAIIIIAAAgiUSIGkawLen8pUIe9Pba6FAAIIIIBA4Qjw+9ssJWsAC+fHh7MggAACCCCAAAKJKUAAmJjPjbtGAAEEEEAAAQQKLEAAWGA6DkQAAQQQQAABBBJTgAAwMZ8bd40AAggggAACCBRYgACwwHQciAACCCCAAAIIJKYAAWBiPjfuGgEEEEAAAQQQKLAAAWCB6TgQAQQQQAABBBBITAECwMR8btw1AggggAACCCBQYAECwALTcSACCCCAAAIIIJCYAgSAifncuGsEEEAAAQQQQKDAAgSABabjQAQQQAABBBBAIDEFCAAT87lx1wgggAACCCCAQIEFCAALTMeBCCCAAAIIIIBAYgoQACbmc+OuEUAAAQQQQACBAgsQABaYjgMRQAABBBBAAIHEFCAATMznxl0jgAACCCCAAAIFFiAALDAdByKAAAIIIIAAAokpQACYmM+Nu0YAAQQQQAABBAosQABYYDoORAABBBBAAAEEElOAADAxnxt3jQACCCCAAAIIFFiAALDAdByIAAIIIIAAAggkpgABYGI+N+4aAQQQQAABBBAosAABYIHpOBABBBBAAAEEEEhMgTKJedvcNQIIZCewZ69n0xZvsDWbd1idyhWsZcMaVrpUWnbZ2Y4AAgggkIICBID78NA9z3NHb9q0aR/OwqEIFJ7AR3NX20Pv/2i/bMoMT1q3Snm7++yjrX3j9HAbCwgggEAqCwS/t4Pf46lokeYX/rcoJhVLv49l/vnnn+3ggw/ex7NwOAIIIIAAAggUh8Dy5cutfv36xXHpYr8mAeA+PIK9e/faypUrrXLlypaWVjKa2PRXjYJS/VBXqVJlH0qXWofiVvDnjV3B7HDDrWACBTuKn7doN9V9bd682erVq2elSqXmcAiagKN/JvK1ph+akvqXg4I/AsB8PU6XGbf8mwVHYBdI5O8bt/x5BblxCyTy943b715Vq1b9fSUFl1Iz7E3BB02REUAAAQQQQACBQIAAMJDgGwEEEEAAAQQQSBGB0gP8lCJlTZlili5d2tq2bWtlytDCn5+Hjlt+tKLzYhftkdc13PIqFZ0Pt2iPvK7hllep1MjHIJDUeM6UEgEEEEAAAQQQCAVoAg4pWEAAAQQQQAABBFJDgAAwNZ4zpUQAAQQQQAABBEIBAsCQggUEEEAAAQQQQCA1BAgAU+M5U0oEEEAAAQQQQCAUIAAMKZJjYdy4cdaqVSurWLGi1apVyy644IKogi1btsw6d+5slSpVcvv79OljO3fujMqTqiuZmZnWtGlT91aXWbNmRTHgFsXhVpYsWWJXX321NWzY0P28NWrUyPr375/l5wm7rHbPP/+8c6tQoYI1b97cJk6cmDVTCm8ZNGiQnXTSSe4tS3Xq1LGuXbvavHnzokT0JgdNYqE3Oej/d5r5YM6cOVF5Un1FjnpLVd++fUMK3EKKlF8gAEyiH4ExY8bY5ZdfbldeeaV9++239uWXX1q3bt3CEu7Zs8fOOecc27p1q02aNMlGjx5tOub2228P86Tywp133ul+mcQa4BYr8tv6jz/+aHod4tChQ90v3ieffNJeeOEF+3//7/+FB2AXUoQLb775pvuFfM8999g333xjp512mp199tmmQJn0m8D/b+/uQavIogCO34U1gpDCNEYUFFFQCQElCIJENJrYi6BoYRFBURGsFCwt1MIm2ohBQgIWSgqRgGiRpPADNYVKioCK+C1i0EIEhbPn3HBv5r15yWaxWd/5D2Tn07DnN+dNzty5d97IyEg4fPhwuH//frh9+3b49etX6OzsjNeuZHTu3Llw/vz5cOHChfDw4cPQ3Nwctm/fHr/eKx3jeW4mly5dCq2trRUMuFVw+F7RuwGmOhD4+fOnLFmyRC5fvjxjNENDQ6JfXydv377Nx1y9elXmz58vX79+zds8LpjN6tWrRVsQRK8Ion+YMwNumeJfF/SPi2iLYD4Ou0yRFzZs2CAHDx7M67ZguXfixImKbaxMC3z69Cl+LrUwjBv1xkO04JMzZ87kg378+CH61V6iNyF5m9cF/Y5bWbVqlWjxLJs3b5Zjx47h5jUZZombFsA6qf/HxsaCFnbxS63XrVsXFi9eHFsVio9E7t27F1paWipaubq6uoI9+nz8+HGdSPz3MD5+/BgOHDgQ+vv7w4IFC0q/ALcSyYwb9EYiNDU15f3YZYq4YN0t7LNmrVnFydbv3r1b3MRyQcDyyqaUWy9fvgwfPnyocNQb2aDFDo7qZK2n9rRn27Zt0S39B7ckwdwEKADrJA9evHgRI7E+MadOnQo3b94MCxcujBfEL1++xH12wVy0aFFFxHZMQ0NDvJhW7HCyojdHYf/+/UFbZEJbW1vNqHGryVLa+Pz589DT0xMt007sksTU/PPnz8Eei1d/Dm3drJjKAvYZPX78eNi0aVO8gbUjkhWOZS/r2mMNAtb/r3rCrVrE9zoF4P/8/FtBZ514Z/t59OhR7ItloVi/op07d8aO5VeuXIn/7tq1azlK+z3Vk11ga22vPu5PWp+rmxUs3759CydPnpw1vFo+9ehmCHO1K4K9e/cu7NixI+zatSt0d3cXd9XMrXq1qwh8lpXqfPLuMQtVOHLkSHjy5EnQ7iqlw3CsJHn9+nXQx71hYGAg2ACjmSbcZpLxtf1vX+H+edHaxW/37t2z/o8vX748d3xeu3ZtPtYeiaxYsSJ3LrdO0g8ePMj7bWFycjJo/8FSi0TFQX/gylzdTp8+HTuam1VxstbAvXv3hr6+vti53IubGczVLnlZ8bdly5awcePG2Ok8bbe5p5wrxj3Tso3Mt+9jTS0x6Tjt41Z3n8EU2+/Mjx49Gm7cuBFGR0fD0qVL86+yvLLJHK27S5q8O1r3AjOwkeVpshZn87PBMmkkNW5Jx/lc7zyZ6kDABnHYYI7iIBDtbyT6CgXRUZoxwtQhX/9g54j1cYHrQSCvXr2Sp0+f5p9bt27FzubXr18XvZvGLWdK7YU3b97EzuZ6kyI6UrN0EDlXIhEbBHLo0KGKHWvWrGEQSEHEBnloPzbRV7zIxMREYc/UYhoEcvbs2bxP+zK7HwSiTzPytSxd1/RmVvbt2xe345bThQUVCCjUj4CN9LKRwFbE6Cs6RN/RFgtA7QMYg7Q/0DoIRDo6OkT7iMidO3dE76pFW3zqB+E3I9FO0qVRwLjVRrXR5CtXrpStW7eKFYLv37/PP+lfYJckpud20zVv3jzp7e2V8fFx0Xe0ib6XU/S9itMHOV+yAtlG9A4PD+ecsvz6/v17lrERwHbM4OBgLG727Nkj2hooVgQxTQsURwHbVtymbbwvUQDWUQZYi5++0y8WfY2NjaIjwOTZs2cVEVqLl44OE31xquiIulj82esTmKYEahWAtge3coZoH9NYLOtDlNK8eDR2RY2p5YsXL8qyZctEB2DJ+vXrJb3epHykzy21csq2Wc6lyVqz9MXj8XUw9vSjvb09FoJpP/MpgeoCEDcyIwn8ZQvOn4ITPgIIIIAAAggg4EqAUcCuTjfBIoAAAggggAACvAeQHEAAAQQQQAABBNwJ0ALo7pQTMAIIIIAAAgh4F6AA9J4BxI8AAggggAAC7gQoAN2dcgJGAAEEEEAAAe8CFIDeM4D4EUAAAQQQQMCdAAWgu1NOwAgggAACCCDgXYAC0HsGED8CCCCAAAIIuBOgAHR3ygkYAQQQQAABBLwLUAB6zwDiRwABBBBAAAF3AhSA7k45ASOAAAIIIICAdwEKQO8ZQPwIIIAAAggg4E6AAtDdKSdgBBBAAAEEEPAuQAHoPQOIHwEEEEAAAQTcCVAAujvlBIwAAggggAAC3gUoAL1nAPEjgAACCCCAgDsBCkB3p5yAEUAAAQQQQMC7AAWg9wwgfgQQQAABBBBwJ0AB6O6UEzACCCCAAAIIeBegAPSeAcSPAAIIIIAAAu4EKADdnXICRgABBBBAAAHvAhSA3jOA+BFAAAEEEEDAnQAFoLtTTsAIIIAAAggg4F2AAtB7BhA/AggggAACCLgToAB0d8oJGAEEEEAAAQS8C1AAes8A4kcAAQQQQAABdwIUgO5OOQEjgAACCCCAgHcBCkDvGUD8CCCAAAIIIOBOgALQ3SknYAQQQAABBBDwLkAB6D0DiB8BBBBAAAEE3AlQALo75QSMAAIIIIAAAt4F/gFPhJ5v/vsIZgAAAABJRU5ErkJggg==\" width=\"640\">"
      ],
      "text/plain": [
       "<IPython.core.display.HTML object>"
      ]
     },
     "metadata": {},
     "output_type": "display_data"
    }
   ],
   "source": [
    "display_closestwords_tsnescatterplot(model_2, 'Porsche 718 Cayman', 50)"
   ]
  },
  {
   "cell_type": "code",
   "execution_count": 30,
   "metadata": {},
   "outputs": [
    {
     "data": {
      "text/plain": [
       "[('Cadillac XLR', 0.9554708003997803),\n",
       " ('Bentley Azure', 0.94948410987854),\n",
       " ('Oldsmobile Toronado', 0.9449625611305237),\n",
       " ('BMW M5', 0.9442688822746277),\n",
       " ('Ferrari FF', 0.9441433548927307)]"
      ]
     },
     "execution_count": 30,
     "metadata": {},
     "output_type": "execute_result"
    }
   ],
   "source": [
    "model_2.wv.most_similar('Porsche 718 Cayman')[:5]"
   ]
  },
  {
   "cell_type": "code",
   "execution_count": 32,
   "metadata": {},
   "outputs": [
    {
     "data": {
      "text/plain": [
       "[('Cadillac XLR', 0.9554708003997803),\n",
       " ('Bentley Azure', 0.94948410987854),\n",
       " ('Oldsmobile Toronado', 0.9449625611305237),\n",
       " ('BMW M5', 0.9442688822746277),\n",
       " ('Ferrari FF', 0.9441433548927307),\n",
       " ('Hyundai Genesis', 0.9419194459915161),\n",
       " ('Infiniti G37 Coupe', 0.940889835357666),\n",
       " ('Ford F-150 SVT Lightning', 0.9398514032363892),\n",
       " ('Lexus IS F', 0.93939608335495),\n",
       " ('Lexus GX 460', 0.9392694234848022)]"
      ]
     },
     "execution_count": 32,
     "metadata": {},
     "output_type": "execute_result"
    }
   ],
   "source": [
    "close_words = model_2.wv.most_similar('Porsche 718 Cayman')\n",
    "close_words"
   ]
  },
  {
   "cell_type": "code",
   "execution_count": 31,
   "metadata": {},
   "outputs": [
    {
     "name": "stdout",
     "output_type": "stream",
     "text": [
      "[[ 0.01770397  0.00060668  0.00897832  0.01521355 -0.04059852 -0.07494052\n",
      "  -0.00806342  0.05023349  0.00794503 -0.05610264  0.04477044  0.01331486\n",
      "   0.00208868  0.01204422 -0.01683522  0.03804658  0.05248648  0.02591788\n",
      "  -0.02219298 -0.09076661  0.00216296  0.01334868  0.06236157  0.02087773\n",
      "   0.04295537 -0.00384182 -0.03031852  0.10243306 -0.02289386 -0.03307728\n",
      "  -0.0345009   0.01864258 -0.00555367  0.00673456  0.0114482  -0.00242077\n",
      "   0.04646415 -0.00488622  0.01486705  0.00600004  0.02308523  0.0141725\n",
      "  -0.05412903  0.01280535  0.09246679  0.02271322  0.00373423 -0.00359278\n",
      "   0.0239618   0.0262041 ]]\n"
     ]
    }
   ],
   "source": [
    "arr = np.empty((0,50), dtype='f')\n",
    "arr = np.append(arr, np.array([model_2.wv['Porsche 718 Cayman']]), axis=0)\n",
    "print(arr)"
   ]
  },
  {
   "cell_type": "code",
   "execution_count": 33,
   "metadata": {},
   "outputs": [
    {
     "name": "stdout",
     "output_type": "stream",
     "text": [
      "[[ 0.01770397  0.00060668  0.00897832  0.01521355 -0.04059852 -0.07494052\n",
      "  -0.00806342  0.05023349  0.00794503 -0.05610264  0.04477044  0.01331486\n",
      "   0.00208868  0.01204422 -0.01683522  0.03804658  0.05248648  0.02591788\n",
      "  -0.02219298 -0.09076661  0.00216296  0.01334868  0.06236157  0.02087773\n",
      "   0.04295537 -0.00384182 -0.03031852  0.10243306 -0.02289386 -0.03307728\n",
      "  -0.0345009   0.01864258 -0.00555367  0.00673456  0.0114482  -0.00242077\n",
      "   0.04646415 -0.00488622  0.01486705  0.00600004  0.02308523  0.0141725\n",
      "  -0.05412903  0.01280535  0.09246679  0.02271322  0.00373423 -0.00359278\n",
      "   0.0239618   0.0262041 ]\n",
      " [-0.02382832 -0.00968771  0.03882695  0.0069865  -0.07979552 -0.15068229\n",
      "  -0.02241191  0.1814336  -0.01695096 -0.10253578  0.08953    -0.00429171\n",
      "   0.02332604  0.0096097   0.00693087  0.09299589  0.10048032  0.07165135\n",
      "  -0.03038892 -0.2382006  -0.01252199 -0.00272819  0.1375699   0.02849218\n",
      "   0.12107908 -0.00590191 -0.09270216  0.2450349  -0.02169758 -0.07091669\n",
      "  -0.07248004  0.04775721  0.01338637  0.06480023 -0.00101646 -0.02856858\n",
      "   0.09859528  0.02561534  0.06678998  0.0159279   0.03631451  0.02924729\n",
      "  -0.1535999   0.01224522  0.19584732  0.04359475 -0.00326348 -0.01133411\n",
      "   0.0351974   0.09928493]]\n"
     ]
    }
   ],
   "source": [
    "wrd_vector = model_2.wv[close_words[0][0]]\n",
    "arr = np.append(arr, np.array([wrd_vector]), axis=0)\n",
    "print(arr)"
   ]
  },
  {
   "cell_type": "markdown",
   "metadata": {},
   "source": [
    "# 3) Read pre-trained models\n",
    "\n",
    "As we said, it's usually far better to use some pre-trained embeddings instead of starting from scratches\n",
    "\n",
    "Read more: https://radimrehurek.com/gensim/models/keyedvectors.html\n",
    "\n",
    "\n",
    "I will read GloVe's pre-trained vectors here. Gensim offers download of some other pre-trained vectors. See\n",
    "https://github.com/RaRe-Technologies/gensim-data\n",
    "\n",
    "\n",
    "And a more complete pre-trained vector dataset can be found here\n",
    "http://vectors.nlpl.eu/repository/\n",
    "\n",
    "You may need to manually download them to your disk and let Gensim read in.\n",
    "\n",
    "\n",
    "Another source for Pre-trainned word and phrase vectors from Google: https://code.google.com/archive/p/word2vec/"
   ]
  },
  {
   "cell_type": "code",
   "execution_count": null,
   "metadata": {},
   "outputs": [],
   "source": [
    "import gensim.downloader as api\n",
    "\n",
    "word_vectors = api.load(\"glove-wiki-gigaword-100\")  # load pre-trained word-vectors from gensim-data\n"
   ]
  },
  {
   "cell_type": "markdown",
   "metadata": {},
   "source": [
    "Then we can find similar words"
   ]
  },
  {
   "cell_type": "code",
   "execution_count": null,
   "metadata": {},
   "outputs": [],
   "source": [
    "result = word_vectors.most_similar(positive=['woman'])\n",
    "result"
   ]
  },
  {
   "cell_type": "markdown",
   "metadata": {},
   "source": [
    "As you may observe, girl and man are really different things. So we can use the king/queen and man/women analogy to find what's the similar word to \"woman\", if we hope to find pairs such as (king, queen)"
   ]
  },
  {
   "cell_type": "markdown",
   "metadata": {},
   "source": [
    "$ man = woman + king - queen $"
   ]
  },
  {
   "cell_type": "code",
   "execution_count": null,
   "metadata": {},
   "outputs": [],
   "source": [
    "result = word_vectors.most_similar(positive=['king', 'woman'], negative=['queen'])\n",
    "result"
   ]
  },
  {
   "cell_type": "markdown",
   "metadata": {},
   "source": [
    "$ queen = king + woman - man $"
   ]
  },
  {
   "cell_type": "code",
   "execution_count": null,
   "metadata": {},
   "outputs": [],
   "source": [
    "result = word_vectors.most_similar(positive=[ 'king', 'woman'], negative=['man'])\n",
    "result"
   ]
  },
  {
   "cell_type": "markdown",
   "metadata": {},
   "source": [
    "### Using GoogleNews-vectors-negative300.bin.gz  as an example"
   ]
  },
  {
   "cell_type": "markdown",
   "metadata": {},
   "source": [
    "The GoogleNews-vectors-negative300.bin.gz is pretty large and I won't upload it to GitHub. Please download it from [the official source](https://drive.google.com/file/d/0B7XkCwpI5KDYNlNUTTlSS21pQmM/edit?resourcekey=0-wjGZdNAUop6WykTtMip30g) to your local computer if you want to try out the following code. "
   ]
  },
  {
   "cell_type": "code",
   "execution_count": 34,
   "metadata": {},
   "outputs": [],
   "source": [
    "file = '/Users/percychan/Tech/GoogleNews-vectors-negative300.bin'"
   ]
  },
  {
   "cell_type": "code",
   "execution_count": 36,
   "metadata": {},
   "outputs": [],
   "source": [
    "# Load pretrained model (since intermediate data is not included, the model cannot be refined with additional data)\n",
    "import gensim\n",
    "model_google = gensim.models.KeyedVectors.load_word2vec_format(file, binary=True,limit= 100000) "
   ]
  },
  {
   "cell_type": "code",
   "execution_count": 37,
   "metadata": {},
   "outputs": [
    {
     "name": "stdout",
     "output_type": "stream",
     "text": [
      "(300,)\n",
      "[ 0.05126953 -0.02233887 -0.17285156  0.16113281 -0.08447266  0.05737305\n",
      "  0.05859375 -0.08251953 -0.01538086 -0.06347656  0.1796875  -0.42382812\n",
      " -0.02258301 -0.16601562 -0.02514648  0.10742188 -0.19921875  0.15917969\n",
      " -0.1875     -0.12011719  0.15527344 -0.09912109  0.14257812 -0.1640625\n",
      " -0.08935547  0.20019531 -0.14941406  0.3203125   0.328125    0.02441406\n",
      " -0.09716797 -0.08203125 -0.03637695 -0.0859375  -0.09863281  0.00778198\n",
      " -0.01342773  0.05273438  0.1484375   0.33398438  0.01660156 -0.21289062\n",
      " -0.01507568  0.05249023 -0.10742188 -0.08886719  0.24902344 -0.0703125\n",
      " -0.01599121  0.07568359 -0.0703125   0.11914062  0.22949219  0.01416016\n",
      "  0.11523438  0.00750732  0.27539062 -0.24414062  0.296875    0.03491211\n",
      "  0.2421875   0.13574219  0.14257812  0.01757812  0.02929688 -0.12158203\n",
      "  0.02282715 -0.04760742 -0.15527344  0.00314331  0.34570312  0.12255859\n",
      " -0.1953125   0.08105469 -0.06835938 -0.01470947  0.21484375 -0.12109375\n",
      "  0.15722656 -0.20703125  0.13671875 -0.12988281  0.05297852 -0.27148438\n",
      " -0.29882812 -0.18457031 -0.22949219  0.11914062  0.01531982 -0.26171875\n",
      " -0.12304688 -0.01867676 -0.06494141 -0.08154297  0.07861328 -0.35351562\n",
      "  0.05249023 -0.02453613 -0.00543213 -0.20898438 -0.2109375  -0.1796875\n",
      "  0.2421875   0.2578125   0.13769531 -0.2109375  -0.02172852 -0.13867188\n",
      "  0.01843262 -0.01239014 -0.15917969  0.16113281  0.20800781  0.10302734\n",
      "  0.09814453 -0.06835938 -0.00872803 -0.2890625  -0.21484375 -0.11425781\n",
      " -0.22167969  0.04125977 -0.3125     -0.0559082  -0.09765625  0.05810547\n",
      " -0.04052734 -0.17382812  0.1640625  -0.25390625 -0.15429688 -0.02319336\n",
      " -0.23828125  0.02075195 -0.2734375   0.00390625  0.11376953 -0.17382812\n",
      "  0.2578125   0.23535156  0.05224609  0.06835938 -0.17578125  0.16015625\n",
      " -0.00059891  0.05981445 -0.21191406 -0.05541992 -0.07519531 -0.30664062\n",
      "  0.42773438  0.05322266 -0.20898438 -0.05712891 -0.20996094  0.03295898\n",
      "  0.10546875 -0.15039062 -0.09375     0.11669922  0.06445312  0.02807617\n",
      "  0.24121094 -0.12597656 -0.10058594 -0.01226807 -0.00032616  0.01586914\n",
      "  0.12792969 -0.03320312  0.04077148 -0.13183594  0.09814453  0.17480469\n",
      " -0.23632812  0.05175781  0.18359375  0.02429199 -0.43164062  0.24609375\n",
      " -0.03039551 -0.02478027 -0.1171875   0.16113281 -0.05712891  0.01165771\n",
      "  0.28125     0.42773438  0.0456543   0.10107422 -0.03955078  0.0177002\n",
      " -0.08984375  0.13574219  0.20800781  0.18847656 -0.15234375 -0.23730469\n",
      " -0.19042969  0.07128906 -0.24609375 -0.26171875 -0.234375   -0.14550781\n",
      " -0.01171875 -0.15039062 -0.11328125  0.18261719  0.26367188 -0.13769531\n",
      " -0.45898438 -0.046875   -0.12695312 -0.04223633 -0.16699219  0.12695312\n",
      "  0.25976562 -0.24414062 -0.21972656 -0.08691406  0.15917969 -0.0378418\n",
      "  0.00897217 -0.27734375 -0.10498047 -0.17578125  0.22851562 -0.02709961\n",
      "  0.28515625 -0.2734375   0.01611328  0.05908203 -0.23925781  0.17773438\n",
      " -0.13476562  0.13867188  0.35351562  0.12207031  0.14355469  0.09228516\n",
      "  0.22949219 -0.30078125 -0.04882812 -0.1796875   0.296875    0.17578125\n",
      "  0.0480957  -0.00338745  0.07910156 -0.23828125 -0.23144531  0.16601562\n",
      " -0.21386719 -0.0703125  -0.07568359  0.19628906 -0.12988281 -0.10595703\n",
      " -0.35351562 -0.11669922 -0.05102539  0.03393555 -0.14355469 -0.00390625\n",
      "  0.17382812 -0.09960938 -0.16601562 -0.08544922 -0.3828125   0.05908203\n",
      " -0.06225586  0.08837891 -0.08886719  0.328125    0.06835938 -0.19140625\n",
      " -0.00083542  0.10400391  0.15234375 -0.00153351  0.41601562 -0.03320312\n",
      "  0.14941406  0.2421875  -0.17675781 -0.04931641 -0.12451172  0.12597656\n",
      "  0.17480469  0.28125    -0.18066406  0.10302734 -0.27539062  0.26171875\n",
      "  0.24609375 -0.04711914  0.0625      0.41601562 -0.35546875  0.22265625]\n"
     ]
    }
   ],
   "source": [
    "dog = model_google['dog']\n",
    "print(dog.shape)\n",
    "print(dog)"
   ]
  },
  {
   "cell_type": "code",
   "execution_count": 38,
   "metadata": {},
   "outputs": [
    {
     "name": "stdout",
     "output_type": "stream",
     "text": [
      "Михаил is an out of dictionary word\n"
     ]
    }
   ],
   "source": [
    "# Deal with an out of dictionary word: Михаил (Michail)\n",
    "if 'Михаил' in model_google:\n",
    "    print(model_google['Михаил'].shape)\n",
    "else:\n",
    "    print('{0} is an out of dictionary word'.format('Михаил'))"
   ]
  },
  {
   "cell_type": "code",
   "execution_count": 39,
   "metadata": {},
   "outputs": [
    {
     "data": {
      "text/plain": [
       "[('queens', 0.739944338798523),\n",
       " ('princess', 0.7070531249046326),\n",
       " ('king', 0.6510956883430481),\n",
       " ('monarch', 0.6383602023124695),\n",
       " ('Queen', 0.6163408160209656),\n",
       " ('princesses', 0.5908075571060181),\n",
       " ('royal', 0.5637185573577881),\n",
       " ('prince', 0.5534094572067261),\n",
       " ('duchess', 0.5475091338157654),\n",
       " ('Queen_Elizabeth_II', 0.5321036577224731)]"
      ]
     },
     "execution_count": 39,
     "metadata": {},
     "output_type": "execute_result"
    }
   ],
   "source": [
    "model_google.most_similar('queen')"
   ]
  },
  {
   "cell_type": "code",
   "execution_count": 41,
   "metadata": {},
   "outputs": [
    {
     "data": {
      "text/plain": [
       "[('queen', 0.7118193507194519),\n",
       " ('monarch', 0.6189674735069275),\n",
       " ('princess', 0.5902431011199951),\n",
       " ('crown_prince', 0.5499460697174072),\n",
       " ('prince', 0.5377322435379028),\n",
       " ('kings', 0.5236844420433044),\n",
       " ('queens', 0.5181134939193726),\n",
       " ('sultan', 0.5098593235015869),\n",
       " ('monarchy', 0.5087411403656006),\n",
       " ('royal_palace', 0.5087165832519531)]"
      ]
     },
     "execution_count": 41,
     "metadata": {},
     "output_type": "execute_result"
    }
   ],
   "source": [
    "# Some predefined functions that show content related information for given words\n",
    "model_google.most_similar(positive=['woman', 'king'], negative=['man'])"
   ]
  },
  {
   "cell_type": "code",
   "execution_count": 42,
   "metadata": {},
   "outputs": [
    {
     "data": {
      "text/plain": [
       "[('king', 0.844939112663269),\n",
       " ('queen', 0.7300516366958618),\n",
       " ('monarch', 0.645466148853302),\n",
       " ('princess', 0.6156250834465027),\n",
       " ('crown_prince', 0.5818676352500916),\n",
       " ('prince', 0.577711820602417),\n",
       " ('kings', 0.5613663792610168),\n",
       " ('sultan', 0.5376777052879333),\n",
       " ('queens', 0.5289886593818665),\n",
       " ('ruler', 0.5247418880462646)]"
      ]
     },
     "execution_count": 42,
     "metadata": {},
     "output_type": "execute_result"
    }
   ],
   "source": [
    "vec = model_google['king'] - model_google['man'] + model_google['woman']\n",
    "model_google.most_similar([vec])"
   ]
  },
  {
   "cell_type": "code",
   "execution_count": 43,
   "metadata": {},
   "outputs": [
    {
     "data": {
      "text/plain": [
       "[('Beijing', 0.7503446936607361),\n",
       " ('China', 0.690947413444519),\n",
       " ('Shanghai', 0.6311317086219788),\n",
       " ('Chinese', 0.5892248749732971),\n",
       " ('Wen', 0.5494182109832764),\n",
       " ('Taipei', 0.5488865971565247),\n",
       " ('Hu', 0.5421319007873535),\n",
       " ('Berlin', 0.540385901927948),\n",
       " ('Jiang', 0.5400534272193909),\n",
       " ('Nanjing', 0.5362175107002258)]"
      ]
     },
     "execution_count": 43,
     "metadata": {},
     "output_type": "execute_result"
    }
   ],
   "source": [
    "vec = model_google['Berlin'] - model_google['Germany'] + model_google['China']\n",
    "model_google.most_similar([vec])"
   ]
  },
  {
   "cell_type": "code",
   "execution_count": 44,
   "metadata": {},
   "outputs": [
    {
     "data": {
      "text/plain": [
       "[('China', 0.78082674741745),\n",
       " ('Beijing', 0.7486749887466431),\n",
       " ('Chinese', 0.6215003132820129),\n",
       " ('Taiwan', 0.6076850891113281),\n",
       " ('Guangzhou', 0.5951666235923767),\n",
       " ('South_Korea', 0.5853776931762695),\n",
       " ('Guangdong', 0.557560384273529),\n",
       " ('Tianjin', 0.5540564060211182),\n",
       " ('Hong_Kong', 0.5525559186935425),\n",
       " ('Hangzhou', 0.5507877469062805)]"
      ]
     },
     "execution_count": 44,
     "metadata": {},
     "output_type": "execute_result"
    }
   ],
   "source": [
    "vec = model_google['Germany'] - model_google['Berlin'] + model_google['Beijing']\n",
    "model_google.most_similar([vec])"
   ]
  },
  {
   "cell_type": "code",
   "execution_count": 45,
   "metadata": {},
   "outputs": [
    {
     "data": {
      "text/plain": [
       "[('Messi', 0.8166202306747437),\n",
       " ('Nadal', 0.7505947947502136),\n",
       " ('Lionel_Messi', 0.7263434529304504),\n",
       " ('Federer', 0.7245292663574219),\n",
       " ('Del_Potro', 0.7131719589233398),\n",
       " ('Djokovic', 0.6933087706565857),\n",
       " ('Xavi', 0.6920369863510132),\n",
       " ('Wawrinka', 0.6769295334815979),\n",
       " ('Safin', 0.6765395402908325),\n",
       " ('Verdasco', 0.6752812266349792)]"
      ]
     },
     "execution_count": 45,
     "metadata": {},
     "output_type": "execute_result"
    }
   ],
   "source": [
    "vec = model_google['Messi'] - model_google['soccer'] + model_google['tennis']\n",
    "model_google.most_similar([vec])"
   ]
  },
  {
   "cell_type": "code",
   "execution_count": 46,
   "metadata": {},
   "outputs": [
    {
     "data": {
      "text/plain": [
       "'economics'"
      ]
     },
     "execution_count": 46,
     "metadata": {},
     "output_type": "execute_result"
    }
   ],
   "source": [
    "model_google.doesnt_match(\"breakfast economics dinner lunch\".split())"
   ]
  },
  {
   "cell_type": "code",
   "execution_count": 47,
   "metadata": {},
   "outputs": [
    {
     "data": {
      "text/plain": [
       "0.7664013"
      ]
     },
     "execution_count": 47,
     "metadata": {},
     "output_type": "execute_result"
    }
   ],
   "source": [
    "model_google.similarity('woman', 'man')"
   ]
  },
  {
   "cell_type": "code",
   "execution_count": 49,
   "metadata": {},
   "outputs": [
    {
     "data": {
      "text/plain": [
       "0.5616391"
      ]
     },
     "execution_count": 49,
     "metadata": {},
     "output_type": "execute_result"
    }
   ],
   "source": [
    "model_google.similarity('Harvard', 'Stanford')"
   ]
  },
  {
   "cell_type": "code",
   "execution_count": 50,
   "metadata": {},
   "outputs": [
    {
     "data": {
      "text/plain": [
       "0.7489214"
      ]
     },
     "execution_count": 50,
     "metadata": {},
     "output_type": "execute_result"
    }
   ],
   "source": [
    "model_google.similarity('Cambridge', 'Oxford')"
   ]
  },
  {
   "cell_type": "code",
   "execution_count": 51,
   "metadata": {},
   "outputs": [
    {
     "data": {
      "text/plain": [
       "[('Yale', 0.7817695736885071),\n",
       " ('MIT', 0.6923760771751404),\n",
       " ('Tufts', 0.6757500171661377),\n",
       " ('Princeton', 0.6723749041557312),\n",
       " ('Dartmouth_College', 0.6639551520347595),\n",
       " ('Tufts_University', 0.6623229384422302),\n",
       " ('Dartmouth', 0.6545069813728333),\n",
       " ('Cornell', 0.6406891942024231),\n",
       " ('Ivy_League', 0.6399901509284973),\n",
       " ('Harvard_Law', 0.639301061630249)]"
      ]
     },
     "execution_count": 51,
     "metadata": {},
     "output_type": "execute_result"
    }
   ],
   "source": [
    "model_google.most_similar('Harvard')"
   ]
  },
  {
   "cell_type": "code",
   "execution_count": 54,
   "metadata": {},
   "outputs": [
    {
     "ename": "KeyError",
     "evalue": "\"Key 'HKUST' not present\"",
     "output_type": "error",
     "traceback": [
      "\u001b[0;31m---------------------------------------------------------------------------\u001b[0m",
      "\u001b[0;31mKeyError\u001b[0m                                  Traceback (most recent call last)",
      "Cell \u001b[0;32mIn[54], line 1\u001b[0m\n\u001b[0;32m----> 1\u001b[0m \u001b[43mmodel_google\u001b[49m\u001b[38;5;241;43m.\u001b[39;49m\u001b[43msimilarity\u001b[49m\u001b[43m(\u001b[49m\u001b[38;5;124;43m'\u001b[39;49m\u001b[38;5;124;43mHKUST\u001b[39;49m\u001b[38;5;124;43m'\u001b[39;49m\u001b[43m,\u001b[49m\u001b[43m \u001b[49m\u001b[38;5;124;43m'\u001b[39;49m\u001b[38;5;124;43mHKU\u001b[39;49m\u001b[38;5;124;43m'\u001b[39;49m\u001b[43m)\u001b[49m\n",
      "File \u001b[0;32m~/opt/anaconda3/envs/CSS2023/lib/python3.10/site-packages/gensim/models/keyedvectors.py:1234\u001b[0m, in \u001b[0;36mKeyedVectors.similarity\u001b[0;34m(self, w1, w2)\u001b[0m\n\u001b[1;32m   1218\u001b[0m \u001b[38;5;28;01mdef\u001b[39;00m \u001b[38;5;21msimilarity\u001b[39m(\u001b[38;5;28mself\u001b[39m, w1, w2):\n\u001b[1;32m   1219\u001b[0m     \u001b[38;5;124;03m\"\"\"Compute cosine similarity between two keys.\u001b[39;00m\n\u001b[1;32m   1220\u001b[0m \n\u001b[1;32m   1221\u001b[0m \u001b[38;5;124;03m    Parameters\u001b[39;00m\n\u001b[0;32m   (...)\u001b[0m\n\u001b[1;32m   1232\u001b[0m \n\u001b[1;32m   1233\u001b[0m \u001b[38;5;124;03m    \"\"\"\u001b[39;00m\n\u001b[0;32m-> 1234\u001b[0m     \u001b[38;5;28;01mreturn\u001b[39;00m dot(matutils\u001b[38;5;241m.\u001b[39munitvec(\u001b[38;5;28;43mself\u001b[39;49m\u001b[43m[\u001b[49m\u001b[43mw1\u001b[49m\u001b[43m]\u001b[49m), matutils\u001b[38;5;241m.\u001b[39munitvec(\u001b[38;5;28mself\u001b[39m[w2]))\n",
      "File \u001b[0;32m~/opt/anaconda3/envs/CSS2023/lib/python3.10/site-packages/gensim/models/keyedvectors.py:403\u001b[0m, in \u001b[0;36mKeyedVectors.__getitem__\u001b[0;34m(self, key_or_keys)\u001b[0m\n\u001b[1;32m    389\u001b[0m \u001b[38;5;124;03m\"\"\"Get vector representation of `key_or_keys`.\u001b[39;00m\n\u001b[1;32m    390\u001b[0m \n\u001b[1;32m    391\u001b[0m \u001b[38;5;124;03mParameters\u001b[39;00m\n\u001b[0;32m   (...)\u001b[0m\n\u001b[1;32m    400\u001b[0m \n\u001b[1;32m    401\u001b[0m \u001b[38;5;124;03m\"\"\"\u001b[39;00m\n\u001b[1;32m    402\u001b[0m \u001b[38;5;28;01mif\u001b[39;00m \u001b[38;5;28misinstance\u001b[39m(key_or_keys, _KEY_TYPES):\n\u001b[0;32m--> 403\u001b[0m     \u001b[38;5;28;01mreturn\u001b[39;00m \u001b[38;5;28;43mself\u001b[39;49m\u001b[38;5;241;43m.\u001b[39;49m\u001b[43mget_vector\u001b[49m\u001b[43m(\u001b[49m\u001b[43mkey_or_keys\u001b[49m\u001b[43m)\u001b[49m\n\u001b[1;32m    405\u001b[0m \u001b[38;5;28;01mreturn\u001b[39;00m vstack([\u001b[38;5;28mself\u001b[39m\u001b[38;5;241m.\u001b[39mget_vector(key) \u001b[38;5;28;01mfor\u001b[39;00m key \u001b[38;5;129;01min\u001b[39;00m key_or_keys])\n",
      "File \u001b[0;32m~/opt/anaconda3/envs/CSS2023/lib/python3.10/site-packages/gensim/models/keyedvectors.py:446\u001b[0m, in \u001b[0;36mKeyedVectors.get_vector\u001b[0;34m(self, key, norm)\u001b[0m\n\u001b[1;32m    422\u001b[0m \u001b[38;5;28;01mdef\u001b[39;00m \u001b[38;5;21mget_vector\u001b[39m(\u001b[38;5;28mself\u001b[39m, key, norm\u001b[38;5;241m=\u001b[39m\u001b[38;5;28;01mFalse\u001b[39;00m):\n\u001b[1;32m    423\u001b[0m     \u001b[38;5;124;03m\"\"\"Get the key's vector, as a 1D numpy array.\u001b[39;00m\n\u001b[1;32m    424\u001b[0m \n\u001b[1;32m    425\u001b[0m \u001b[38;5;124;03m    Parameters\u001b[39;00m\n\u001b[0;32m   (...)\u001b[0m\n\u001b[1;32m    444\u001b[0m \n\u001b[1;32m    445\u001b[0m \u001b[38;5;124;03m    \"\"\"\u001b[39;00m\n\u001b[0;32m--> 446\u001b[0m     index \u001b[38;5;241m=\u001b[39m \u001b[38;5;28;43mself\u001b[39;49m\u001b[38;5;241;43m.\u001b[39;49m\u001b[43mget_index\u001b[49m\u001b[43m(\u001b[49m\u001b[43mkey\u001b[49m\u001b[43m)\u001b[49m\n\u001b[1;32m    447\u001b[0m     \u001b[38;5;28;01mif\u001b[39;00m norm:\n\u001b[1;32m    448\u001b[0m         \u001b[38;5;28mself\u001b[39m\u001b[38;5;241m.\u001b[39mfill_norms()\n",
      "File \u001b[0;32m~/opt/anaconda3/envs/CSS2023/lib/python3.10/site-packages/gensim/models/keyedvectors.py:420\u001b[0m, in \u001b[0;36mKeyedVectors.get_index\u001b[0;34m(self, key, default)\u001b[0m\n\u001b[1;32m    418\u001b[0m     \u001b[38;5;28;01mreturn\u001b[39;00m default\n\u001b[1;32m    419\u001b[0m \u001b[38;5;28;01melse\u001b[39;00m:\n\u001b[0;32m--> 420\u001b[0m     \u001b[38;5;28;01mraise\u001b[39;00m \u001b[38;5;167;01mKeyError\u001b[39;00m(\u001b[38;5;124mf\u001b[39m\u001b[38;5;124m\"\u001b[39m\u001b[38;5;124mKey \u001b[39m\u001b[38;5;124m'\u001b[39m\u001b[38;5;132;01m{\u001b[39;00mkey\u001b[38;5;132;01m}\u001b[39;00m\u001b[38;5;124m'\u001b[39m\u001b[38;5;124m not present\u001b[39m\u001b[38;5;124m\"\u001b[39m)\n",
      "\u001b[0;31mKeyError\u001b[0m: \"Key 'HKUST' not present\""
     ]
    }
   ],
   "source": [
    "model_google.similarity('HKUST', 'HKU')"
   ]
  },
  {
   "cell_type": "code",
   "execution_count": 55,
   "metadata": {},
   "outputs": [
    {
     "data": {
      "text/plain": [
       "0.5652766"
      ]
     },
     "execution_count": 55,
     "metadata": {},
     "output_type": "execute_result"
    }
   ],
   "source": [
    "model_google.similarity('Economics', 'Sociology')"
   ]
  },
  {
   "cell_type": "code",
   "execution_count": 56,
   "metadata": {},
   "outputs": [
    {
     "data": {
      "text/plain": [
       "0.36622703"
      ]
     },
     "execution_count": 56,
     "metadata": {},
     "output_type": "execute_result"
    }
   ],
   "source": [
    "model_google.similarity('Statistics', 'Economics')"
   ]
  },
  {
   "cell_type": "code",
   "execution_count": 57,
   "metadata": {},
   "outputs": [
    {
     "data": {
      "text/plain": [
       "0.30566943"
      ]
     },
     "execution_count": 57,
     "metadata": {},
     "output_type": "execute_result"
    }
   ],
   "source": [
    "model_google.similarity('Statistics', 'Sociology')"
   ]
  },
  {
   "cell_type": "markdown",
   "metadata": {},
   "source": [
    "# Software \n",
    "- GloVe: https://nlp.stanford.edu/projects/glove/\n",
    "- Word2Vec: https://code.google.com/archive/p/word2vec/\n",
    "- Tensorflow Word2Vec tutorial: https://www.tensorflow.org/tutorials/text/word_embeddings"
   ]
  },
  {
   "cell_type": "code",
   "execution_count": null,
   "metadata": {},
   "outputs": [],
   "source": []
  }
 ],
 "metadata": {
  "kernelspec": {
   "display_name": "Python 3 (ipykernel)",
   "language": "python",
   "name": "python3"
  },
  "language_info": {
   "codemirror_mode": {
    "name": "ipython",
    "version": 3
   },
   "file_extension": ".py",
   "mimetype": "text/x-python",
   "name": "python",
   "nbconvert_exporter": "python",
   "pygments_lexer": "ipython3",
   "version": "3.10.9"
  }
 },
 "nbformat": 4,
 "nbformat_minor": 4
}
