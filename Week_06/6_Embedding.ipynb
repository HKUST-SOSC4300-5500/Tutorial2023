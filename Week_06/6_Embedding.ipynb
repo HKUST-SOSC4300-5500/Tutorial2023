{
 "cells": [
  {
   "cell_type": "markdown",
   "metadata": {},
   "source": [
    "# GENSIM for word embeddings "
   ]
  },
  {
   "cell_type": "markdown",
   "metadata": {},
   "source": [
    "- THE GENSIM LIBRARY\n",
    "\n",
    "    - Gensim is an open-source python library for natural language processing.\n",
    "\n",
    "    - It was developed and is maintained by the Czech natural language processing researcher Radim Řehůřek. \n",
    "\n",
    "    - In the previous tutorial, we have seen how you can use this package to do topic modeling.\n",
    "    \n",
    "    - Here we use `gensim` for word embedding. \n",
    "    "
   ]
  },
  {
   "cell_type": "markdown",
   "metadata": {},
   "source": [
    "- Word embeddings can be used for:\n",
    "    - automated text tagging\n",
    "    - recommendation engines\n",
    "    - synonyms and search query expansion\n",
    "    - machine translation\n",
    "    - plain feature engineering"
   ]
  },
  {
   "cell_type": "markdown",
   "metadata": {},
   "source": [
    "One example\n",
    "\n",
    "<img src=\"1.png\" alt=\"drawing\" width=\"600\"/>"
   ]
  },
  {
   "cell_type": "markdown",
   "metadata": {},
   "source": [
    "Another example\n",
    "\n",
    "<img src=\"2.png\" alt=\"drawing\" width=\"400\"/>"
   ]
  },
  {
   "cell_type": "markdown",
   "metadata": {},
   "source": [
    "## Software for word embeddings "
   ]
  },
  {
   "cell_type": "markdown",
   "metadata": {},
   "source": [
    "- Software for training and using word embeddings includes \n",
    "    - Tomas Mikolov's Word2vec, \n",
    "    - Stanford University's GloVe, GN-GloVe \n",
    "    - AllenNLP's ELMo,\n",
    "    - BERT\n",
    "    - fastText \n",
    "    - Gensim\n",
    "    - Indra and Deeplearning4j\n",
    "  \n",
    "    - Principal Component Analysis (PCA) and T-Distributed Stochastic Neighbour Embedding (t-SNE) are both used to reduce the dimensionality of word vector spaces and visualize word embeddings and clusters."
   ]
  },
  {
   "cell_type": "code",
   "execution_count": 7,
   "metadata": {},
   "outputs": [],
   "source": [
    "import pandas as pd\n",
    "import numpy as np\n",
    "\n",
    "import re  # For preprocessing\n",
    "\n",
    "# from collections import defaultdict\n",
    "# from time import time  # To time our operations\n",
    "# import warnings\n",
    "# warnings.filterwarnings('ignore')\n",
    "# import logging  # Setting up the loggings to monitor gensim\n",
    "# logging.basicConfig(format=\"%(levelname)s - %(asctime)s: %(message)s\", datefmt= '%H:%M:%S', level=logging.INFO)"
   ]
  },
  {
   "cell_type": "markdown",
   "metadata": {},
   "source": [
    "## 1) CREATE A WORD2VEC MODEL\n",
    "\n",
    "- Training the model: Gensim Word2Vec Implementation:\n",
    "    - We use Gensim implementation of word2vec: https://radimrehurek.com/gensim/models/word2vec.html"
   ]
  },
  {
   "cell_type": "code",
   "execution_count": 8,
   "metadata": {
    "scrolled": true
   },
   "outputs": [
    {
     "data": {
      "text/plain": [
       "[['human', 'interface', 'computer'],\n",
       " ['survey', 'user', 'computer', 'system', 'response', 'time'],\n",
       " ['eps', 'user', 'interface', 'system'],\n",
       " ['system', 'human', 'system', 'eps'],\n",
       " ['user', 'response', 'time'],\n",
       " ['trees'],\n",
       " ['graph', 'trees'],\n",
       " ['graph', 'minors', 'trees'],\n",
       " ['graph', 'minors', 'survey']]"
      ]
     },
     "execution_count": 8,
     "metadata": {},
     "output_type": "execute_result"
    }
   ],
   "source": [
    "from gensim.models import Word2Vec\n",
    "from gensim.test.utils import common_texts, get_tmpfile\n",
    "\n",
    "common_texts"
   ]
  },
  {
   "cell_type": "markdown",
   "metadata": {},
   "source": [
    "## train a simpliest word embedding by yourself"
   ]
  },
  {
   "cell_type": "code",
   "execution_count": 9,
   "metadata": {
    "scrolled": true
   },
   "outputs": [],
   "source": [
    "model_1 = Word2Vec(common_texts, vector_size=100, window=5, min_count=1, workers=4)"
   ]
  },
  {
   "cell_type": "markdown",
   "metadata": {},
   "source": [
    "The hyperparameters of `Word2Vec`:\n",
    "\n",
    "- `vector_size`: # of dimensions of the embeddings and the default is 100.\n",
    "- `window`: The maximum distance between a target word and words around the target word. The default window is 5.\n",
    "- `min_count`: The minimum count of words to consider when training the model; words with occurrence less than this count will be ignored. The default for min_count is 5.\n",
    "- `workers`: # of worker threads used to train the model; depends on your computer.\n",
    "- `sg`: The training algorithm, either CBOW(0) or skip-gram (1). The default training algorithm is CBOW."
   ]
  },
  {
   "cell_type": "code",
   "execution_count": 10,
   "metadata": {},
   "outputs": [
    {
     "data": {
      "text/plain": [
       "array([-0.00515774, -0.00667028, -0.0077791 ,  0.00831315, -0.00198292,\n",
       "       -0.00685696, -0.0041556 ,  0.00514562, -0.00286997, -0.00375075,\n",
       "        0.0016219 , -0.0027771 , -0.00158482,  0.0010748 , -0.00297881,\n",
       "        0.00852176,  0.00391207, -0.00996176,  0.00626142, -0.00675622,\n",
       "        0.00076966,  0.00440552, -0.00510486, -0.00211128,  0.00809783,\n",
       "       -0.00424503, -0.00763848,  0.00926061, -0.00215612, -0.00472081,\n",
       "        0.00857329,  0.00428459,  0.0043261 ,  0.00928722, -0.00845554,\n",
       "        0.00525685,  0.00203994,  0.0041895 ,  0.00169839,  0.00446543,\n",
       "        0.0044876 ,  0.0061063 , -0.00320303, -0.00457706, -0.00042664,\n",
       "        0.00253447, -0.00326412,  0.00605948,  0.00415534,  0.00776685,\n",
       "        0.00257002,  0.00811905, -0.00138761,  0.00808028,  0.0037181 ,\n",
       "       -0.00804967, -0.00393476, -0.0024726 ,  0.00489447, -0.00087241,\n",
       "       -0.00283173,  0.00783599,  0.00932561, -0.0016154 , -0.00516075,\n",
       "       -0.00470313, -0.00484746, -0.00960562,  0.00137242, -0.00422615,\n",
       "        0.00252744,  0.00561612, -0.00406709, -0.00959937,  0.00154715,\n",
       "       -0.00670207,  0.0024959 , -0.00378173,  0.00708048,  0.00064041,\n",
       "        0.00356198, -0.00273993, -0.00171105,  0.00765502,  0.00140809,\n",
       "       -0.00585215, -0.00783678,  0.00123305,  0.00645651,  0.00555797,\n",
       "       -0.00897966,  0.00859466,  0.00404816,  0.00747178,  0.00974917,\n",
       "       -0.0072917 , -0.00904259,  0.0058377 ,  0.00939395,  0.00350795],\n",
       "      dtype=float32)"
      ]
     },
     "execution_count": 10,
     "metadata": {},
     "output_type": "execute_result"
    }
   ],
   "source": [
    "vector = model_1.wv['computer']  # 'wv': word to vector\n",
    "vector"
   ]
  },
  {
   "cell_type": "code",
   "execution_count": 11,
   "metadata": {},
   "outputs": [
    {
     "data": {
      "text/plain": [
       "100"
      ]
     },
     "execution_count": 11,
     "metadata": {},
     "output_type": "execute_result"
    }
   ],
   "source": [
    "len(vector)"
   ]
  },
  {
   "cell_type": "code",
   "execution_count": 12,
   "metadata": {
    "scrolled": true
   },
   "outputs": [
    {
     "ename": "KeyError",
     "evalue": "\"Key 'hi' not present\"",
     "output_type": "error",
     "traceback": [
      "\u001b[0;31m---------------------------------------------------------------------------\u001b[0m",
      "\u001b[0;31mKeyError\u001b[0m                                  Traceback (most recent call last)",
      "Cell \u001b[0;32mIn[12], line 2\u001b[0m\n\u001b[1;32m      1\u001b[0m \u001b[38;5;66;03m# new words? cannot handle\u001b[39;00m\n\u001b[0;32m----> 2\u001b[0m \u001b[43mmodel_1\u001b[49m\u001b[38;5;241;43m.\u001b[39;49m\u001b[43mwv\u001b[49m\u001b[43m[\u001b[49m\u001b[38;5;124;43m'\u001b[39;49m\u001b[38;5;124;43mhi\u001b[39;49m\u001b[38;5;124;43m'\u001b[39;49m\u001b[43m]\u001b[49m\n",
      "File \u001b[0;32m~/opt/anaconda3/envs/CSS2023/lib/python3.10/site-packages/gensim/models/keyedvectors.py:403\u001b[0m, in \u001b[0;36mKeyedVectors.__getitem__\u001b[0;34m(self, key_or_keys)\u001b[0m\n\u001b[1;32m    389\u001b[0m \u001b[38;5;124;03m\"\"\"Get vector representation of `key_or_keys`.\u001b[39;00m\n\u001b[1;32m    390\u001b[0m \n\u001b[1;32m    391\u001b[0m \u001b[38;5;124;03mParameters\u001b[39;00m\n\u001b[0;32m   (...)\u001b[0m\n\u001b[1;32m    400\u001b[0m \n\u001b[1;32m    401\u001b[0m \u001b[38;5;124;03m\"\"\"\u001b[39;00m\n\u001b[1;32m    402\u001b[0m \u001b[38;5;28;01mif\u001b[39;00m \u001b[38;5;28misinstance\u001b[39m(key_or_keys, _KEY_TYPES):\n\u001b[0;32m--> 403\u001b[0m     \u001b[38;5;28;01mreturn\u001b[39;00m \u001b[38;5;28;43mself\u001b[39;49m\u001b[38;5;241;43m.\u001b[39;49m\u001b[43mget_vector\u001b[49m\u001b[43m(\u001b[49m\u001b[43mkey_or_keys\u001b[49m\u001b[43m)\u001b[49m\n\u001b[1;32m    405\u001b[0m \u001b[38;5;28;01mreturn\u001b[39;00m vstack([\u001b[38;5;28mself\u001b[39m\u001b[38;5;241m.\u001b[39mget_vector(key) \u001b[38;5;28;01mfor\u001b[39;00m key \u001b[38;5;129;01min\u001b[39;00m key_or_keys])\n",
      "File \u001b[0;32m~/opt/anaconda3/envs/CSS2023/lib/python3.10/site-packages/gensim/models/keyedvectors.py:446\u001b[0m, in \u001b[0;36mKeyedVectors.get_vector\u001b[0;34m(self, key, norm)\u001b[0m\n\u001b[1;32m    422\u001b[0m \u001b[38;5;28;01mdef\u001b[39;00m \u001b[38;5;21mget_vector\u001b[39m(\u001b[38;5;28mself\u001b[39m, key, norm\u001b[38;5;241m=\u001b[39m\u001b[38;5;28;01mFalse\u001b[39;00m):\n\u001b[1;32m    423\u001b[0m     \u001b[38;5;124;03m\"\"\"Get the key's vector, as a 1D numpy array.\u001b[39;00m\n\u001b[1;32m    424\u001b[0m \n\u001b[1;32m    425\u001b[0m \u001b[38;5;124;03m    Parameters\u001b[39;00m\n\u001b[0;32m   (...)\u001b[0m\n\u001b[1;32m    444\u001b[0m \n\u001b[1;32m    445\u001b[0m \u001b[38;5;124;03m    \"\"\"\u001b[39;00m\n\u001b[0;32m--> 446\u001b[0m     index \u001b[38;5;241m=\u001b[39m \u001b[38;5;28;43mself\u001b[39;49m\u001b[38;5;241;43m.\u001b[39;49m\u001b[43mget_index\u001b[49m\u001b[43m(\u001b[49m\u001b[43mkey\u001b[49m\u001b[43m)\u001b[49m\n\u001b[1;32m    447\u001b[0m     \u001b[38;5;28;01mif\u001b[39;00m norm:\n\u001b[1;32m    448\u001b[0m         \u001b[38;5;28mself\u001b[39m\u001b[38;5;241m.\u001b[39mfill_norms()\n",
      "File \u001b[0;32m~/opt/anaconda3/envs/CSS2023/lib/python3.10/site-packages/gensim/models/keyedvectors.py:420\u001b[0m, in \u001b[0;36mKeyedVectors.get_index\u001b[0;34m(self, key, default)\u001b[0m\n\u001b[1;32m    418\u001b[0m     \u001b[38;5;28;01mreturn\u001b[39;00m default\n\u001b[1;32m    419\u001b[0m \u001b[38;5;28;01melse\u001b[39;00m:\n\u001b[0;32m--> 420\u001b[0m     \u001b[38;5;28;01mraise\u001b[39;00m \u001b[38;5;167;01mKeyError\u001b[39;00m(\u001b[38;5;124mf\u001b[39m\u001b[38;5;124m\"\u001b[39m\u001b[38;5;124mKey \u001b[39m\u001b[38;5;124m'\u001b[39m\u001b[38;5;132;01m{\u001b[39;00mkey\u001b[38;5;132;01m}\u001b[39;00m\u001b[38;5;124m'\u001b[39m\u001b[38;5;124m not present\u001b[39m\u001b[38;5;124m\"\u001b[39m)\n",
      "\u001b[0;31mKeyError\u001b[0m: \"Key 'hi' not present\""
     ]
    }
   ],
   "source": [
    "# new words? cannot handle\n",
    "model_1.wv['hi']"
   ]
  },
  {
   "cell_type": "code",
   "execution_count": 13,
   "metadata": {},
   "outputs": [
    {
     "data": {
      "text/plain": [
       "[('user', 0.06793873757123947),\n",
       " ('survey', 0.033640600740909576),\n",
       " ('eps', 0.0093911811709404),\n",
       " ('human', 0.008315952494740486),\n",
       " ('minors', 0.004503021948039532),\n",
       " ('system', -0.010839170776307583),\n",
       " ('trees', -0.023671651259064674),\n",
       " ('computer', -0.09575343132019043),\n",
       " ('time', -0.11410721391439438),\n",
       " ('response', -0.11557212471961975)]"
      ]
     },
     "execution_count": 13,
     "metadata": {},
     "output_type": "execute_result"
    }
   ],
   "source": [
    "model_1.wv.most_similar('graph')"
   ]
  },
  {
   "cell_type": "code",
   "execution_count": 14,
   "metadata": {},
   "outputs": [],
   "source": [
    "## save model\n",
    "model_1.save(\"word2vec.model\")"
   ]
  },
  {
   "cell_type": "markdown",
   "metadata": {},
   "source": [
    "## 2) WORD EMBEDDING Using a Real Dataset"
   ]
  },
  {
   "cell_type": "markdown",
   "metadata": {},
   "source": [
    "In this example, I use [a dataset from Kaggle](https://www.kaggle.com/CooperUnion/cardataset). This cars dataset includes features such as make, model, year, engine, and other properties of the car. We will use these features to generate the word embeddings for each make model and then compare the similarities between different make model. The following dataframe shows the detail information of this dataset."
   ]
  },
  {
   "cell_type": "markdown",
   "metadata": {},
   "source": [
    "Note what we are doing: **the structure of word embedding can not only be used on text but also on observation-feature dataframes**! Fundamentally it's about dimension reduction. \n",
    "\n",
    "In fact this is [also true for topic modeling (LDA)](https://www.journals.uchicago.edu/doi/10.1086/705331)"
   ]
  },
  {
   "cell_type": "code",
   "execution_count": 15,
   "metadata": {},
   "outputs": [
    {
     "data": {
      "text/html": [
       "<div>\n",
       "<style scoped>\n",
       "    .dataframe tbody tr th:only-of-type {\n",
       "        vertical-align: middle;\n",
       "    }\n",
       "\n",
       "    .dataframe tbody tr th {\n",
       "        vertical-align: top;\n",
       "    }\n",
       "\n",
       "    .dataframe thead th {\n",
       "        text-align: right;\n",
       "    }\n",
       "</style>\n",
       "<table border=\"1\" class=\"dataframe\">\n",
       "  <thead>\n",
       "    <tr style=\"text-align: right;\">\n",
       "      <th></th>\n",
       "      <th>Make</th>\n",
       "      <th>Model</th>\n",
       "      <th>Year</th>\n",
       "      <th>Engine Fuel Type</th>\n",
       "      <th>Engine HP</th>\n",
       "      <th>Engine Cylinders</th>\n",
       "      <th>Transmission Type</th>\n",
       "      <th>Driven_Wheels</th>\n",
       "      <th>Number of Doors</th>\n",
       "      <th>Market Category</th>\n",
       "      <th>Vehicle Size</th>\n",
       "      <th>Vehicle Style</th>\n",
       "      <th>highway MPG</th>\n",
       "      <th>city mpg</th>\n",
       "      <th>Popularity</th>\n",
       "      <th>MSRP</th>\n",
       "    </tr>\n",
       "  </thead>\n",
       "  <tbody>\n",
       "    <tr>\n",
       "      <th>0</th>\n",
       "      <td>BMW</td>\n",
       "      <td>1 Series M</td>\n",
       "      <td>2011</td>\n",
       "      <td>premium unleaded (required)</td>\n",
       "      <td>335.0</td>\n",
       "      <td>6.0</td>\n",
       "      <td>MANUAL</td>\n",
       "      <td>rear wheel drive</td>\n",
       "      <td>2.0</td>\n",
       "      <td>Factory Tuner,Luxury,High-Performance</td>\n",
       "      <td>Compact</td>\n",
       "      <td>Coupe</td>\n",
       "      <td>26</td>\n",
       "      <td>19</td>\n",
       "      <td>3916</td>\n",
       "      <td>46135</td>\n",
       "    </tr>\n",
       "    <tr>\n",
       "      <th>1</th>\n",
       "      <td>BMW</td>\n",
       "      <td>1 Series</td>\n",
       "      <td>2011</td>\n",
       "      <td>premium unleaded (required)</td>\n",
       "      <td>300.0</td>\n",
       "      <td>6.0</td>\n",
       "      <td>MANUAL</td>\n",
       "      <td>rear wheel drive</td>\n",
       "      <td>2.0</td>\n",
       "      <td>Luxury,Performance</td>\n",
       "      <td>Compact</td>\n",
       "      <td>Convertible</td>\n",
       "      <td>28</td>\n",
       "      <td>19</td>\n",
       "      <td>3916</td>\n",
       "      <td>40650</td>\n",
       "    </tr>\n",
       "    <tr>\n",
       "      <th>2</th>\n",
       "      <td>BMW</td>\n",
       "      <td>1 Series</td>\n",
       "      <td>2011</td>\n",
       "      <td>premium unleaded (required)</td>\n",
       "      <td>300.0</td>\n",
       "      <td>6.0</td>\n",
       "      <td>MANUAL</td>\n",
       "      <td>rear wheel drive</td>\n",
       "      <td>2.0</td>\n",
       "      <td>Luxury,High-Performance</td>\n",
       "      <td>Compact</td>\n",
       "      <td>Coupe</td>\n",
       "      <td>28</td>\n",
       "      <td>20</td>\n",
       "      <td>3916</td>\n",
       "      <td>36350</td>\n",
       "    </tr>\n",
       "    <tr>\n",
       "      <th>3</th>\n",
       "      <td>BMW</td>\n",
       "      <td>1 Series</td>\n",
       "      <td>2011</td>\n",
       "      <td>premium unleaded (required)</td>\n",
       "      <td>230.0</td>\n",
       "      <td>6.0</td>\n",
       "      <td>MANUAL</td>\n",
       "      <td>rear wheel drive</td>\n",
       "      <td>2.0</td>\n",
       "      <td>Luxury,Performance</td>\n",
       "      <td>Compact</td>\n",
       "      <td>Coupe</td>\n",
       "      <td>28</td>\n",
       "      <td>18</td>\n",
       "      <td>3916</td>\n",
       "      <td>29450</td>\n",
       "    </tr>\n",
       "    <tr>\n",
       "      <th>4</th>\n",
       "      <td>BMW</td>\n",
       "      <td>1 Series</td>\n",
       "      <td>2011</td>\n",
       "      <td>premium unleaded (required)</td>\n",
       "      <td>230.0</td>\n",
       "      <td>6.0</td>\n",
       "      <td>MANUAL</td>\n",
       "      <td>rear wheel drive</td>\n",
       "      <td>2.0</td>\n",
       "      <td>Luxury</td>\n",
       "      <td>Compact</td>\n",
       "      <td>Convertible</td>\n",
       "      <td>28</td>\n",
       "      <td>18</td>\n",
       "      <td>3916</td>\n",
       "      <td>34500</td>\n",
       "    </tr>\n",
       "  </tbody>\n",
       "</table>\n",
       "</div>"
      ],
      "text/plain": [
       "  Make       Model  Year             Engine Fuel Type  Engine HP  \\\n",
       "0  BMW  1 Series M  2011  premium unleaded (required)      335.0   \n",
       "1  BMW    1 Series  2011  premium unleaded (required)      300.0   \n",
       "2  BMW    1 Series  2011  premium unleaded (required)      300.0   \n",
       "3  BMW    1 Series  2011  premium unleaded (required)      230.0   \n",
       "4  BMW    1 Series  2011  premium unleaded (required)      230.0   \n",
       "\n",
       "   Engine Cylinders Transmission Type     Driven_Wheels  Number of Doors  \\\n",
       "0               6.0            MANUAL  rear wheel drive              2.0   \n",
       "1               6.0            MANUAL  rear wheel drive              2.0   \n",
       "2               6.0            MANUAL  rear wheel drive              2.0   \n",
       "3               6.0            MANUAL  rear wheel drive              2.0   \n",
       "4               6.0            MANUAL  rear wheel drive              2.0   \n",
       "\n",
       "                         Market Category Vehicle Size Vehicle Style  \\\n",
       "0  Factory Tuner,Luxury,High-Performance      Compact         Coupe   \n",
       "1                     Luxury,Performance      Compact   Convertible   \n",
       "2                Luxury,High-Performance      Compact         Coupe   \n",
       "3                     Luxury,Performance      Compact         Coupe   \n",
       "4                                 Luxury      Compact   Convertible   \n",
       "\n",
       "   highway MPG  city mpg  Popularity   MSRP  \n",
       "0           26        19        3916  46135  \n",
       "1           28        19        3916  40650  \n",
       "2           28        20        3916  36350  \n",
       "3           28        18        3916  29450  \n",
       "4           28        18        3916  34500  "
      ]
     },
     "execution_count": 15,
     "metadata": {},
     "output_type": "execute_result"
    }
   ],
   "source": [
    "df = pd.read_csv('data.csv')\n",
    "df.head()"
   ]
  },
  {
   "cell_type": "markdown",
   "metadata": {},
   "source": [
    "### PRE-PROCESS WORDS"
   ]
  },
  {
   "cell_type": "markdown",
   "metadata": {},
   "source": [
    "- Cleaning \n",
    "    - Removing the missing values;\n",
    "    - Lemmatizing;\n",
    "    - Removing the stopwords;\n",
    "    - Removes non-alphabetic characters: regular expression;\n",
    "    - Bigrams: We can use Gensim Phrases package to automatically detect common phrases (bigrams) from a list of sentences. https://radimrehurek.com/gensim/models/phrases.html\n",
    "\n",
    "         ```python\n",
    "         from gensim.models.phrases import Phrases, Phraser\n",
    "         ```\n",
    "         - As Phrases() takes a list of list of words as input:\n",
    "        ```python\n",
    "        sent = [row.split() for row in df_clean['clean']]\n",
    "        ```\n"
   ]
  },
  {
   "cell_type": "markdown",
   "metadata": {},
   "source": [
    "Since the purpose of this tutorial is to learn how to generate word embeddings using genism library, I will not do the EDA and feature selection for the word2vec model for the sake of simplicity. \n",
    "<br> \n",
    "Genism word2Vec requires that a format of list of list for training where every document is contained in a list and every list contains list of tokens of that document. At first, we need to generate a format of list of list for training the make model word embedding. To be more specific, each make model is contained in a list and every list contains list of features of that make model.\n",
    "\n",
    "To achieve these, we need to do the following data preprocessing steps:\n",
    "\n",
    "1. Create a new column for Make Model \n",
    "2. Generate a format of list of list for each Make Model with the following features: Engine Fuel Type, Transmission Type, Driven_Wheels, Market Category, Vehicle Size and Vehicle Style. \n"
   ]
  },
  {
   "cell_type": "markdown",
   "metadata": {},
   "source": [
    "1. Create a new column for Make Model"
   ]
  },
  {
   "cell_type": "code",
   "execution_count": 16,
   "metadata": {},
   "outputs": [],
   "source": [
    "df['Maker_Model']= df['Make']+ \" \" + df['Model']"
   ]
  },
  {
   "cell_type": "markdown",
   "metadata": {},
   "source": [
    "2. Generate a format of list of list for each Make Model "
   ]
  },
  {
   "cell_type": "code",
   "execution_count": 17,
   "metadata": {},
   "outputs": [
    {
     "data": {
      "text/html": [
       "<div>\n",
       "<style scoped>\n",
       "    .dataframe tbody tr th:only-of-type {\n",
       "        vertical-align: middle;\n",
       "    }\n",
       "\n",
       "    .dataframe tbody tr th {\n",
       "        vertical-align: top;\n",
       "    }\n",
       "\n",
       "    .dataframe thead th {\n",
       "        text-align: right;\n",
       "    }\n",
       "</style>\n",
       "<table border=\"1\" class=\"dataframe\">\n",
       "  <thead>\n",
       "    <tr style=\"text-align: right;\">\n",
       "      <th></th>\n",
       "      <th>Make</th>\n",
       "      <th>Model</th>\n",
       "      <th>Year</th>\n",
       "      <th>Engine Fuel Type</th>\n",
       "      <th>Engine HP</th>\n",
       "      <th>Engine Cylinders</th>\n",
       "      <th>Transmission Type</th>\n",
       "      <th>Driven_Wheels</th>\n",
       "      <th>Number of Doors</th>\n",
       "      <th>Market Category</th>\n",
       "      <th>Vehicle Size</th>\n",
       "      <th>Vehicle Style</th>\n",
       "      <th>highway MPG</th>\n",
       "      <th>city mpg</th>\n",
       "      <th>Popularity</th>\n",
       "      <th>MSRP</th>\n",
       "      <th>Maker_Model</th>\n",
       "    </tr>\n",
       "  </thead>\n",
       "  <tbody>\n",
       "    <tr>\n",
       "      <th>0</th>\n",
       "      <td>BMW</td>\n",
       "      <td>1 Series M</td>\n",
       "      <td>2011</td>\n",
       "      <td>premium unleaded (required)</td>\n",
       "      <td>335.0</td>\n",
       "      <td>6.0</td>\n",
       "      <td>MANUAL</td>\n",
       "      <td>rear wheel drive</td>\n",
       "      <td>2.0</td>\n",
       "      <td>Factory Tuner,Luxury,High-Performance</td>\n",
       "      <td>Compact</td>\n",
       "      <td>Coupe</td>\n",
       "      <td>26</td>\n",
       "      <td>19</td>\n",
       "      <td>3916</td>\n",
       "      <td>46135</td>\n",
       "      <td>BMW 1 Series M</td>\n",
       "    </tr>\n",
       "    <tr>\n",
       "      <th>1</th>\n",
       "      <td>BMW</td>\n",
       "      <td>1 Series</td>\n",
       "      <td>2011</td>\n",
       "      <td>premium unleaded (required)</td>\n",
       "      <td>300.0</td>\n",
       "      <td>6.0</td>\n",
       "      <td>MANUAL</td>\n",
       "      <td>rear wheel drive</td>\n",
       "      <td>2.0</td>\n",
       "      <td>Luxury,Performance</td>\n",
       "      <td>Compact</td>\n",
       "      <td>Convertible</td>\n",
       "      <td>28</td>\n",
       "      <td>19</td>\n",
       "      <td>3916</td>\n",
       "      <td>40650</td>\n",
       "      <td>BMW 1 Series</td>\n",
       "    </tr>\n",
       "    <tr>\n",
       "      <th>2</th>\n",
       "      <td>BMW</td>\n",
       "      <td>1 Series</td>\n",
       "      <td>2011</td>\n",
       "      <td>premium unleaded (required)</td>\n",
       "      <td>300.0</td>\n",
       "      <td>6.0</td>\n",
       "      <td>MANUAL</td>\n",
       "      <td>rear wheel drive</td>\n",
       "      <td>2.0</td>\n",
       "      <td>Luxury,High-Performance</td>\n",
       "      <td>Compact</td>\n",
       "      <td>Coupe</td>\n",
       "      <td>28</td>\n",
       "      <td>20</td>\n",
       "      <td>3916</td>\n",
       "      <td>36350</td>\n",
       "      <td>BMW 1 Series</td>\n",
       "    </tr>\n",
       "    <tr>\n",
       "      <th>3</th>\n",
       "      <td>BMW</td>\n",
       "      <td>1 Series</td>\n",
       "      <td>2011</td>\n",
       "      <td>premium unleaded (required)</td>\n",
       "      <td>230.0</td>\n",
       "      <td>6.0</td>\n",
       "      <td>MANUAL</td>\n",
       "      <td>rear wheel drive</td>\n",
       "      <td>2.0</td>\n",
       "      <td>Luxury,Performance</td>\n",
       "      <td>Compact</td>\n",
       "      <td>Coupe</td>\n",
       "      <td>28</td>\n",
       "      <td>18</td>\n",
       "      <td>3916</td>\n",
       "      <td>29450</td>\n",
       "      <td>BMW 1 Series</td>\n",
       "    </tr>\n",
       "    <tr>\n",
       "      <th>4</th>\n",
       "      <td>BMW</td>\n",
       "      <td>1 Series</td>\n",
       "      <td>2011</td>\n",
       "      <td>premium unleaded (required)</td>\n",
       "      <td>230.0</td>\n",
       "      <td>6.0</td>\n",
       "      <td>MANUAL</td>\n",
       "      <td>rear wheel drive</td>\n",
       "      <td>2.0</td>\n",
       "      <td>Luxury</td>\n",
       "      <td>Compact</td>\n",
       "      <td>Convertible</td>\n",
       "      <td>28</td>\n",
       "      <td>18</td>\n",
       "      <td>3916</td>\n",
       "      <td>34500</td>\n",
       "      <td>BMW 1 Series</td>\n",
       "    </tr>\n",
       "  </tbody>\n",
       "</table>\n",
       "</div>"
      ],
      "text/plain": [
       "  Make       Model  Year             Engine Fuel Type  Engine HP  \\\n",
       "0  BMW  1 Series M  2011  premium unleaded (required)      335.0   \n",
       "1  BMW    1 Series  2011  premium unleaded (required)      300.0   \n",
       "2  BMW    1 Series  2011  premium unleaded (required)      300.0   \n",
       "3  BMW    1 Series  2011  premium unleaded (required)      230.0   \n",
       "4  BMW    1 Series  2011  premium unleaded (required)      230.0   \n",
       "\n",
       "   Engine Cylinders Transmission Type     Driven_Wheels  Number of Doors  \\\n",
       "0               6.0            MANUAL  rear wheel drive              2.0   \n",
       "1               6.0            MANUAL  rear wheel drive              2.0   \n",
       "2               6.0            MANUAL  rear wheel drive              2.0   \n",
       "3               6.0            MANUAL  rear wheel drive              2.0   \n",
       "4               6.0            MANUAL  rear wheel drive              2.0   \n",
       "\n",
       "                         Market Category Vehicle Size Vehicle Style  \\\n",
       "0  Factory Tuner,Luxury,High-Performance      Compact         Coupe   \n",
       "1                     Luxury,Performance      Compact   Convertible   \n",
       "2                Luxury,High-Performance      Compact         Coupe   \n",
       "3                     Luxury,Performance      Compact         Coupe   \n",
       "4                                 Luxury      Compact   Convertible   \n",
       "\n",
       "   highway MPG  city mpg  Popularity   MSRP     Maker_Model  \n",
       "0           26        19        3916  46135  BMW 1 Series M  \n",
       "1           28        19        3916  40650    BMW 1 Series  \n",
       "2           28        20        3916  36350    BMW 1 Series  \n",
       "3           28        18        3916  29450    BMW 1 Series  \n",
       "4           28        18        3916  34500    BMW 1 Series  "
      ]
     },
     "execution_count": 17,
     "metadata": {},
     "output_type": "execute_result"
    }
   ],
   "source": [
    "df.head()"
   ]
  },
  {
   "cell_type": "code",
   "execution_count": 18,
   "metadata": {},
   "outputs": [
    {
     "data": {
      "text/html": [
       "<div>\n",
       "<style scoped>\n",
       "    .dataframe tbody tr th:only-of-type {\n",
       "        vertical-align: middle;\n",
       "    }\n",
       "\n",
       "    .dataframe tbody tr th {\n",
       "        vertical-align: top;\n",
       "    }\n",
       "\n",
       "    .dataframe thead th {\n",
       "        text-align: right;\n",
       "    }\n",
       "</style>\n",
       "<table border=\"1\" class=\"dataframe\">\n",
       "  <thead>\n",
       "    <tr style=\"text-align: right;\">\n",
       "      <th></th>\n",
       "      <th>Engine Fuel Type</th>\n",
       "      <th>Transmission Type</th>\n",
       "      <th>Driven_Wheels</th>\n",
       "      <th>Market Category</th>\n",
       "      <th>Vehicle Size</th>\n",
       "      <th>Vehicle Style</th>\n",
       "      <th>Maker_Model</th>\n",
       "    </tr>\n",
       "  </thead>\n",
       "  <tbody>\n",
       "    <tr>\n",
       "      <th>0</th>\n",
       "      <td>premium unleaded (required)</td>\n",
       "      <td>MANUAL</td>\n",
       "      <td>rear wheel drive</td>\n",
       "      <td>Factory Tuner,Luxury,High-Performance</td>\n",
       "      <td>Compact</td>\n",
       "      <td>Coupe</td>\n",
       "      <td>BMW 1 Series M</td>\n",
       "    </tr>\n",
       "    <tr>\n",
       "      <th>1</th>\n",
       "      <td>premium unleaded (required)</td>\n",
       "      <td>MANUAL</td>\n",
       "      <td>rear wheel drive</td>\n",
       "      <td>Luxury,Performance</td>\n",
       "      <td>Compact</td>\n",
       "      <td>Convertible</td>\n",
       "      <td>BMW 1 Series</td>\n",
       "    </tr>\n",
       "    <tr>\n",
       "      <th>2</th>\n",
       "      <td>premium unleaded (required)</td>\n",
       "      <td>MANUAL</td>\n",
       "      <td>rear wheel drive</td>\n",
       "      <td>Luxury,High-Performance</td>\n",
       "      <td>Compact</td>\n",
       "      <td>Coupe</td>\n",
       "      <td>BMW 1 Series</td>\n",
       "    </tr>\n",
       "    <tr>\n",
       "      <th>3</th>\n",
       "      <td>premium unleaded (required)</td>\n",
       "      <td>MANUAL</td>\n",
       "      <td>rear wheel drive</td>\n",
       "      <td>Luxury,Performance</td>\n",
       "      <td>Compact</td>\n",
       "      <td>Coupe</td>\n",
       "      <td>BMW 1 Series</td>\n",
       "    </tr>\n",
       "    <tr>\n",
       "      <th>4</th>\n",
       "      <td>premium unleaded (required)</td>\n",
       "      <td>MANUAL</td>\n",
       "      <td>rear wheel drive</td>\n",
       "      <td>Luxury</td>\n",
       "      <td>Compact</td>\n",
       "      <td>Convertible</td>\n",
       "      <td>BMW 1 Series</td>\n",
       "    </tr>\n",
       "    <tr>\n",
       "      <th>...</th>\n",
       "      <td>...</td>\n",
       "      <td>...</td>\n",
       "      <td>...</td>\n",
       "      <td>...</td>\n",
       "      <td>...</td>\n",
       "      <td>...</td>\n",
       "      <td>...</td>\n",
       "    </tr>\n",
       "    <tr>\n",
       "      <th>11909</th>\n",
       "      <td>premium unleaded (required)</td>\n",
       "      <td>AUTOMATIC</td>\n",
       "      <td>all wheel drive</td>\n",
       "      <td>Crossover,Hatchback,Luxury</td>\n",
       "      <td>Midsize</td>\n",
       "      <td>4dr Hatchback</td>\n",
       "      <td>Acura ZDX</td>\n",
       "    </tr>\n",
       "    <tr>\n",
       "      <th>11910</th>\n",
       "      <td>premium unleaded (required)</td>\n",
       "      <td>AUTOMATIC</td>\n",
       "      <td>all wheel drive</td>\n",
       "      <td>Crossover,Hatchback,Luxury</td>\n",
       "      <td>Midsize</td>\n",
       "      <td>4dr Hatchback</td>\n",
       "      <td>Acura ZDX</td>\n",
       "    </tr>\n",
       "    <tr>\n",
       "      <th>11911</th>\n",
       "      <td>premium unleaded (required)</td>\n",
       "      <td>AUTOMATIC</td>\n",
       "      <td>all wheel drive</td>\n",
       "      <td>Crossover,Hatchback,Luxury</td>\n",
       "      <td>Midsize</td>\n",
       "      <td>4dr Hatchback</td>\n",
       "      <td>Acura ZDX</td>\n",
       "    </tr>\n",
       "    <tr>\n",
       "      <th>11912</th>\n",
       "      <td>premium unleaded (recommended)</td>\n",
       "      <td>AUTOMATIC</td>\n",
       "      <td>all wheel drive</td>\n",
       "      <td>Crossover,Hatchback,Luxury</td>\n",
       "      <td>Midsize</td>\n",
       "      <td>4dr Hatchback</td>\n",
       "      <td>Acura ZDX</td>\n",
       "    </tr>\n",
       "    <tr>\n",
       "      <th>11913</th>\n",
       "      <td>regular unleaded</td>\n",
       "      <td>AUTOMATIC</td>\n",
       "      <td>front wheel drive</td>\n",
       "      <td>Luxury</td>\n",
       "      <td>Midsize</td>\n",
       "      <td>Sedan</td>\n",
       "      <td>Lincoln Zephyr</td>\n",
       "    </tr>\n",
       "  </tbody>\n",
       "</table>\n",
       "<p>11914 rows × 7 columns</p>\n",
       "</div>"
      ],
      "text/plain": [
       "                     Engine Fuel Type Transmission Type      Driven_Wheels  \\\n",
       "0         premium unleaded (required)            MANUAL   rear wheel drive   \n",
       "1         premium unleaded (required)            MANUAL   rear wheel drive   \n",
       "2         premium unleaded (required)            MANUAL   rear wheel drive   \n",
       "3         premium unleaded (required)            MANUAL   rear wheel drive   \n",
       "4         premium unleaded (required)            MANUAL   rear wheel drive   \n",
       "...                               ...               ...                ...   \n",
       "11909     premium unleaded (required)         AUTOMATIC    all wheel drive   \n",
       "11910     premium unleaded (required)         AUTOMATIC    all wheel drive   \n",
       "11911     premium unleaded (required)         AUTOMATIC    all wheel drive   \n",
       "11912  premium unleaded (recommended)         AUTOMATIC    all wheel drive   \n",
       "11913                regular unleaded         AUTOMATIC  front wheel drive   \n",
       "\n",
       "                             Market Category Vehicle Size  Vehicle Style  \\\n",
       "0      Factory Tuner,Luxury,High-Performance      Compact          Coupe   \n",
       "1                         Luxury,Performance      Compact    Convertible   \n",
       "2                    Luxury,High-Performance      Compact          Coupe   \n",
       "3                         Luxury,Performance      Compact          Coupe   \n",
       "4                                     Luxury      Compact    Convertible   \n",
       "...                                      ...          ...            ...   \n",
       "11909             Crossover,Hatchback,Luxury      Midsize  4dr Hatchback   \n",
       "11910             Crossover,Hatchback,Luxury      Midsize  4dr Hatchback   \n",
       "11911             Crossover,Hatchback,Luxury      Midsize  4dr Hatchback   \n",
       "11912             Crossover,Hatchback,Luxury      Midsize  4dr Hatchback   \n",
       "11913                                 Luxury      Midsize          Sedan   \n",
       "\n",
       "          Maker_Model  \n",
       "0      BMW 1 Series M  \n",
       "1        BMW 1 Series  \n",
       "2        BMW 1 Series  \n",
       "3        BMW 1 Series  \n",
       "4        BMW 1 Series  \n",
       "...               ...  \n",
       "11909       Acura ZDX  \n",
       "11910       Acura ZDX  \n",
       "11911       Acura ZDX  \n",
       "11912       Acura ZDX  \n",
       "11913  Lincoln Zephyr  \n",
       "\n",
       "[11914 rows x 7 columns]"
      ]
     },
     "execution_count": 18,
     "metadata": {},
     "output_type": "execute_result"
    }
   ],
   "source": [
    "# Select features from original dataset to form a new dataframe \n",
    "df1 = df[['Engine Fuel Type','Transmission Type','Driven_Wheels','Market Category',\n",
    "          'Vehicle Size', 'Vehicle Style', 'Maker_Model']]\n",
    "df1"
   ]
  },
  {
   "cell_type": "code",
   "execution_count": 19,
   "metadata": {},
   "outputs": [
    {
     "data": {
      "text/plain": [
       "0        premium unleaded (required),MANUAL,rear wheel ...\n",
       "1        premium unleaded (required),MANUAL,rear wheel ...\n",
       "2        premium unleaded (required),MANUAL,rear wheel ...\n",
       "3        premium unleaded (required),MANUAL,rear wheel ...\n",
       "4        premium unleaded (required),MANUAL,rear wheel ...\n",
       "                               ...                        \n",
       "11909    premium unleaded (required),AUTOMATIC,all whee...\n",
       "11910    premium unleaded (required),AUTOMATIC,all whee...\n",
       "11911    premium unleaded (required),AUTOMATIC,all whee...\n",
       "11912    premium unleaded (recommended),AUTOMATIC,all w...\n",
       "11913    regular unleaded,AUTOMATIC,front wheel drive,L...\n",
       "Length: 11914, dtype: object"
      ]
     },
     "execution_count": 19,
     "metadata": {},
     "output_type": "execute_result"
    }
   ],
   "source": [
    "# For each row, combine all the columns into one column\n",
    "df2 = df1.apply(lambda x: ','.join(x.astype(str)), axis=1) \n",
    "df2"
   ]
  },
  {
   "cell_type": "code",
   "execution_count": 20,
   "metadata": {},
   "outputs": [
    {
     "data": {
      "text/html": [
       "<div>\n",
       "<style scoped>\n",
       "    .dataframe tbody tr th:only-of-type {\n",
       "        vertical-align: middle;\n",
       "    }\n",
       "\n",
       "    .dataframe tbody tr th {\n",
       "        vertical-align: top;\n",
       "    }\n",
       "\n",
       "    .dataframe thead th {\n",
       "        text-align: right;\n",
       "    }\n",
       "</style>\n",
       "<table border=\"1\" class=\"dataframe\">\n",
       "  <thead>\n",
       "    <tr style=\"text-align: right;\">\n",
       "      <th></th>\n",
       "      <th>clean</th>\n",
       "    </tr>\n",
       "  </thead>\n",
       "  <tbody>\n",
       "    <tr>\n",
       "      <th>0</th>\n",
       "      <td>premium unleaded (required),MANUAL,rear wheel ...</td>\n",
       "    </tr>\n",
       "    <tr>\n",
       "      <th>1</th>\n",
       "      <td>premium unleaded (required),MANUAL,rear wheel ...</td>\n",
       "    </tr>\n",
       "    <tr>\n",
       "      <th>2</th>\n",
       "      <td>premium unleaded (required),MANUAL,rear wheel ...</td>\n",
       "    </tr>\n",
       "    <tr>\n",
       "      <th>3</th>\n",
       "      <td>premium unleaded (required),MANUAL,rear wheel ...</td>\n",
       "    </tr>\n",
       "    <tr>\n",
       "      <th>4</th>\n",
       "      <td>premium unleaded (required),MANUAL,rear wheel ...</td>\n",
       "    </tr>\n",
       "    <tr>\n",
       "      <th>...</th>\n",
       "      <td>...</td>\n",
       "    </tr>\n",
       "    <tr>\n",
       "      <th>11909</th>\n",
       "      <td>premium unleaded (required),AUTOMATIC,all whee...</td>\n",
       "    </tr>\n",
       "    <tr>\n",
       "      <th>11910</th>\n",
       "      <td>premium unleaded (required),AUTOMATIC,all whee...</td>\n",
       "    </tr>\n",
       "    <tr>\n",
       "      <th>11911</th>\n",
       "      <td>premium unleaded (required),AUTOMATIC,all whee...</td>\n",
       "    </tr>\n",
       "    <tr>\n",
       "      <th>11912</th>\n",
       "      <td>premium unleaded (recommended),AUTOMATIC,all w...</td>\n",
       "    </tr>\n",
       "    <tr>\n",
       "      <th>11913</th>\n",
       "      <td>regular unleaded,AUTOMATIC,front wheel drive,L...</td>\n",
       "    </tr>\n",
       "  </tbody>\n",
       "</table>\n",
       "<p>11914 rows × 1 columns</p>\n",
       "</div>"
      ],
      "text/plain": [
       "                                                   clean\n",
       "0      premium unleaded (required),MANUAL,rear wheel ...\n",
       "1      premium unleaded (required),MANUAL,rear wheel ...\n",
       "2      premium unleaded (required),MANUAL,rear wheel ...\n",
       "3      premium unleaded (required),MANUAL,rear wheel ...\n",
       "4      premium unleaded (required),MANUAL,rear wheel ...\n",
       "...                                                  ...\n",
       "11909  premium unleaded (required),AUTOMATIC,all whee...\n",
       "11910  premium unleaded (required),AUTOMATIC,all whee...\n",
       "11911  premium unleaded (required),AUTOMATIC,all whee...\n",
       "11912  premium unleaded (recommended),AUTOMATIC,all w...\n",
       "11913  regular unleaded,AUTOMATIC,front wheel drive,L...\n",
       "\n",
       "[11914 rows x 1 columns]"
      ]
     },
     "execution_count": 20,
     "metadata": {},
     "output_type": "execute_result"
    }
   ],
   "source": [
    "# Store them in the pandas dataframe\n",
    "df_clean = pd.DataFrame({'clean': df2}) \n",
    "\n",
    "df_clean"
   ]
  },
  {
   "cell_type": "code",
   "execution_count": 21,
   "metadata": {},
   "outputs": [
    {
     "data": {
      "text/plain": [
       "'premium unleaded (required),MANUAL,rear wheel drive,Factory Tuner,Luxury,High-Performance,Compact,Coupe,BMW 1 Series M'"
      ]
     },
     "execution_count": 21,
     "metadata": {},
     "output_type": "execute_result"
    }
   ],
   "source": [
    "df_clean['clean'][0]"
   ]
  },
  {
   "cell_type": "code",
   "execution_count": 22,
   "metadata": {},
   "outputs": [
    {
     "data": {
      "text/plain": [
       "[['premium unleaded (required)',\n",
       "  'MANUAL',\n",
       "  'rear wheel drive',\n",
       "  'Factory Tuner',\n",
       "  'Luxury',\n",
       "  'High-Performance',\n",
       "  'Compact',\n",
       "  'Coupe',\n",
       "  'BMW 1 Series M'],\n",
       " ['premium unleaded (required)',\n",
       "  'MANUAL',\n",
       "  'rear wheel drive',\n",
       "  'Luxury',\n",
       "  'Performance',\n",
       "  'Compact',\n",
       "  'Convertible',\n",
       "  'BMW 1 Series']]"
      ]
     },
     "execution_count": 22,
     "metadata": {},
     "output_type": "execute_result"
    }
   ],
   "source": [
    "# Create the list of list format of the custom corpus for gensim modeling \n",
    "sent = [row.split(',') for row in df_clean['clean']]\n",
    "# show the example of list of list format of the custom corpus for gensim modeling \n",
    "sent[:2] "
   ]
  },
  {
   "cell_type": "code",
   "execution_count": 23,
   "metadata": {},
   "outputs": [
    {
     "data": {
      "text/plain": [
       "11914"
      ]
     },
     "execution_count": 23,
     "metadata": {},
     "output_type": "execute_result"
    }
   ],
   "source": [
    "len(sent)"
   ]
  },
  {
   "cell_type": "markdown",
   "metadata": {},
   "source": [
    "### Genism word2vec Model Training "
   ]
  },
  {
   "cell_type": "code",
   "execution_count": 24,
   "metadata": {},
   "outputs": [],
   "source": [
    "## Train the genisim word2vec model with our own custom corpus\n",
    "model_2 = Word2Vec(sent, min_count=1, vector_size= 50, workers=3, window =3, sg = 1)"
   ]
  },
  {
   "cell_type": "code",
   "execution_count": 25,
   "metadata": {},
   "outputs": [
    {
     "data": {
      "text/plain": [
       "array([-0.07717654, -0.02643459,  0.0199979 ,  0.02855057, -0.0854785 ,\n",
       "       -0.26071587, -0.14208136,  0.28646317,  0.00552344, -0.16883259,\n",
       "        0.20747536,  0.06550636, -0.08104827, -0.03091119,  0.06177012,\n",
       "        0.19025967,  0.17927425,  0.10032885, -0.01486059, -0.32199928,\n",
       "       -0.04784615, -0.0097861 ,  0.27296683, -0.02010188,  0.23374657,\n",
       "       -0.00518602, -0.20565544,  0.3848557 ,  0.06145772, -0.20398317,\n",
       "       -0.13880561,  0.11313042, -0.06206331,  0.17737249,  0.01881498,\n",
       "       -0.09174283,  0.1530068 ,  0.02876766,  0.13364555,  0.18137018,\n",
       "        0.07175879,  0.08970671, -0.27052668,  0.03363407,  0.24964872,\n",
       "        0.03350701, -0.09936708,  0.00097246,  0.04426568,  0.1787854 ],\n",
       "      dtype=float32)"
      ]
     },
     "execution_count": 25,
     "metadata": {},
     "output_type": "execute_result"
    }
   ],
   "source": [
    "## We can obtain the word embedding directly from the training model\n",
    "model_2.wv['BMW 1 Series']"
   ]
  },
  {
   "cell_type": "markdown",
   "metadata": {},
   "source": [
    "### Compare Similarities "
   ]
  },
  {
   "cell_type": "markdown",
   "metadata": {},
   "source": [
    "Now we could even use Word2vec to compute similarity between two make model in the vocabulary by invoking the model.similarity() and passing in the relvevant words. For instance,  model.similarity('Porsche 718 Cayman', 'Nissan Van') This will give us the Euclidian similarity between Porsche 718 Cayman and Nissan Van. "
   ]
  },
  {
   "cell_type": "code",
   "execution_count": 26,
   "metadata": {},
   "outputs": [
    {
     "data": {
      "text/plain": [
       "0.8304435"
      ]
     },
     "execution_count": 26,
     "metadata": {},
     "output_type": "execute_result"
    }
   ],
   "source": [
    "model_2.wv.similarity('Porsche 718 Cayman', 'Nissan Van')"
   ]
  },
  {
   "cell_type": "code",
   "execution_count": 27,
   "metadata": {},
   "outputs": [
    {
     "data": {
      "text/plain": [
       "0.91346014"
      ]
     },
     "execution_count": 27,
     "metadata": {},
     "output_type": "execute_result"
    }
   ],
   "source": [
    "model_2.wv.similarity('Porsche 718 Cayman', 'Mercedes-Benz SLK-Class')"
   ]
  },
  {
   "cell_type": "markdown",
   "metadata": {},
   "source": [
    "From the above example, we can tell that Porsche 718 Cayman is more similar with Mercedes-Benz SLK-Class than Nissan Van. We also can use the build in function model.most_similar() to get a set of the most similar make models for a given make model."
   ]
  },
  {
   "cell_type": "code",
   "execution_count": 28,
   "metadata": {},
   "outputs": [
    {
     "data": {
      "text/plain": [
       "[('Audi S3', 0.9917572736740112),\n",
       " ('Lamborghini Huracan', 0.9901747107505798),\n",
       " ('Nissan GT-R', 0.989833652973175),\n",
       " ('Audi RS 5', 0.9889529943466187),\n",
       " ('Ford Shelby GT500', 0.988299548625946)]"
      ]
     },
     "execution_count": 28,
     "metadata": {},
     "output_type": "execute_result"
    }
   ],
   "source": [
    "## Show the most similar vehicles for Mercedes-Benz SLK-Class : Default by eculidean distance \n",
    "model_2.wv.most_similar('Mercedes-Benz SLK-Class')[:5]"
   ]
  },
  {
   "cell_type": "code",
   "execution_count": 29,
   "metadata": {},
   "outputs": [
    {
     "data": {
      "text/plain": [
       "[('Kia Optima', 0.9839407801628113),\n",
       " ('Oldsmobile Alero', 0.9838610291481018),\n",
       " ('Ford Five Hundred', 0.9834837317466736),\n",
       " ('Oldsmobile Cutlass Ciera', 0.9826797842979431),\n",
       " ('Oldsmobile Intrigue', 0.9824801683425903)]"
      ]
     },
     "execution_count": 29,
     "metadata": {},
     "output_type": "execute_result"
    }
   ],
   "source": [
    "## Show the most similar vehicles for Toyota Camry : Default by eculidean distance \n",
    "model_2.wv.most_similar('Toyota Camry')[:5]"
   ]
  },
  {
   "cell_type": "markdown",
   "metadata": {},
   "source": [
    "However, Euclidian similarity cannot work well for the high-dimensional word vectors, This is because Euclidian similarity will increase as the number of dimensions increases even if the word embedding stands for different meanings. Alternatively, we can use cosine similarity to measure the similarity between two vectors.  \n",
    "\n",
    "For Vector $A$ and $B$, the dot product is given by $ A \\cdot B = \\|A\\| \\|B\\| \\cos(\\theta)$\n",
    "\n",
    "The cosine similarity is given by $ \\cos(\\theta) = \\frac{A \\cdot B}{\\|A\\| \\|B\\|} $"
   ]
  },
  {
   "cell_type": "markdown",
   "metadata": {},
   "source": [
    "Cosine similarity measures the cosine of the angle between two vectors projected in a multi-dimensional space. Therefore, the cosine similarity captures the angle of the word vectors and not the magnitude. Under cosine similarity, no similarity is expressed as a 90-degree angle while the total similarity of 1 is at 0 degree \n",
    "angle. The following function shows how can we generate the most similar make model based on cosine similarity."
   ]
  },
  {
   "cell_type": "code",
   "execution_count": 30,
   "metadata": {},
   "outputs": [],
   "source": [
    "from numpy import dot\n",
    "from numpy.linalg import norm\n",
    "\n",
    "def cosine_distance (model, word,target_list , num) :\n",
    "    cosine_dict ={}\n",
    "    word_list = []\n",
    "    a = model.wv[word]\n",
    "    \n",
    "    for item in target_list :\n",
    "        if item != word :\n",
    "            b = model.wv[item]\n",
    "            cos_sim = dot(a, b)/(norm(a)*norm(b))\n",
    "            cosine_dict[item] = cos_sim\n",
    "    dist_sort=sorted(cosine_dict.items(), key=lambda dist: dist[1],reverse = True) ## in Descedning order \n",
    "    \n",
    "    for item in dist_sort:\n",
    "        word_list.append((item[0], item[1]))\n",
    "    \n",
    "    return word_list[0:num]"
   ]
  },
  {
   "cell_type": "code",
   "execution_count": 31,
   "metadata": {},
   "outputs": [
    {
     "data": {
      "text/plain": [
       "[('Audi S3', 0.9917574),\n",
       " ('Lamborghini Huracan', 0.99017465),\n",
       " ('Nissan GT-R', 0.98983365),\n",
       " ('Audi RS 5', 0.988953),\n",
       " ('Ford Shelby GT500', 0.9882995)]"
      ]
     },
     "execution_count": 31,
     "metadata": {},
     "output_type": "execute_result"
    }
   ],
   "source": [
    "Maker_Model = list(df.Maker_Model.unique()) ## only get the unique Maker_Model_Year\n",
    "\n",
    "## Show the most similar Mercedes-Benz SLK-Class by cosine distance \n",
    "cosine_distance(model_2,'Mercedes-Benz SLK-Class',Maker_Model,5) "
   ]
  },
  {
   "cell_type": "code",
   "execution_count": 32,
   "metadata": {},
   "outputs": [
    {
     "data": {
      "text/plain": [
       "[('Audi S3', 0.9917572736740112),\n",
       " ('Lamborghini Huracan', 0.9901747107505798),\n",
       " ('Nissan GT-R', 0.989833652973175),\n",
       " ('Audi RS 5', 0.9889529943466187),\n",
       " ('Ford Shelby GT500', 0.988299548625946)]"
      ]
     },
     "execution_count": 32,
     "metadata": {},
     "output_type": "execute_result"
    }
   ],
   "source": [
    "model_2.wv.most_similar('Mercedes-Benz SLK-Class')[:5]"
   ]
  },
  {
   "cell_type": "markdown",
   "metadata": {},
   "source": [
    "### T-SNE Plot"
   ]
  },
  {
   "cell_type": "markdown",
   "metadata": {},
   "source": [
    "It’s hard to visualize the word embedding directly, for they usually has more than 3 dimensions. T-SNE is an useful tool to visualize high-dimensional data by reducing dimensional space while keeping relative pairwise distance between points. It can be said that t-SNE looking for a new data representation where the neighborhood relations are preserved. In this tutorial, I used TSNE package from scikit-learn library. The following code showed how to plot the word embedding with T-SNE plot. "
   ]
  },
  {
   "cell_type": "code",
   "execution_count": 85,
   "metadata": {},
   "outputs": [],
   "source": [
    "from sklearn.manifold import TSNE\n",
    "\n",
    "import matplotlib.pyplot as plt\n",
    "%matplotlib notebook\n",
    "import seaborn as sns\n",
    "\n",
    "def display_closestwords_tsnescatterplot(model, word, size):\n",
    "    \n",
    "    arr = np.empty((0,size), dtype='f')\n",
    "    word_labels = [word]\n",
    "\n",
    "    close_words = model.wv.most_similar(word)\n",
    "\n",
    "    arr = np.append(arr, np.array([model.wv[word]]), axis=0)\n",
    "    \n",
    "    for wrd_score in close_words:\n",
    "        wrd_vector = model.wv[wrd_score[0]]\n",
    "        word_labels.append(wrd_score[0])\n",
    "        arr = np.append(arr, np.array([wrd_vector]), axis=0)\n",
    "        \n",
    "    tsne = TSNE(n_components=2, perplexity = 10, random_state=0)\n",
    "    np.set_printoptions(suppress=True)\n",
    "    Y = tsne.fit_transform(arr)\n",
    "\n",
    "    x_coords = Y[:, 0]\n",
    "    y_coords = Y[:, 1]\n",
    "    plt.scatter(x_coords, y_coords)\n",
    "\n",
    "    for label, x, y in zip(word_labels, x_coords, y_coords):\n",
    "        plt.annotate(label, xy=(x, y), xytext=(0, 0), textcoords='offset points')\n",
    "    plt.xlim(x_coords.min()+1, x_coords.max()+1)\n",
    "    plt.ylim(y_coords.min()+1, y_coords.max()+1)\n",
    "    plt.show()"
   ]
  },
  {
   "cell_type": "code",
   "execution_count": 86,
   "metadata": {},
   "outputs": [
    {
     "data": {
      "application/javascript": [
       "/* Put everything inside the global mpl namespace */\n",
       "/* global mpl */\n",
       "window.mpl = {};\n",
       "\n",
       "mpl.get_websocket_type = function () {\n",
       "    if (typeof WebSocket !== 'undefined') {\n",
       "        return WebSocket;\n",
       "    } else if (typeof MozWebSocket !== 'undefined') {\n",
       "        return MozWebSocket;\n",
       "    } else {\n",
       "        alert(\n",
       "            'Your browser does not have WebSocket support. ' +\n",
       "                'Please try Chrome, Safari or Firefox ≥ 6. ' +\n",
       "                'Firefox 4 and 5 are also supported but you ' +\n",
       "                'have to enable WebSockets in about:config.'\n",
       "        );\n",
       "    }\n",
       "};\n",
       "\n",
       "mpl.figure = function (figure_id, websocket, ondownload, parent_element) {\n",
       "    this.id = figure_id;\n",
       "\n",
       "    this.ws = websocket;\n",
       "\n",
       "    this.supports_binary = this.ws.binaryType !== undefined;\n",
       "\n",
       "    if (!this.supports_binary) {\n",
       "        var warnings = document.getElementById('mpl-warnings');\n",
       "        if (warnings) {\n",
       "            warnings.style.display = 'block';\n",
       "            warnings.textContent =\n",
       "                'This browser does not support binary websocket messages. ' +\n",
       "                'Performance may be slow.';\n",
       "        }\n",
       "    }\n",
       "\n",
       "    this.imageObj = new Image();\n",
       "\n",
       "    this.context = undefined;\n",
       "    this.message = undefined;\n",
       "    this.canvas = undefined;\n",
       "    this.rubberband_canvas = undefined;\n",
       "    this.rubberband_context = undefined;\n",
       "    this.format_dropdown = undefined;\n",
       "\n",
       "    this.image_mode = 'full';\n",
       "\n",
       "    this.root = document.createElement('div');\n",
       "    this.root.setAttribute('style', 'display: inline-block');\n",
       "    this._root_extra_style(this.root);\n",
       "\n",
       "    parent_element.appendChild(this.root);\n",
       "\n",
       "    this._init_header(this);\n",
       "    this._init_canvas(this);\n",
       "    this._init_toolbar(this);\n",
       "\n",
       "    var fig = this;\n",
       "\n",
       "    this.waiting = false;\n",
       "\n",
       "    this.ws.onopen = function () {\n",
       "        fig.send_message('supports_binary', { value: fig.supports_binary });\n",
       "        fig.send_message('send_image_mode', {});\n",
       "        if (fig.ratio !== 1) {\n",
       "            fig.send_message('set_device_pixel_ratio', {\n",
       "                device_pixel_ratio: fig.ratio,\n",
       "            });\n",
       "        }\n",
       "        fig.send_message('refresh', {});\n",
       "    };\n",
       "\n",
       "    this.imageObj.onload = function () {\n",
       "        if (fig.image_mode === 'full') {\n",
       "            // Full images could contain transparency (where diff images\n",
       "            // almost always do), so we need to clear the canvas so that\n",
       "            // there is no ghosting.\n",
       "            fig.context.clearRect(0, 0, fig.canvas.width, fig.canvas.height);\n",
       "        }\n",
       "        fig.context.drawImage(fig.imageObj, 0, 0);\n",
       "    };\n",
       "\n",
       "    this.imageObj.onunload = function () {\n",
       "        fig.ws.close();\n",
       "    };\n",
       "\n",
       "    this.ws.onmessage = this._make_on_message_function(this);\n",
       "\n",
       "    this.ondownload = ondownload;\n",
       "};\n",
       "\n",
       "mpl.figure.prototype._init_header = function () {\n",
       "    var titlebar = document.createElement('div');\n",
       "    titlebar.classList =\n",
       "        'ui-dialog-titlebar ui-widget-header ui-corner-all ui-helper-clearfix';\n",
       "    var titletext = document.createElement('div');\n",
       "    titletext.classList = 'ui-dialog-title';\n",
       "    titletext.setAttribute(\n",
       "        'style',\n",
       "        'width: 100%; text-align: center; padding: 3px;'\n",
       "    );\n",
       "    titlebar.appendChild(titletext);\n",
       "    this.root.appendChild(titlebar);\n",
       "    this.header = titletext;\n",
       "};\n",
       "\n",
       "mpl.figure.prototype._canvas_extra_style = function (_canvas_div) {};\n",
       "\n",
       "mpl.figure.prototype._root_extra_style = function (_canvas_div) {};\n",
       "\n",
       "mpl.figure.prototype._init_canvas = function () {\n",
       "    var fig = this;\n",
       "\n",
       "    var canvas_div = (this.canvas_div = document.createElement('div'));\n",
       "    canvas_div.setAttribute('tabindex', '0');\n",
       "    canvas_div.setAttribute(\n",
       "        'style',\n",
       "        'border: 1px solid #ddd;' +\n",
       "            'box-sizing: content-box;' +\n",
       "            'clear: both;' +\n",
       "            'min-height: 1px;' +\n",
       "            'min-width: 1px;' +\n",
       "            'outline: 0;' +\n",
       "            'overflow: hidden;' +\n",
       "            'position: relative;' +\n",
       "            'resize: both;' +\n",
       "            'z-index: 2;'\n",
       "    );\n",
       "\n",
       "    function on_keyboard_event_closure(name) {\n",
       "        return function (event) {\n",
       "            return fig.key_event(event, name);\n",
       "        };\n",
       "    }\n",
       "\n",
       "    canvas_div.addEventListener(\n",
       "        'keydown',\n",
       "        on_keyboard_event_closure('key_press')\n",
       "    );\n",
       "    canvas_div.addEventListener(\n",
       "        'keyup',\n",
       "        on_keyboard_event_closure('key_release')\n",
       "    );\n",
       "\n",
       "    this._canvas_extra_style(canvas_div);\n",
       "    this.root.appendChild(canvas_div);\n",
       "\n",
       "    var canvas = (this.canvas = document.createElement('canvas'));\n",
       "    canvas.classList.add('mpl-canvas');\n",
       "    canvas.setAttribute(\n",
       "        'style',\n",
       "        'box-sizing: content-box;' +\n",
       "            'pointer-events: none;' +\n",
       "            'position: relative;' +\n",
       "            'z-index: 0;'\n",
       "    );\n",
       "\n",
       "    this.context = canvas.getContext('2d');\n",
       "\n",
       "    var backingStore =\n",
       "        this.context.backingStorePixelRatio ||\n",
       "        this.context.webkitBackingStorePixelRatio ||\n",
       "        this.context.mozBackingStorePixelRatio ||\n",
       "        this.context.msBackingStorePixelRatio ||\n",
       "        this.context.oBackingStorePixelRatio ||\n",
       "        this.context.backingStorePixelRatio ||\n",
       "        1;\n",
       "\n",
       "    this.ratio = (window.devicePixelRatio || 1) / backingStore;\n",
       "\n",
       "    var rubberband_canvas = (this.rubberband_canvas = document.createElement(\n",
       "        'canvas'\n",
       "    ));\n",
       "    rubberband_canvas.setAttribute(\n",
       "        'style',\n",
       "        'box-sizing: content-box;' +\n",
       "            'left: 0;' +\n",
       "            'pointer-events: none;' +\n",
       "            'position: absolute;' +\n",
       "            'top: 0;' +\n",
       "            'z-index: 1;'\n",
       "    );\n",
       "\n",
       "    // Apply a ponyfill if ResizeObserver is not implemented by browser.\n",
       "    if (this.ResizeObserver === undefined) {\n",
       "        if (window.ResizeObserver !== undefined) {\n",
       "            this.ResizeObserver = window.ResizeObserver;\n",
       "        } else {\n",
       "            var obs = _JSXTOOLS_RESIZE_OBSERVER({});\n",
       "            this.ResizeObserver = obs.ResizeObserver;\n",
       "        }\n",
       "    }\n",
       "\n",
       "    this.resizeObserverInstance = new this.ResizeObserver(function (entries) {\n",
       "        var nentries = entries.length;\n",
       "        for (var i = 0; i < nentries; i++) {\n",
       "            var entry = entries[i];\n",
       "            var width, height;\n",
       "            if (entry.contentBoxSize) {\n",
       "                if (entry.contentBoxSize instanceof Array) {\n",
       "                    // Chrome 84 implements new version of spec.\n",
       "                    width = entry.contentBoxSize[0].inlineSize;\n",
       "                    height = entry.contentBoxSize[0].blockSize;\n",
       "                } else {\n",
       "                    // Firefox implements old version of spec.\n",
       "                    width = entry.contentBoxSize.inlineSize;\n",
       "                    height = entry.contentBoxSize.blockSize;\n",
       "                }\n",
       "            } else {\n",
       "                // Chrome <84 implements even older version of spec.\n",
       "                width = entry.contentRect.width;\n",
       "                height = entry.contentRect.height;\n",
       "            }\n",
       "\n",
       "            // Keep the size of the canvas and rubber band canvas in sync with\n",
       "            // the canvas container.\n",
       "            if (entry.devicePixelContentBoxSize) {\n",
       "                // Chrome 84 implements new version of spec.\n",
       "                canvas.setAttribute(\n",
       "                    'width',\n",
       "                    entry.devicePixelContentBoxSize[0].inlineSize\n",
       "                );\n",
       "                canvas.setAttribute(\n",
       "                    'height',\n",
       "                    entry.devicePixelContentBoxSize[0].blockSize\n",
       "                );\n",
       "            } else {\n",
       "                canvas.setAttribute('width', width * fig.ratio);\n",
       "                canvas.setAttribute('height', height * fig.ratio);\n",
       "            }\n",
       "            /* This rescales the canvas back to display pixels, so that it\n",
       "             * appears correct on HiDPI screens. */\n",
       "            canvas.style.width = width + 'px';\n",
       "            canvas.style.height = height + 'px';\n",
       "\n",
       "            rubberband_canvas.setAttribute('width', width);\n",
       "            rubberband_canvas.setAttribute('height', height);\n",
       "\n",
       "            // And update the size in Python. We ignore the initial 0/0 size\n",
       "            // that occurs as the element is placed into the DOM, which should\n",
       "            // otherwise not happen due to the minimum size styling.\n",
       "            if (fig.ws.readyState == 1 && width != 0 && height != 0) {\n",
       "                fig.request_resize(width, height);\n",
       "            }\n",
       "        }\n",
       "    });\n",
       "    this.resizeObserverInstance.observe(canvas_div);\n",
       "\n",
       "    function on_mouse_event_closure(name) {\n",
       "        /* User Agent sniffing is bad, but WebKit is busted:\n",
       "         * https://bugs.webkit.org/show_bug.cgi?id=144526\n",
       "         * https://bugs.webkit.org/show_bug.cgi?id=181818\n",
       "         * The worst that happens here is that they get an extra browser\n",
       "         * selection when dragging, if this check fails to catch them.\n",
       "         */\n",
       "        var UA = navigator.userAgent;\n",
       "        var isWebKit = /AppleWebKit/.test(UA) && !/Chrome/.test(UA);\n",
       "        if(isWebKit) {\n",
       "            return function (event) {\n",
       "                /* This prevents the web browser from automatically changing to\n",
       "                 * the text insertion cursor when the button is pressed. We\n",
       "                 * want to control all of the cursor setting manually through\n",
       "                 * the 'cursor' event from matplotlib */\n",
       "                event.preventDefault()\n",
       "                return fig.mouse_event(event, name);\n",
       "            };\n",
       "        } else {\n",
       "            return function (event) {\n",
       "                return fig.mouse_event(event, name);\n",
       "            };\n",
       "        }\n",
       "    }\n",
       "\n",
       "    canvas_div.addEventListener(\n",
       "        'mousedown',\n",
       "        on_mouse_event_closure('button_press')\n",
       "    );\n",
       "    canvas_div.addEventListener(\n",
       "        'mouseup',\n",
       "        on_mouse_event_closure('button_release')\n",
       "    );\n",
       "    canvas_div.addEventListener(\n",
       "        'dblclick',\n",
       "        on_mouse_event_closure('dblclick')\n",
       "    );\n",
       "    // Throttle sequential mouse events to 1 every 20ms.\n",
       "    canvas_div.addEventListener(\n",
       "        'mousemove',\n",
       "        on_mouse_event_closure('motion_notify')\n",
       "    );\n",
       "\n",
       "    canvas_div.addEventListener(\n",
       "        'mouseenter',\n",
       "        on_mouse_event_closure('figure_enter')\n",
       "    );\n",
       "    canvas_div.addEventListener(\n",
       "        'mouseleave',\n",
       "        on_mouse_event_closure('figure_leave')\n",
       "    );\n",
       "\n",
       "    canvas_div.addEventListener('wheel', function (event) {\n",
       "        if (event.deltaY < 0) {\n",
       "            event.step = 1;\n",
       "        } else {\n",
       "            event.step = -1;\n",
       "        }\n",
       "        on_mouse_event_closure('scroll')(event);\n",
       "    });\n",
       "\n",
       "    canvas_div.appendChild(canvas);\n",
       "    canvas_div.appendChild(rubberband_canvas);\n",
       "\n",
       "    this.rubberband_context = rubberband_canvas.getContext('2d');\n",
       "    this.rubberband_context.strokeStyle = '#000000';\n",
       "\n",
       "    this._resize_canvas = function (width, height, forward) {\n",
       "        if (forward) {\n",
       "            canvas_div.style.width = width + 'px';\n",
       "            canvas_div.style.height = height + 'px';\n",
       "        }\n",
       "    };\n",
       "\n",
       "    // Disable right mouse context menu.\n",
       "    canvas_div.addEventListener('contextmenu', function (_e) {\n",
       "        event.preventDefault();\n",
       "        return false;\n",
       "    });\n",
       "\n",
       "    function set_focus() {\n",
       "        canvas.focus();\n",
       "        canvas_div.focus();\n",
       "    }\n",
       "\n",
       "    window.setTimeout(set_focus, 100);\n",
       "};\n",
       "\n",
       "mpl.figure.prototype._init_toolbar = function () {\n",
       "    var fig = this;\n",
       "\n",
       "    var toolbar = document.createElement('div');\n",
       "    toolbar.classList = 'mpl-toolbar';\n",
       "    this.root.appendChild(toolbar);\n",
       "\n",
       "    function on_click_closure(name) {\n",
       "        return function (_event) {\n",
       "            return fig.toolbar_button_onclick(name);\n",
       "        };\n",
       "    }\n",
       "\n",
       "    function on_mouseover_closure(tooltip) {\n",
       "        return function (event) {\n",
       "            if (!event.currentTarget.disabled) {\n",
       "                return fig.toolbar_button_onmouseover(tooltip);\n",
       "            }\n",
       "        };\n",
       "    }\n",
       "\n",
       "    fig.buttons = {};\n",
       "    var buttonGroup = document.createElement('div');\n",
       "    buttonGroup.classList = 'mpl-button-group';\n",
       "    for (var toolbar_ind in mpl.toolbar_items) {\n",
       "        var name = mpl.toolbar_items[toolbar_ind][0];\n",
       "        var tooltip = mpl.toolbar_items[toolbar_ind][1];\n",
       "        var image = mpl.toolbar_items[toolbar_ind][2];\n",
       "        var method_name = mpl.toolbar_items[toolbar_ind][3];\n",
       "\n",
       "        if (!name) {\n",
       "            /* Instead of a spacer, we start a new button group. */\n",
       "            if (buttonGroup.hasChildNodes()) {\n",
       "                toolbar.appendChild(buttonGroup);\n",
       "            }\n",
       "            buttonGroup = document.createElement('div');\n",
       "            buttonGroup.classList = 'mpl-button-group';\n",
       "            continue;\n",
       "        }\n",
       "\n",
       "        var button = (fig.buttons[name] = document.createElement('button'));\n",
       "        button.classList = 'mpl-widget';\n",
       "        button.setAttribute('role', 'button');\n",
       "        button.setAttribute('aria-disabled', 'false');\n",
       "        button.addEventListener('click', on_click_closure(method_name));\n",
       "        button.addEventListener('mouseover', on_mouseover_closure(tooltip));\n",
       "\n",
       "        var icon_img = document.createElement('img');\n",
       "        icon_img.src = '_images/' + image + '.png';\n",
       "        icon_img.srcset = '_images/' + image + '_large.png 2x';\n",
       "        icon_img.alt = tooltip;\n",
       "        button.appendChild(icon_img);\n",
       "\n",
       "        buttonGroup.appendChild(button);\n",
       "    }\n",
       "\n",
       "    if (buttonGroup.hasChildNodes()) {\n",
       "        toolbar.appendChild(buttonGroup);\n",
       "    }\n",
       "\n",
       "    var fmt_picker = document.createElement('select');\n",
       "    fmt_picker.classList = 'mpl-widget';\n",
       "    toolbar.appendChild(fmt_picker);\n",
       "    this.format_dropdown = fmt_picker;\n",
       "\n",
       "    for (var ind in mpl.extensions) {\n",
       "        var fmt = mpl.extensions[ind];\n",
       "        var option = document.createElement('option');\n",
       "        option.selected = fmt === mpl.default_extension;\n",
       "        option.innerHTML = fmt;\n",
       "        fmt_picker.appendChild(option);\n",
       "    }\n",
       "\n",
       "    var status_bar = document.createElement('span');\n",
       "    status_bar.classList = 'mpl-message';\n",
       "    toolbar.appendChild(status_bar);\n",
       "    this.message = status_bar;\n",
       "};\n",
       "\n",
       "mpl.figure.prototype.request_resize = function (x_pixels, y_pixels) {\n",
       "    // Request matplotlib to resize the figure. Matplotlib will then trigger a resize in the client,\n",
       "    // which will in turn request a refresh of the image.\n",
       "    this.send_message('resize', { width: x_pixels, height: y_pixels });\n",
       "};\n",
       "\n",
       "mpl.figure.prototype.send_message = function (type, properties) {\n",
       "    properties['type'] = type;\n",
       "    properties['figure_id'] = this.id;\n",
       "    this.ws.send(JSON.stringify(properties));\n",
       "};\n",
       "\n",
       "mpl.figure.prototype.send_draw_message = function () {\n",
       "    if (!this.waiting) {\n",
       "        this.waiting = true;\n",
       "        this.ws.send(JSON.stringify({ type: 'draw', figure_id: this.id }));\n",
       "    }\n",
       "};\n",
       "\n",
       "mpl.figure.prototype.handle_save = function (fig, _msg) {\n",
       "    var format_dropdown = fig.format_dropdown;\n",
       "    var format = format_dropdown.options[format_dropdown.selectedIndex].value;\n",
       "    fig.ondownload(fig, format);\n",
       "};\n",
       "\n",
       "mpl.figure.prototype.handle_resize = function (fig, msg) {\n",
       "    var size = msg['size'];\n",
       "    if (size[0] !== fig.canvas.width || size[1] !== fig.canvas.height) {\n",
       "        fig._resize_canvas(size[0], size[1], msg['forward']);\n",
       "        fig.send_message('refresh', {});\n",
       "    }\n",
       "};\n",
       "\n",
       "mpl.figure.prototype.handle_rubberband = function (fig, msg) {\n",
       "    var x0 = msg['x0'] / fig.ratio;\n",
       "    var y0 = (fig.canvas.height - msg['y0']) / fig.ratio;\n",
       "    var x1 = msg['x1'] / fig.ratio;\n",
       "    var y1 = (fig.canvas.height - msg['y1']) / fig.ratio;\n",
       "    x0 = Math.floor(x0) + 0.5;\n",
       "    y0 = Math.floor(y0) + 0.5;\n",
       "    x1 = Math.floor(x1) + 0.5;\n",
       "    y1 = Math.floor(y1) + 0.5;\n",
       "    var min_x = Math.min(x0, x1);\n",
       "    var min_y = Math.min(y0, y1);\n",
       "    var width = Math.abs(x1 - x0);\n",
       "    var height = Math.abs(y1 - y0);\n",
       "\n",
       "    fig.rubberband_context.clearRect(\n",
       "        0,\n",
       "        0,\n",
       "        fig.canvas.width / fig.ratio,\n",
       "        fig.canvas.height / fig.ratio\n",
       "    );\n",
       "\n",
       "    fig.rubberband_context.strokeRect(min_x, min_y, width, height);\n",
       "};\n",
       "\n",
       "mpl.figure.prototype.handle_figure_label = function (fig, msg) {\n",
       "    // Updates the figure title.\n",
       "    fig.header.textContent = msg['label'];\n",
       "};\n",
       "\n",
       "mpl.figure.prototype.handle_cursor = function (fig, msg) {\n",
       "    fig.canvas_div.style.cursor = msg['cursor'];\n",
       "};\n",
       "\n",
       "mpl.figure.prototype.handle_message = function (fig, msg) {\n",
       "    fig.message.textContent = msg['message'];\n",
       "};\n",
       "\n",
       "mpl.figure.prototype.handle_draw = function (fig, _msg) {\n",
       "    // Request the server to send over a new figure.\n",
       "    fig.send_draw_message();\n",
       "};\n",
       "\n",
       "mpl.figure.prototype.handle_image_mode = function (fig, msg) {\n",
       "    fig.image_mode = msg['mode'];\n",
       "};\n",
       "\n",
       "mpl.figure.prototype.handle_history_buttons = function (fig, msg) {\n",
       "    for (var key in msg) {\n",
       "        if (!(key in fig.buttons)) {\n",
       "            continue;\n",
       "        }\n",
       "        fig.buttons[key].disabled = !msg[key];\n",
       "        fig.buttons[key].setAttribute('aria-disabled', !msg[key]);\n",
       "    }\n",
       "};\n",
       "\n",
       "mpl.figure.prototype.handle_navigate_mode = function (fig, msg) {\n",
       "    if (msg['mode'] === 'PAN') {\n",
       "        fig.buttons['Pan'].classList.add('active');\n",
       "        fig.buttons['Zoom'].classList.remove('active');\n",
       "    } else if (msg['mode'] === 'ZOOM') {\n",
       "        fig.buttons['Pan'].classList.remove('active');\n",
       "        fig.buttons['Zoom'].classList.add('active');\n",
       "    } else {\n",
       "        fig.buttons['Pan'].classList.remove('active');\n",
       "        fig.buttons['Zoom'].classList.remove('active');\n",
       "    }\n",
       "};\n",
       "\n",
       "mpl.figure.prototype.updated_canvas_event = function () {\n",
       "    // Called whenever the canvas gets updated.\n",
       "    this.send_message('ack', {});\n",
       "};\n",
       "\n",
       "// A function to construct a web socket function for onmessage handling.\n",
       "// Called in the figure constructor.\n",
       "mpl.figure.prototype._make_on_message_function = function (fig) {\n",
       "    return function socket_on_message(evt) {\n",
       "        if (evt.data instanceof Blob) {\n",
       "            var img = evt.data;\n",
       "            if (img.type !== 'image/png') {\n",
       "                /* FIXME: We get \"Resource interpreted as Image but\n",
       "                 * transferred with MIME type text/plain:\" errors on\n",
       "                 * Chrome.  But how to set the MIME type?  It doesn't seem\n",
       "                 * to be part of the websocket stream */\n",
       "                img.type = 'image/png';\n",
       "            }\n",
       "\n",
       "            /* Free the memory for the previous frames */\n",
       "            if (fig.imageObj.src) {\n",
       "                (window.URL || window.webkitURL).revokeObjectURL(\n",
       "                    fig.imageObj.src\n",
       "                );\n",
       "            }\n",
       "\n",
       "            fig.imageObj.src = (window.URL || window.webkitURL).createObjectURL(\n",
       "                img\n",
       "            );\n",
       "            fig.updated_canvas_event();\n",
       "            fig.waiting = false;\n",
       "            return;\n",
       "        } else if (\n",
       "            typeof evt.data === 'string' &&\n",
       "            evt.data.slice(0, 21) === 'data:image/png;base64'\n",
       "        ) {\n",
       "            fig.imageObj.src = evt.data;\n",
       "            fig.updated_canvas_event();\n",
       "            fig.waiting = false;\n",
       "            return;\n",
       "        }\n",
       "\n",
       "        var msg = JSON.parse(evt.data);\n",
       "        var msg_type = msg['type'];\n",
       "\n",
       "        // Call the  \"handle_{type}\" callback, which takes\n",
       "        // the figure and JSON message as its only arguments.\n",
       "        try {\n",
       "            var callback = fig['handle_' + msg_type];\n",
       "        } catch (e) {\n",
       "            console.log(\n",
       "                \"No handler for the '\" + msg_type + \"' message type: \",\n",
       "                msg\n",
       "            );\n",
       "            return;\n",
       "        }\n",
       "\n",
       "        if (callback) {\n",
       "            try {\n",
       "                // console.log(\"Handling '\" + msg_type + \"' message: \", msg);\n",
       "                callback(fig, msg);\n",
       "            } catch (e) {\n",
       "                console.log(\n",
       "                    \"Exception inside the 'handler_\" + msg_type + \"' callback:\",\n",
       "                    e,\n",
       "                    e.stack,\n",
       "                    msg\n",
       "                );\n",
       "            }\n",
       "        }\n",
       "    };\n",
       "};\n",
       "\n",
       "\n",
       "/*\n",
       " * return a copy of an object with only non-object keys\n",
       " * we need this to avoid circular references\n",
       " * https://stackoverflow.com/a/24161582/3208463\n",
       " */\n",
       "function simpleKeys(original) {\n",
       "    return Object.keys(original).reduce(function (obj, key) {\n",
       "        if (typeof original[key] !== 'object') {\n",
       "            obj[key] = original[key];\n",
       "        }\n",
       "        return obj;\n",
       "    }, {});\n",
       "}\n",
       "\n",
       "mpl.figure.prototype.mouse_event = function (event, name) {\n",
       "    if (name === 'button_press') {\n",
       "        this.canvas.focus();\n",
       "        this.canvas_div.focus();\n",
       "    }\n",
       "\n",
       "    // from https://stackoverflow.com/q/1114465\n",
       "    var boundingRect = this.canvas.getBoundingClientRect();\n",
       "    var x = (event.clientX - boundingRect.left) * this.ratio;\n",
       "    var y = (event.clientY - boundingRect.top) * this.ratio;\n",
       "\n",
       "    this.send_message(name, {\n",
       "        x: x,\n",
       "        y: y,\n",
       "        button: event.button,\n",
       "        step: event.step,\n",
       "        guiEvent: simpleKeys(event),\n",
       "    });\n",
       "\n",
       "    return false;\n",
       "};\n",
       "\n",
       "mpl.figure.prototype._key_event_extra = function (_event, _name) {\n",
       "    // Handle any extra behaviour associated with a key event\n",
       "};\n",
       "\n",
       "mpl.figure.prototype.key_event = function (event, name) {\n",
       "    // Prevent repeat events\n",
       "    if (name === 'key_press') {\n",
       "        if (event.key === this._key) {\n",
       "            return;\n",
       "        } else {\n",
       "            this._key = event.key;\n",
       "        }\n",
       "    }\n",
       "    if (name === 'key_release') {\n",
       "        this._key = null;\n",
       "    }\n",
       "\n",
       "    var value = '';\n",
       "    if (event.ctrlKey && event.key !== 'Control') {\n",
       "        value += 'ctrl+';\n",
       "    }\n",
       "    else if (event.altKey && event.key !== 'Alt') {\n",
       "        value += 'alt+';\n",
       "    }\n",
       "    else if (event.shiftKey && event.key !== 'Shift') {\n",
       "        value += 'shift+';\n",
       "    }\n",
       "\n",
       "    value += 'k' + event.key;\n",
       "\n",
       "    this._key_event_extra(event, name);\n",
       "\n",
       "    this.send_message(name, { key: value, guiEvent: simpleKeys(event) });\n",
       "    return false;\n",
       "};\n",
       "\n",
       "mpl.figure.prototype.toolbar_button_onclick = function (name) {\n",
       "    if (name === 'download') {\n",
       "        this.handle_save(this, null);\n",
       "    } else {\n",
       "        this.send_message('toolbar_button', { name: name });\n",
       "    }\n",
       "};\n",
       "\n",
       "mpl.figure.prototype.toolbar_button_onmouseover = function (tooltip) {\n",
       "    this.message.textContent = tooltip;\n",
       "};\n",
       "\n",
       "///////////////// REMAINING CONTENT GENERATED BY embed_js.py /////////////////\n",
       "// prettier-ignore\n",
       "var _JSXTOOLS_RESIZE_OBSERVER=function(A){var t,i=new WeakMap,n=new WeakMap,a=new WeakMap,r=new WeakMap,o=new Set;function s(e){if(!(this instanceof s))throw new TypeError(\"Constructor requires 'new' operator\");i.set(this,e)}function h(){throw new TypeError(\"Function is not a constructor\")}function c(e,t,i,n){e=0 in arguments?Number(arguments[0]):0,t=1 in arguments?Number(arguments[1]):0,i=2 in arguments?Number(arguments[2]):0,n=3 in arguments?Number(arguments[3]):0,this.right=(this.x=this.left=e)+(this.width=i),this.bottom=(this.y=this.top=t)+(this.height=n),Object.freeze(this)}function d(){t=requestAnimationFrame(d);var s=new WeakMap,p=new Set;o.forEach((function(t){r.get(t).forEach((function(i){var r=t instanceof window.SVGElement,o=a.get(t),d=r?0:parseFloat(o.paddingTop),f=r?0:parseFloat(o.paddingRight),l=r?0:parseFloat(o.paddingBottom),u=r?0:parseFloat(o.paddingLeft),g=r?0:parseFloat(o.borderTopWidth),m=r?0:parseFloat(o.borderRightWidth),w=r?0:parseFloat(o.borderBottomWidth),b=u+f,F=d+l,v=(r?0:parseFloat(o.borderLeftWidth))+m,W=g+w,y=r?0:t.offsetHeight-W-t.clientHeight,E=r?0:t.offsetWidth-v-t.clientWidth,R=b+v,z=F+W,M=r?t.width:parseFloat(o.width)-R-E,O=r?t.height:parseFloat(o.height)-z-y;if(n.has(t)){var k=n.get(t);if(k[0]===M&&k[1]===O)return}n.set(t,[M,O]);var S=Object.create(h.prototype);S.target=t,S.contentRect=new c(u,d,M,O),s.has(i)||(s.set(i,[]),p.add(i)),s.get(i).push(S)}))})),p.forEach((function(e){i.get(e).call(e,s.get(e),e)}))}return s.prototype.observe=function(i){if(i instanceof window.Element){r.has(i)||(r.set(i,new Set),o.add(i),a.set(i,window.getComputedStyle(i)));var n=r.get(i);n.has(this)||n.add(this),cancelAnimationFrame(t),t=requestAnimationFrame(d)}},s.prototype.unobserve=function(i){if(i instanceof window.Element&&r.has(i)){var n=r.get(i);n.has(this)&&(n.delete(this),n.size||(r.delete(i),o.delete(i))),n.size||r.delete(i),o.size||cancelAnimationFrame(t)}},A.DOMRectReadOnly=c,A.ResizeObserver=s,A.ResizeObserverEntry=h,A}; // eslint-disable-line\n",
       "mpl.toolbar_items = [[\"Home\", \"Reset original view\", \"fa fa-home\", \"home\"], [\"Back\", \"Back to previous view\", \"fa fa-arrow-left\", \"back\"], [\"Forward\", \"Forward to next view\", \"fa fa-arrow-right\", \"forward\"], [\"\", \"\", \"\", \"\"], [\"Pan\", \"Left button pans, Right button zooms\\nx/y fixes axis, CTRL fixes aspect\", \"fa fa-arrows\", \"pan\"], [\"Zoom\", \"Zoom to rectangle\\nx/y fixes axis\", \"fa fa-square-o\", \"zoom\"], [\"\", \"\", \"\", \"\"], [\"Download\", \"Download plot\", \"fa fa-floppy-o\", \"download\"]];\n",
       "\n",
       "mpl.extensions = [\"eps\", \"jpeg\", \"pgf\", \"pdf\", \"png\", \"ps\", \"raw\", \"svg\", \"tif\", \"webp\"];\n",
       "\n",
       "mpl.default_extension = \"png\";/* global mpl */\n",
       "\n",
       "var comm_websocket_adapter = function (comm) {\n",
       "    // Create a \"websocket\"-like object which calls the given IPython comm\n",
       "    // object with the appropriate methods. Currently this is a non binary\n",
       "    // socket, so there is still some room for performance tuning.\n",
       "    var ws = {};\n",
       "\n",
       "    ws.binaryType = comm.kernel.ws.binaryType;\n",
       "    ws.readyState = comm.kernel.ws.readyState;\n",
       "    function updateReadyState(_event) {\n",
       "        if (comm.kernel.ws) {\n",
       "            ws.readyState = comm.kernel.ws.readyState;\n",
       "        } else {\n",
       "            ws.readyState = 3; // Closed state.\n",
       "        }\n",
       "    }\n",
       "    comm.kernel.ws.addEventListener('open', updateReadyState);\n",
       "    comm.kernel.ws.addEventListener('close', updateReadyState);\n",
       "    comm.kernel.ws.addEventListener('error', updateReadyState);\n",
       "\n",
       "    ws.close = function () {\n",
       "        comm.close();\n",
       "    };\n",
       "    ws.send = function (m) {\n",
       "        //console.log('sending', m);\n",
       "        comm.send(m);\n",
       "    };\n",
       "    // Register the callback with on_msg.\n",
       "    comm.on_msg(function (msg) {\n",
       "        //console.log('receiving', msg['content']['data'], msg);\n",
       "        var data = msg['content']['data'];\n",
       "        if (data['blob'] !== undefined) {\n",
       "            data = {\n",
       "                data: new Blob(msg['buffers'], { type: data['blob'] }),\n",
       "            };\n",
       "        }\n",
       "        // Pass the mpl event to the overridden (by mpl) onmessage function.\n",
       "        ws.onmessage(data);\n",
       "    });\n",
       "    return ws;\n",
       "};\n",
       "\n",
       "mpl.mpl_figure_comm = function (comm, msg) {\n",
       "    // This is the function which gets called when the mpl process\n",
       "    // starts-up an IPython Comm through the \"matplotlib\" channel.\n",
       "\n",
       "    var id = msg.content.data.id;\n",
       "    // Get hold of the div created by the display call when the Comm\n",
       "    // socket was opened in Python.\n",
       "    var element = document.getElementById(id);\n",
       "    var ws_proxy = comm_websocket_adapter(comm);\n",
       "\n",
       "    function ondownload(figure, _format) {\n",
       "        window.open(figure.canvas.toDataURL());\n",
       "    }\n",
       "\n",
       "    var fig = new mpl.figure(id, ws_proxy, ondownload, element);\n",
       "\n",
       "    // Call onopen now - mpl needs it, as it is assuming we've passed it a real\n",
       "    // web socket which is closed, not our websocket->open comm proxy.\n",
       "    ws_proxy.onopen();\n",
       "\n",
       "    fig.parent_element = element;\n",
       "    fig.cell_info = mpl.find_output_cell(\"<div id='\" + id + \"'></div>\");\n",
       "    if (!fig.cell_info) {\n",
       "        console.error('Failed to find cell for figure', id, fig);\n",
       "        return;\n",
       "    }\n",
       "    fig.cell_info[0].output_area.element.on(\n",
       "        'cleared',\n",
       "        { fig: fig },\n",
       "        fig._remove_fig_handler\n",
       "    );\n",
       "};\n",
       "\n",
       "mpl.figure.prototype.handle_close = function (fig, msg) {\n",
       "    var width = fig.canvas.width / fig.ratio;\n",
       "    fig.cell_info[0].output_area.element.off(\n",
       "        'cleared',\n",
       "        fig._remove_fig_handler\n",
       "    );\n",
       "    fig.resizeObserverInstance.unobserve(fig.canvas_div);\n",
       "\n",
       "    // Update the output cell to use the data from the current canvas.\n",
       "    fig.push_to_output();\n",
       "    var dataURL = fig.canvas.toDataURL();\n",
       "    // Re-enable the keyboard manager in IPython - without this line, in FF,\n",
       "    // the notebook keyboard shortcuts fail.\n",
       "    IPython.keyboard_manager.enable();\n",
       "    fig.parent_element.innerHTML =\n",
       "        '<img src=\"' + dataURL + '\" width=\"' + width + '\">';\n",
       "    fig.close_ws(fig, msg);\n",
       "};\n",
       "\n",
       "mpl.figure.prototype.close_ws = function (fig, msg) {\n",
       "    fig.send_message('closing', msg);\n",
       "    // fig.ws.close()\n",
       "};\n",
       "\n",
       "mpl.figure.prototype.push_to_output = function (_remove_interactive) {\n",
       "    // Turn the data on the canvas into data in the output cell.\n",
       "    var width = this.canvas.width / this.ratio;\n",
       "    var dataURL = this.canvas.toDataURL();\n",
       "    this.cell_info[1]['text/html'] =\n",
       "        '<img src=\"' + dataURL + '\" width=\"' + width + '\">';\n",
       "};\n",
       "\n",
       "mpl.figure.prototype.updated_canvas_event = function () {\n",
       "    // Tell IPython that the notebook contents must change.\n",
       "    IPython.notebook.set_dirty(true);\n",
       "    this.send_message('ack', {});\n",
       "    var fig = this;\n",
       "    // Wait a second, then push the new image to the DOM so\n",
       "    // that it is saved nicely (might be nice to debounce this).\n",
       "    setTimeout(function () {\n",
       "        fig.push_to_output();\n",
       "    }, 1000);\n",
       "};\n",
       "\n",
       "mpl.figure.prototype._init_toolbar = function () {\n",
       "    var fig = this;\n",
       "\n",
       "    var toolbar = document.createElement('div');\n",
       "    toolbar.classList = 'btn-toolbar';\n",
       "    this.root.appendChild(toolbar);\n",
       "\n",
       "    function on_click_closure(name) {\n",
       "        return function (_event) {\n",
       "            return fig.toolbar_button_onclick(name);\n",
       "        };\n",
       "    }\n",
       "\n",
       "    function on_mouseover_closure(tooltip) {\n",
       "        return function (event) {\n",
       "            if (!event.currentTarget.disabled) {\n",
       "                return fig.toolbar_button_onmouseover(tooltip);\n",
       "            }\n",
       "        };\n",
       "    }\n",
       "\n",
       "    fig.buttons = {};\n",
       "    var buttonGroup = document.createElement('div');\n",
       "    buttonGroup.classList = 'btn-group';\n",
       "    var button;\n",
       "    for (var toolbar_ind in mpl.toolbar_items) {\n",
       "        var name = mpl.toolbar_items[toolbar_ind][0];\n",
       "        var tooltip = mpl.toolbar_items[toolbar_ind][1];\n",
       "        var image = mpl.toolbar_items[toolbar_ind][2];\n",
       "        var method_name = mpl.toolbar_items[toolbar_ind][3];\n",
       "\n",
       "        if (!name) {\n",
       "            /* Instead of a spacer, we start a new button group. */\n",
       "            if (buttonGroup.hasChildNodes()) {\n",
       "                toolbar.appendChild(buttonGroup);\n",
       "            }\n",
       "            buttonGroup = document.createElement('div');\n",
       "            buttonGroup.classList = 'btn-group';\n",
       "            continue;\n",
       "        }\n",
       "\n",
       "        button = fig.buttons[name] = document.createElement('button');\n",
       "        button.classList = 'btn btn-default';\n",
       "        button.href = '#';\n",
       "        button.title = name;\n",
       "        button.innerHTML = '<i class=\"fa ' + image + ' fa-lg\"></i>';\n",
       "        button.addEventListener('click', on_click_closure(method_name));\n",
       "        button.addEventListener('mouseover', on_mouseover_closure(tooltip));\n",
       "        buttonGroup.appendChild(button);\n",
       "    }\n",
       "\n",
       "    if (buttonGroup.hasChildNodes()) {\n",
       "        toolbar.appendChild(buttonGroup);\n",
       "    }\n",
       "\n",
       "    // Add the status bar.\n",
       "    var status_bar = document.createElement('span');\n",
       "    status_bar.classList = 'mpl-message pull-right';\n",
       "    toolbar.appendChild(status_bar);\n",
       "    this.message = status_bar;\n",
       "\n",
       "    // Add the close button to the window.\n",
       "    var buttongrp = document.createElement('div');\n",
       "    buttongrp.classList = 'btn-group inline pull-right';\n",
       "    button = document.createElement('button');\n",
       "    button.classList = 'btn btn-mini btn-primary';\n",
       "    button.href = '#';\n",
       "    button.title = 'Stop Interaction';\n",
       "    button.innerHTML = '<i class=\"fa fa-power-off icon-remove icon-large\"></i>';\n",
       "    button.addEventListener('click', function (_evt) {\n",
       "        fig.handle_close(fig, {});\n",
       "    });\n",
       "    button.addEventListener(\n",
       "        'mouseover',\n",
       "        on_mouseover_closure('Stop Interaction')\n",
       "    );\n",
       "    buttongrp.appendChild(button);\n",
       "    var titlebar = this.root.querySelector('.ui-dialog-titlebar');\n",
       "    titlebar.insertBefore(buttongrp, titlebar.firstChild);\n",
       "};\n",
       "\n",
       "mpl.figure.prototype._remove_fig_handler = function (event) {\n",
       "    var fig = event.data.fig;\n",
       "    if (event.target !== this) {\n",
       "        // Ignore bubbled events from children.\n",
       "        return;\n",
       "    }\n",
       "    fig.close_ws(fig, {});\n",
       "};\n",
       "\n",
       "mpl.figure.prototype._root_extra_style = function (el) {\n",
       "    el.style.boxSizing = 'content-box'; // override notebook setting of border-box.\n",
       "};\n",
       "\n",
       "mpl.figure.prototype._canvas_extra_style = function (el) {\n",
       "    // this is important to make the div 'focusable\n",
       "    el.setAttribute('tabindex', 0);\n",
       "    // reach out to IPython and tell the keyboard manager to turn it's self\n",
       "    // off when our div gets focus\n",
       "\n",
       "    // location in version 3\n",
       "    if (IPython.notebook.keyboard_manager) {\n",
       "        IPython.notebook.keyboard_manager.register_events(el);\n",
       "    } else {\n",
       "        // location in version 2\n",
       "        IPython.keyboard_manager.register_events(el);\n",
       "    }\n",
       "};\n",
       "\n",
       "mpl.figure.prototype._key_event_extra = function (event, _name) {\n",
       "    // Check for shift+enter\n",
       "    if (event.shiftKey && event.which === 13) {\n",
       "        this.canvas_div.blur();\n",
       "        // select the cell after this one\n",
       "        var index = IPython.notebook.find_cell_index(this.cell_info[0]);\n",
       "        IPython.notebook.select(index + 1);\n",
       "    }\n",
       "};\n",
       "\n",
       "mpl.figure.prototype.handle_save = function (fig, _msg) {\n",
       "    fig.ondownload(fig, null);\n",
       "};\n",
       "\n",
       "mpl.find_output_cell = function (html_output) {\n",
       "    // Return the cell and output element which can be found *uniquely* in the notebook.\n",
       "    // Note - this is a bit hacky, but it is done because the \"notebook_saving.Notebook\"\n",
       "    // IPython event is triggered only after the cells have been serialised, which for\n",
       "    // our purposes (turning an active figure into a static one), is too late.\n",
       "    var cells = IPython.notebook.get_cells();\n",
       "    var ncells = cells.length;\n",
       "    for (var i = 0; i < ncells; i++) {\n",
       "        var cell = cells[i];\n",
       "        if (cell.cell_type === 'code') {\n",
       "            for (var j = 0; j < cell.output_area.outputs.length; j++) {\n",
       "                var data = cell.output_area.outputs[j];\n",
       "                if (data.data) {\n",
       "                    // IPython >= 3 moved mimebundle to data attribute of output\n",
       "                    data = data.data;\n",
       "                }\n",
       "                if (data['text/html'] === html_output) {\n",
       "                    return [cell, data, j];\n",
       "                }\n",
       "            }\n",
       "        }\n",
       "    }\n",
       "};\n",
       "\n",
       "// Register the function which deals with the matplotlib target/channel.\n",
       "// The kernel may be null if the page has been refreshed.\n",
       "if (IPython.notebook.kernel !== null) {\n",
       "    IPython.notebook.kernel.comm_manager.register_target(\n",
       "        'matplotlib',\n",
       "        mpl.mpl_figure_comm\n",
       "    );\n",
       "}\n"
      ],
      "text/plain": [
       "<IPython.core.display.Javascript object>"
      ]
     },
     "metadata": {},
     "output_type": "display_data"
    },
    {
     "data": {
      "text/html": [
       "<img src=\"data:image/png;base64,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\" width=\"640\">"
      ],
      "text/plain": [
       "<IPython.core.display.HTML object>"
      ]
     },
     "metadata": {},
     "output_type": "display_data"
    }
   ],
   "source": [
    "display_closestwords_tsnescatterplot(model_2, 'Porsche 718 Cayman', 50)"
   ]
  },
  {
   "cell_type": "code",
   "execution_count": 74,
   "metadata": {},
   "outputs": [
    {
     "data": {
      "text/plain": [
       "[('Bentley Flying Spur', 0.9342861175537109),\n",
       " ('Ferrari FF', 0.9323840141296387),\n",
       " ('Cadillac CTS-V Coupe', 0.9298292994499207),\n",
       " ('Maybach 62', 0.9272620677947998),\n",
       " ('BMW M', 0.9272598624229431)]"
      ]
     },
     "execution_count": 74,
     "metadata": {},
     "output_type": "execute_result"
    }
   ],
   "source": [
    "model_2.wv.most_similar('Porsche 718 Cayman')[:5]"
   ]
  },
  {
   "cell_type": "code",
   "execution_count": 43,
   "metadata": {},
   "outputs": [
    {
     "data": {
      "text/plain": [
       "[('Bentley Flying Spur', 0.9342861175537109),\n",
       " ('Ferrari FF', 0.9323840141296387),\n",
       " ('Cadillac CTS-V Coupe', 0.9298292994499207),\n",
       " ('Maybach 62', 0.9272620677947998),\n",
       " ('BMW M', 0.9272598624229431),\n",
       " ('Lexus RC F', 0.9264143109321594),\n",
       " ('McLaren MP4-12C', 0.9261119961738586),\n",
       " ('Aston Martin V12 Vantage', 0.9261040687561035),\n",
       " ('Aston Martin DB9', 0.9259312748908997),\n",
       " ('Audi S8', 0.925678014755249)]"
      ]
     },
     "execution_count": 43,
     "metadata": {},
     "output_type": "execute_result"
    }
   ],
   "source": [
    "close_words = model_2.wv.most_similar('Porsche 718 Cayman')\n",
    "close_words"
   ]
  },
  {
   "cell_type": "code",
   "execution_count": 41,
   "metadata": {},
   "outputs": [
    {
     "name": "stdout",
     "output_type": "stream",
     "text": [
      "[[ 0.01060017 -0.00150124  0.0199236   0.01251407 -0.03408172 -0.06526218\n",
      "  -0.01456741  0.05177468  0.01479507 -0.05412593  0.0451182   0.02207622\n",
      "  -0.01590848  0.0027943  -0.0127048   0.02268448  0.05116872  0.02197038\n",
      "  -0.0221251  -0.07535294 -0.00965783  0.01310585  0.07188041  0.02134207\n",
      "   0.03219219 -0.00101714 -0.03723896  0.08177488 -0.01561784 -0.03627349\n",
      "  -0.04867433  0.01988006 -0.0134102  -0.00150729  0.01685519  0.00225457\n",
      "   0.03520798 -0.01059565  0.01654675  0.01469656  0.02491462  0.00711984\n",
      "  -0.05644917  0.0166321   0.08889492  0.01787498 -0.01036914  0.00362322\n",
      "   0.01973347  0.0202044 ]]\n"
     ]
    }
   ],
   "source": [
    "arr = np.empty((0,50), dtype='f')\n",
    "arr = np.append(arr, np.array([model_2.wv['Porsche 718 Cayman']]), axis=0)\n",
    "print(arr)"
   ]
  },
  {
   "cell_type": "code",
   "execution_count": 44,
   "metadata": {},
   "outputs": [
    {
     "name": "stdout",
     "output_type": "stream",
     "text": [
      "[[ 0.01060017 -0.00150124  0.0199236   0.01251407 -0.03408172 -0.06526218\n",
      "  -0.01456741  0.05177468  0.01479507 -0.05412593  0.0451182   0.02207622\n",
      "  -0.01590848  0.0027943  -0.0127048   0.02268448  0.05116872  0.02197038\n",
      "  -0.0221251  -0.07535294 -0.00965783  0.01310585  0.07188041  0.02134207\n",
      "   0.03219219 -0.00101714 -0.03723896  0.08177488 -0.01561784 -0.03627349\n",
      "  -0.04867433  0.01988006 -0.0134102  -0.00150729  0.01685519  0.00225457\n",
      "   0.03520798 -0.01059565  0.01654675  0.01469656  0.02491462  0.00711984\n",
      "  -0.05644917  0.0166321   0.08889492  0.01787498 -0.01036914  0.00362322\n",
      "   0.01973347  0.0202044 ]\n",
      " [-0.05264445  0.03060784  0.06021997 -0.01035581 -0.0388361  -0.18523082\n",
      "  -0.05901085  0.23591615 -0.00240823 -0.141939    0.1556298   0.0810214\n",
      "  -0.02289717 -0.05560675 -0.00728506  0.10461649  0.1292854   0.11271244\n",
      "  -0.06384484 -0.2848309  -0.03150256 -0.00606363  0.21986279  0.02902799\n",
      "   0.13211639 -0.02357716 -0.12490875  0.23516926 -0.00070762 -0.11796266\n",
      "  -0.07170471  0.07317925 -0.0451262   0.05317014  0.02994969 -0.0581973\n",
      "   0.08911805  0.03458966  0.08663215  0.08839706  0.07004776  0.01477928\n",
      "  -0.20548254  0.05472581  0.25055203  0.01405829 -0.09504131 -0.01033837\n",
      "   0.01305397  0.06120781]]\n"
     ]
    }
   ],
   "source": [
    "wrd_vector = model_2.wv[close_words[0][0]]\n",
    "arr = np.append(arr, np.array([wrd_vector]), axis=0)\n",
    "print(arr)"
   ]
  },
  {
   "cell_type": "markdown",
   "metadata": {},
   "source": [
    "# 3) Read pre-trained models\n",
    "\n",
    "As we said, it's usually far better to use some pre-trained embeddings instead of starting from scratches\n",
    "\n",
    "Read more: https://radimrehurek.com/gensim/models/keyedvectors.html\n",
    "\n",
    "\n",
    "I will read GloVe's pre-trained vectors here. Gensim offers download of some other pre-trained vectors. See\n",
    "https://github.com/RaRe-Technologies/gensim-data\n",
    "\n",
    "\n",
    "And a more complete pre-trained vector dataset can be found here\n",
    "http://vectors.nlpl.eu/repository/\n",
    "\n",
    "You may need to manually download them to your disk and let Gensim read in.\n",
    "\n",
    "\n",
    "Another source for Pre-trainned word and phrase vectors from Google: https://code.google.com/archive/p/word2vec/"
   ]
  },
  {
   "cell_type": "code",
   "execution_count": null,
   "metadata": {},
   "outputs": [],
   "source": [
    "import gensim.downloader as api\n",
    "\n",
    "word_vectors = api.load(\"glove-wiki-gigaword-100\")  # load pre-trained word-vectors from gensim-data\n"
   ]
  },
  {
   "cell_type": "markdown",
   "metadata": {},
   "source": [
    "Then we can find similar words"
   ]
  },
  {
   "cell_type": "code",
   "execution_count": null,
   "metadata": {},
   "outputs": [],
   "source": [
    "result = word_vectors.most_similar(positive=['woman'])\n",
    "result"
   ]
  },
  {
   "cell_type": "markdown",
   "metadata": {},
   "source": [
    "As you may observe, girl and man are really different things. So we can use the king/queen and man/women analogy to find what's the similar word to \"woman\", if we hope to find pairs such as (king, queen)"
   ]
  },
  {
   "cell_type": "markdown",
   "metadata": {},
   "source": [
    "$ man = woman + king - queen $"
   ]
  },
  {
   "cell_type": "code",
   "execution_count": null,
   "metadata": {},
   "outputs": [],
   "source": [
    "result = word_vectors.most_similar(positive=['king', 'woman'], negative=['queen'])\n",
    "result"
   ]
  },
  {
   "cell_type": "markdown",
   "metadata": {},
   "source": [
    "$ queen = king + woman - man $"
   ]
  },
  {
   "cell_type": "code",
   "execution_count": null,
   "metadata": {},
   "outputs": [],
   "source": [
    "result = word_vectors.most_similar(positive=[ 'king', 'woman'], negative=['man'])\n",
    "result"
   ]
  },
  {
   "cell_type": "markdown",
   "metadata": {},
   "source": [
    "### Using GoogleNews-vectors-negative300.bin.gz  as an example"
   ]
  },
  {
   "cell_type": "markdown",
   "metadata": {},
   "source": [
    "The GoogleNews-vectors-negative300.bin.gz is pretty large and I won't upload it to GitHub. Please download it from [the official source](https://drive.google.com/file/d/0B7XkCwpI5KDYNlNUTTlSS21pQmM/edit?resourcekey=0-wjGZdNAUop6WykTtMip30g) to your local computer if you want to try out the following code. "
   ]
  },
  {
   "cell_type": "code",
   "execution_count": null,
   "metadata": {},
   "outputs": [],
   "source": [
    "file = '/Users/percychan/Tech/GoogleNews-vectors-negative300.bin'"
   ]
  },
  {
   "cell_type": "code",
   "execution_count": null,
   "metadata": {},
   "outputs": [],
   "source": [
    "# Load pretrained model (since intermediate data is not included, the model cannot be refined with additional data)\n",
    "\n",
    "model_google = gensim.models.KeyedVectors.load_word2vec_format(file, binary=True,limit= 100000) "
   ]
  },
  {
   "cell_type": "code",
   "execution_count": null,
   "metadata": {},
   "outputs": [],
   "source": [
    "dog = model_google['dog']\n",
    "print(dog.shape)\n",
    "print(dog)"
   ]
  },
  {
   "cell_type": "code",
   "execution_count": null,
   "metadata": {},
   "outputs": [],
   "source": [
    "# Deal with an out of dictionary word: Михаил (Michail)\n",
    "if 'Михаил' in model_google:\n",
    "    print(model_google['Михаил'].shape)\n",
    "else:\n",
    "    print('{0} is an out of dictionary word'.format('Михаил'))"
   ]
  },
  {
   "cell_type": "code",
   "execution_count": null,
   "metadata": {},
   "outputs": [],
   "source": [
    "# Some predefined functions that show content related information for given words\n",
    "model_google.most_similar(positive=['woman', 'king'], negative=['man'])"
   ]
  },
  {
   "cell_type": "code",
   "execution_count": null,
   "metadata": {},
   "outputs": [],
   "source": [
    "vec = model_google['king'] - model_google['man'] + model_google['woman']\n",
    "model_google.most_similar([vec])"
   ]
  },
  {
   "cell_type": "code",
   "execution_count": null,
   "metadata": {},
   "outputs": [],
   "source": [
    "vec = model_google['Berlin'] - model_google['Germany'] + model_google['China']\n",
    "model_google.most_similar([vec])"
   ]
  },
  {
   "cell_type": "code",
   "execution_count": null,
   "metadata": {},
   "outputs": [],
   "source": [
    "vec = model_google['Germany'] - model_google['Berlin'] + model_google['Beijing']\n",
    "model_google.most_similar([vec])"
   ]
  },
  {
   "cell_type": "code",
   "execution_count": null,
   "metadata": {},
   "outputs": [],
   "source": [
    "vec = model_google['Messi'] - model_google['soccer'] + model_google['tennis']\n",
    "model_google.most_similar([vec])"
   ]
  },
  {
   "cell_type": "code",
   "execution_count": null,
   "metadata": {},
   "outputs": [],
   "source": [
    "model_google.doesnt_match(\"breakfast economics dinner lunch\".split())"
   ]
  },
  {
   "cell_type": "code",
   "execution_count": null,
   "metadata": {},
   "outputs": [],
   "source": [
    "model_google.similarity('woman', 'man')"
   ]
  },
  {
   "cell_type": "code",
   "execution_count": null,
   "metadata": {},
   "outputs": [],
   "source": [
    "model_google.similarity('Harvard', 'Stanford')"
   ]
  },
  {
   "cell_type": "code",
   "execution_count": null,
   "metadata": {},
   "outputs": [],
   "source": [
    "model_google.similarity('Cambridge', 'Oxford')"
   ]
  },
  {
   "cell_type": "code",
   "execution_count": null,
   "metadata": {},
   "outputs": [],
   "source": [
    "model_google.most_similar('Harvard')"
   ]
  },
  {
   "cell_type": "code",
   "execution_count": null,
   "metadata": {},
   "outputs": [],
   "source": [
    "model_google.similarity('HKUST', 'HKU')"
   ]
  },
  {
   "cell_type": "code",
   "execution_count": null,
   "metadata": {},
   "outputs": [],
   "source": [
    "model_google.similarity('Economics', 'Sociology')"
   ]
  },
  {
   "cell_type": "code",
   "execution_count": null,
   "metadata": {},
   "outputs": [],
   "source": [
    "model_google.similarity('Statistics', 'Economics')"
   ]
  },
  {
   "cell_type": "code",
   "execution_count": null,
   "metadata": {},
   "outputs": [],
   "source": [
    "model_google.similarity('Statistics', 'Sociology')"
   ]
  },
  {
   "cell_type": "markdown",
   "metadata": {},
   "source": [
    "# Software \n",
    "- GloVe: https://nlp.stanford.edu/projects/glove/\n",
    "- Word2Vec: https://code.google.com/archive/p/word2vec/\n",
    "- Tensorflow Word2Vec tutorial: https://www.tensorflow.org/tutorials/text/word_embeddings"
   ]
  },
  {
   "cell_type": "code",
   "execution_count": null,
   "metadata": {},
   "outputs": [],
   "source": []
  }
 ],
 "metadata": {
  "kernelspec": {
   "display_name": "Python 3 (ipykernel)",
   "language": "python",
   "name": "python3"
  },
  "language_info": {
   "codemirror_mode": {
    "name": "ipython",
    "version": 3
   },
   "file_extension": ".py",
   "mimetype": "text/x-python",
   "name": "python",
   "nbconvert_exporter": "python",
   "pygments_lexer": "ipython3",
   "version": "3.10.9"
  }
 },
 "nbformat": 4,
 "nbformat_minor": 4
}
