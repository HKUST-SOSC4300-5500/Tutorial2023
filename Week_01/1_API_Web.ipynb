{
 "cells": [
  {
   "cell_type": "code",
   "execution_count": null,
   "id": "209b1b59",
   "metadata": {},
   "outputs": [],
   "source": [
    "import arxiv\n",
    "\n",
    "search = arxiv.Search(\n",
    "  query = \"computational social science\",\n",
    "  max_results = 10,\n",
    "  sort_by = arxiv.SortCriterion.SubmittedDate\n",
    ")\n",
    "\n",
    "for result in search.results():\n",
    "  print(result.title)"
   ]
  },
  {
   "cell_type": "code",
   "execution_count": null,
   "id": "e1c6b768",
   "metadata": {},
   "outputs": [],
   "source": [
    "# -*- coding: utf-8 -*-\n",
    "# https://realpython.com/beautiful-soup-web-scraper-python/\n",
    "import requests\n",
    "from bs4 import BeautifulSoup\n",
    "\n",
    "URL = \"https://arxiv.org/search/?query=computational+social+science&searchtype=all&source=summary\"\n",
    "page = requests.get(URL)\n",
    "\n",
    "soup = BeautifulSoup(page.content, \"html.parser\")\n",
    "# print (soup)\n",
    "\n",
    "### as you can see we have returned a lot of very complex HTML pages\n",
    "\n",
    "li = soup.find_all(\"li\")\n",
    "for l in li:\n",
    "\tprint (l)"
   ]
  },
  {
   "cell_type": "code",
   "execution_count": null,
   "id": "b8c6fdfc",
   "metadata": {},
   "outputs": [],
   "source": []
  }
 ],
 "metadata": {
  "kernelspec": {
   "display_name": "Python 3 (ipykernel)",
   "language": "python",
   "name": "python3"
  },
  "language_info": {
   "codemirror_mode": {
    "name": "ipython",
    "version": 3
   },
   "file_extension": ".py",
   "mimetype": "text/x-python",
   "name": "python",
   "nbconvert_exporter": "python",
   "pygments_lexer": "ipython3",
   "version": "3.10.9"
  }
 },
 "nbformat": 4,
 "nbformat_minor": 5
}
