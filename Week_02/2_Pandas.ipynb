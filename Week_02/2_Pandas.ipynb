{
 "cells": [
  {
   "cell_type": "markdown",
   "id": "e39c311b",
   "metadata": {},
   "source": [
    "# Pandas Basics"
   ]
  },
  {
   "cell_type": "code",
   "execution_count": null,
   "id": "8205c633",
   "metadata": {},
   "outputs": [],
   "source": [
    "import pandas as pd\n",
    "import numpy as np\n",
    "pd.__version__"
   ]
  },
  {
   "cell_type": "markdown",
   "id": "41606cf7",
   "metadata": {},
   "source": [
    "## Pandas Series "
   ]
  },
  {
   "cell_type": "code",
   "execution_count": null,
   "id": "7449c28c",
   "metadata": {},
   "outputs": [],
   "source": [
    "data = pd.Series([0.25, 0.5, 0.75, 1.0], index=['a', 'b', 'c', 'd'])\n",
    "data"
   ]
  },
  {
   "cell_type": "code",
   "execution_count": null,
   "id": "b631d806",
   "metadata": {},
   "outputs": [],
   "source": [
    "data.values"
   ]
  },
  {
   "cell_type": "code",
   "execution_count": null,
   "id": "9d297951",
   "metadata": {},
   "outputs": [],
   "source": [
    "data.index"
   ]
  },
  {
   "cell_type": "markdown",
   "id": "0a3e8a2f",
   "metadata": {},
   "source": [
    "Clearly a Pandas `Series` is similar to a Python dictionary"
   ]
  },
  {
   "cell_type": "code",
   "execution_count": null,
   "id": "8b15b01f",
   "metadata": {},
   "outputs": [],
   "source": [
    "data_dict = {'a': 0.25, 'b': 0.5, 'c': 0.75, 'd': 1.0}\n",
    "data = pd.Series(data_dict)\n",
    "data"
   ]
  },
  {
   "cell_type": "markdown",
   "id": "89d5c00c",
   "metadata": {},
   "source": [
    "`Series` can be viewed as dictionary with typed values and typed indeces. Typing makes it more efficient than the original dictionary. "
   ]
  },
  {
   "cell_type": "markdown",
   "id": "7f024020",
   "metadata": {},
   "source": [
    "## Pandas DataFrame "
   ]
  },
  {
   "cell_type": "code",
   "execution_count": null,
   "id": "e695e727",
   "metadata": {},
   "outputs": [],
   "source": [
    "area = pd.Series({'California': 423967, 'Texas': 695662,\n",
    "                          'New York': 141297, 'Florida': 170312,\n",
    "                          'Illinois': 149995})\n",
    "pop = pd.Series({'California': 38332521, 'Texas': 26448193,\n",
    "                         'New York': 19651127, 'Florida': 19552860,\n",
    "                         'Illinois': 12882135})"
   ]
  },
  {
   "cell_type": "code",
   "execution_count": null,
   "id": "d61e8954",
   "metadata": {},
   "outputs": [],
   "source": [
    "table = pd.DataFrame({'area':area, 'pop':pop})\n",
    "table"
   ]
  },
  {
   "cell_type": "code",
   "execution_count": null,
   "id": "25ad2b64",
   "metadata": {},
   "outputs": [],
   "source": [
    "table.index"
   ]
  },
  {
   "cell_type": "code",
   "execution_count": null,
   "id": "d536d784",
   "metadata": {},
   "outputs": [],
   "source": [
    "table.columns"
   ]
  },
  {
   "cell_type": "code",
   "execution_count": null,
   "id": "4fac7bdb",
   "metadata": {},
   "outputs": [],
   "source": [
    "type(table.values)"
   ]
  },
  {
   "cell_type": "markdown",
   "id": "91c6db6c",
   "metadata": {},
   "source": [
    "## Indexing & Selection"
   ]
  },
  {
   "cell_type": "code",
   "execution_count": null,
   "id": "9ce7cac9",
   "metadata": {},
   "outputs": [],
   "source": [
    "data"
   ]
  },
  {
   "cell_type": "code",
   "execution_count": null,
   "id": "2ffcaf91",
   "metadata": {},
   "outputs": [],
   "source": [
    "data['b':'d']\n",
    "# explicit index; final index included"
   ]
  },
  {
   "cell_type": "code",
   "execution_count": null,
   "id": "b418269e",
   "metadata": {},
   "outputs": [],
   "source": [
    "data[0]\n",
    "# implicit index; final index excluded"
   ]
  },
  {
   "cell_type": "code",
   "execution_count": null,
   "id": "9140d6ec",
   "metadata": {},
   "outputs": [],
   "source": [
    "data[(data > 0.3) & (data < 0.8)]\n",
    "# masking"
   ]
  },
  {
   "cell_type": "markdown",
   "id": "a5d84761",
   "metadata": {},
   "source": [
    "Integer indices can cause confusion. "
   ]
  },
  {
   "cell_type": "code",
   "execution_count": null,
   "id": "eefd97f5",
   "metadata": {},
   "outputs": [],
   "source": [
    "data_2 = pd.Series(['a', 'b', 'c'], index=[1, 3, 5])\n",
    "data_2\n"
   ]
  },
  {
   "cell_type": "code",
   "execution_count": null,
   "id": "455c92d7",
   "metadata": {},
   "outputs": [],
   "source": [
    "data_2[1]"
   ]
  },
  {
   "cell_type": "code",
   "execution_count": null,
   "id": "d4aa8621",
   "metadata": {},
   "outputs": [],
   "source": [
    "data_2[1:3]"
   ]
  },
  {
   "cell_type": "markdown",
   "id": "04299623",
   "metadata": {},
   "source": [
    "To make slicing more explicit, we use `loc` and `iloc`"
   ]
  },
  {
   "cell_type": "code",
   "execution_count": null,
   "id": "73d8adf2",
   "metadata": {},
   "outputs": [],
   "source": [
    "data_2.loc[1:3]"
   ]
  },
  {
   "cell_type": "code",
   "execution_count": null,
   "id": "9bb5ae44",
   "metadata": {},
   "outputs": [],
   "source": [
    "data_2.iloc[1:3]"
   ]
  },
  {
   "cell_type": "markdown",
   "id": "08fee2f4",
   "metadata": {},
   "source": [
    "Explicit is always better implicit. "
   ]
  },
  {
   "cell_type": "code",
   "execution_count": null,
   "id": "fa430f88",
   "metadata": {},
   "outputs": [],
   "source": [
    "table"
   ]
  },
  {
   "cell_type": "code",
   "execution_count": null,
   "id": "26561f04",
   "metadata": {},
   "outputs": [],
   "source": [
    "table.iloc[:3, :2]"
   ]
  },
  {
   "cell_type": "code",
   "execution_count": null,
   "id": "46fa4b24",
   "metadata": {},
   "outputs": [],
   "source": [
    "table.loc[:'Illinois', :'pop']"
   ]
  },
  {
   "cell_type": "code",
   "execution_count": null,
   "id": "04524277",
   "metadata": {},
   "outputs": [],
   "source": [
    "table['area']"
   ]
  },
  {
   "cell_type": "code",
   "execution_count": null,
   "id": "008f76cc",
   "metadata": {},
   "outputs": [],
   "source": [
    "table[['area']]"
   ]
  },
  {
   "cell_type": "code",
   "execution_count": null,
   "id": "c25cdd1e",
   "metadata": {},
   "outputs": [],
   "source": [
    "table[table['pop'] > 20000000]"
   ]
  },
  {
   "cell_type": "markdown",
   "id": "16fe5017",
   "metadata": {},
   "source": [
    "## Aggregation & Grouping\n",
    "\n",
    "We use the Planets dataset available in Seaborn package as an example"
   ]
  },
  {
   "cell_type": "code",
   "execution_count": null,
   "id": "e0738805",
   "metadata": {},
   "outputs": [],
   "source": [
    "import seaborn as sns\n",
    "planets = sns.load_dataset('planets')\n",
    "planets.shape"
   ]
  },
  {
   "cell_type": "code",
   "execution_count": null,
   "id": "3cd9bb37",
   "metadata": {},
   "outputs": [],
   "source": [
    "planets.head()"
   ]
  },
  {
   "cell_type": "markdown",
   "id": "9fa9a73c",
   "metadata": {},
   "source": [
    "### Simple aggregation"
   ]
  },
  {
   "cell_type": "code",
   "execution_count": null,
   "id": "30f95b2d",
   "metadata": {},
   "outputs": [],
   "source": [
    "planets.dropna().describe()"
   ]
  },
  {
   "cell_type": "code",
   "execution_count": null,
   "id": "ef92d904",
   "metadata": {},
   "outputs": [],
   "source": [
    "planets['number'].mean(skipna=True)\n",
    "# What's wrong?"
   ]
  },
  {
   "cell_type": "markdown",
   "id": "e4e7e8e2",
   "metadata": {},
   "source": [
    "The following table summarizes some other built-in Pandas aggregations:\n",
    "\n",
    "| Aggregation              | Description                     |\n",
    "|--------------------------|---------------------------------|\n",
    "| ``count()``              | Total number of items           |\n",
    "| ``first()``, ``last()``  | First and last item             |\n",
    "| ``mean()``, ``median()`` | Mean and median                 |\n",
    "| ``min()``, ``max()``     | Minimum and maximum             |\n",
    "| ``std()``, ``var()``     | Standard deviation and variance |\n",
    "| ``mad()``                | Mean absolute deviation         |\n",
    "| ``prod()``               | Product of all items            |\n",
    "| ``sum()``                | Sum of all items                |"
   ]
  },
  {
   "cell_type": "markdown",
   "id": "f3f0e23b",
   "metadata": {},
   "source": [
    "### Groupby: conditional aggregation\n",
    "\n",
    "Often the variable you need has to be constructed. This is part of 'cleaning'. \n",
    "\n",
    "<img src=\"./split-apply-combine.png\" alt=\"drawing\" width=\"600\"/>"
   ]
  },
  {
   "cell_type": "code",
   "execution_count": null,
   "id": "e8f2525c",
   "metadata": {},
   "outputs": [],
   "source": [
    "df = pd.DataFrame({'key': ['A', 'B', 'C', 'A', 'B', 'C'],\n",
    "                   'data': range(6)}, columns=['key', 'data'])\n",
    "df"
   ]
  },
  {
   "cell_type": "code",
   "execution_count": null,
   "id": "c849617f",
   "metadata": {},
   "outputs": [],
   "source": [
    "df.groupby('key').sum()"
   ]
  },
  {
   "cell_type": "code",
   "execution_count": null,
   "id": "31377176",
   "metadata": {},
   "outputs": [],
   "source": [
    "planets.head()"
   ]
  },
  {
   "cell_type": "code",
   "execution_count": null,
   "id": "6279c947",
   "metadata": {},
   "outputs": [],
   "source": [
    "planets.groupby('method')['orbital_period'].median()"
   ]
  },
  {
   "cell_type": "code",
   "execution_count": null,
   "id": "7f5ee301",
   "metadata": {},
   "outputs": [],
   "source": [
    "planets.groupby('method')\n",
    "\n",
    "# Not exactly a DataFrame (for efficiency reasons), but you can treat it as similar."
   ]
  },
  {
   "cell_type": "markdown",
   "id": "f89a68af",
   "metadata": {},
   "source": [
    "## Afterword \n",
    "\n",
    "- The material in this notebook is mainly drawn from Chapter 3 of [Python Data Science Handbook](https://jakevdp.github.io/PythonDataScienceHandbook/index.html) by Jake VanderPlas — Much more to learn!\n",
    "- For similar functions and tools in R, see [R for Data Science](https://r4ds.had.co.nz/index.html) — You may find tidyverse in R a better interface for data cleaning than Pandas (I do). "
   ]
  }
 ],
 "metadata": {
  "kernelspec": {
   "display_name": "Python 3 (ipykernel)",
   "language": "python",
   "name": "python3"
  },
  "language_info": {
   "codemirror_mode": {
    "name": "ipython",
    "version": 3
   },
   "file_extension": ".py",
   "mimetype": "text/x-python",
   "name": "python",
   "nbconvert_exporter": "python",
   "pygments_lexer": "ipython3",
   "version": "3.10.9"
  },
  "vscode": {
   "interpreter": {
    "hash": "017238bbfd654dd33bf785849b92926b283e8d49a08333fbcfe4217fb1dd6281"
   }
  }
 },
 "nbformat": 4,
 "nbformat_minor": 5
}
